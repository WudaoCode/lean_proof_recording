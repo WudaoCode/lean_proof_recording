{
 "metadata": {
  "language_info": {
   "codemirror_mode": {
    "name": "ipython",
    "version": 3
   },
   "file_extension": ".py",
   "mimetype": "text/x-python",
   "name": "python",
   "nbconvert_exporter": "python",
   "pygments_lexer": "ipython3",
   "version": "3.8.5"
  },
  "orig_nbformat": 2,
  "kernelspec": {
   "name": "python3",
   "display_name": "Python 3.8.5 64-bit (conda)"
  },
  "interpreter": {
   "hash": "44b085c88637170b78eaf0eb2fce20df4b00e5857441b8c0f7fece75f04e5cf9"
  }
 },
 "nbformat": 4,
 "nbformat_minor": 2,
 "cells": [
  {
   "source": [
    "# The datasets"
   ],
   "cell_type": "markdown",
   "metadata": {}
  },
  {
   "source": [
    "This is a quick look a the datasets generated in this project."
   ],
   "cell_type": "markdown",
   "metadata": {}
  },
  {
   "cell_type": "code",
   "execution_count": 1,
   "metadata": {},
   "outputs": [],
   "source": [
    "import jsonlines\n",
    "from pathlib import Path\n",
    "\n",
    "import pandas as pd"
   ]
  },
  {
   "cell_type": "code",
   "execution_count": 2,
   "metadata": {},
   "outputs": [],
   "source": [
    "DATA_DIRECTORY = Path(\"./data/\")  # change as necessary"
   ]
  },
  {
   "source": [
    "## The traced data"
   ],
   "cell_type": "markdown",
   "metadata": {}
  },
  {
   "source": [
    "This is the data which was traced by the tracing code and gathered into tables."
   ],
   "cell_type": "markdown",
   "metadata": {}
  },
  {
   "source": [
    "`tactic_instances` includes position data and a unique key for every tactic that was executed and traced (which is not every tactic in the code)"
   ],
   "cell_type": "markdown",
   "metadata": {}
  },
  {
   "cell_type": "code",
   "execution_count": 3,
   "metadata": {},
   "outputs": [
    {
     "output_type": "execute_result",
     "data": {
      "text/plain": [
       "                 table          key  executed  \\\n",
       "0     tactic_instances  2001:20:2:1      True   \n",
       "1     tactic_instances   2013:4:1:1      True   \n",
       "2     tactic_instances   2016:4:1:1      True   \n",
       "3     tactic_instances   2019:4:1:1      True   \n",
       "4     tactic_instances   2010:4:1:1      True   \n",
       "...                ...          ...       ...   \n",
       "2223  tactic_instances     55:7:1:1      True   \n",
       "2224  tactic_instances    55:16:1:2      True   \n",
       "2225  tactic_instances    55:38:1:3      True   \n",
       "2226  tactic_instances   130:68:1:1      True   \n",
       "2227  tactic_instances   133:68:1:1      True   \n",
       "\n",
       "                                      filename  trace_pos_line  \\\n",
       "0      lean/library/init/meta/interactive.lean            2036   \n",
       "1      lean/library/init/meta/interactive.lean            2013   \n",
       "2      lean/library/init/meta/interactive.lean            2016   \n",
       "3      lean/library/init/meta/interactive.lean            2019   \n",
       "4      lean/library/init/meta/interactive.lean            2010   \n",
       "...                                        ...             ...   \n",
       "2223  lean/library/init/data/char/classes.lean              55   \n",
       "2224  lean/library/init/data/char/classes.lean              55   \n",
       "2225  lean/library/init/data/char/classes.lean              55   \n",
       "2226         lean/library/init/meta/float.lean             130   \n",
       "2227         lean/library/init/meta/float.lean             133   \n",
       "\n",
       "      trace_pos_column  line  column  depth  index       proof        block  \\\n",
       "0                    1  2001      20      2      1  2037:4:1:1  2001:20:2:1   \n",
       "1                    4  2013       4      1      1  2013:4:1:1   2013:4:1:1   \n",
       "2                    4  2016       4      1      1  2016:4:1:1   2016:4:1:1   \n",
       "3                    4  2019       4      1      1  2019:4:1:1   2019:4:1:1   \n",
       "4                    4  2010       4      1      1  2010:4:1:1   2010:4:1:1   \n",
       "...                ...   ...     ...    ...    ...         ...          ...   \n",
       "2223                 7    55       7      1      1    55:7:1:1     55:7:1:1   \n",
       "2224                16    55      16      1      2    55:7:1:1     55:7:1:1   \n",
       "2225                38    55      38      1      3    55:7:1:1     55:7:1:1   \n",
       "2226                68   130      68      1      1  130:68:1:1   130:68:1:1   \n",
       "2227                68   133      68      1      1  133:68:1:1   133:68:1:1   \n",
       "\n",
       "          parent        prev  succeeded  \n",
       "0     2037:4:1:1  2037:4:1:1        1.0  \n",
       "1        0:0:0:0     0:0:0:0        1.0  \n",
       "2        0:0:0:0     0:0:0:0        1.0  \n",
       "3        0:0:0:0     0:0:0:0        1.0  \n",
       "4        0:0:0:0     0:0:0:0        1.0  \n",
       "...          ...         ...        ...  \n",
       "2223     0:0:0:0     0:0:0:0        1.0  \n",
       "2224     0:0:0:0    55:7:1:1        1.0  \n",
       "2225     0:0:0:0   55:16:1:2        1.0  \n",
       "2226     0:0:0:0     0:0:0:0        1.0  \n",
       "2227     0:0:0:0     0:0:0:0        1.0  \n",
       "\n",
       "[2228 rows x 15 columns]"
      ],
      "text/html": "<div>\n<style scoped>\n    .dataframe tbody tr th:only-of-type {\n        vertical-align: middle;\n    }\n\n    .dataframe tbody tr th {\n        vertical-align: top;\n    }\n\n    .dataframe thead th {\n        text-align: right;\n    }\n</style>\n<table border=\"1\" class=\"dataframe\">\n  <thead>\n    <tr style=\"text-align: right;\">\n      <th></th>\n      <th>table</th>\n      <th>key</th>\n      <th>executed</th>\n      <th>filename</th>\n      <th>trace_pos_line</th>\n      <th>trace_pos_column</th>\n      <th>line</th>\n      <th>column</th>\n      <th>depth</th>\n      <th>index</th>\n      <th>proof</th>\n      <th>block</th>\n      <th>parent</th>\n      <th>prev</th>\n      <th>succeeded</th>\n    </tr>\n  </thead>\n  <tbody>\n    <tr>\n      <th>0</th>\n      <td>tactic_instances</td>\n      <td>2001:20:2:1</td>\n      <td>True</td>\n      <td>lean/library/init/meta/interactive.lean</td>\n      <td>2036</td>\n      <td>1</td>\n      <td>2001</td>\n      <td>20</td>\n      <td>2</td>\n      <td>1</td>\n      <td>2037:4:1:1</td>\n      <td>2001:20:2:1</td>\n      <td>2037:4:1:1</td>\n      <td>2037:4:1:1</td>\n      <td>1.0</td>\n    </tr>\n    <tr>\n      <th>1</th>\n      <td>tactic_instances</td>\n      <td>2013:4:1:1</td>\n      <td>True</td>\n      <td>lean/library/init/meta/interactive.lean</td>\n      <td>2013</td>\n      <td>4</td>\n      <td>2013</td>\n      <td>4</td>\n      <td>1</td>\n      <td>1</td>\n      <td>2013:4:1:1</td>\n      <td>2013:4:1:1</td>\n      <td>0:0:0:0</td>\n      <td>0:0:0:0</td>\n      <td>1.0</td>\n    </tr>\n    <tr>\n      <th>2</th>\n      <td>tactic_instances</td>\n      <td>2016:4:1:1</td>\n      <td>True</td>\n      <td>lean/library/init/meta/interactive.lean</td>\n      <td>2016</td>\n      <td>4</td>\n      <td>2016</td>\n      <td>4</td>\n      <td>1</td>\n      <td>1</td>\n      <td>2016:4:1:1</td>\n      <td>2016:4:1:1</td>\n      <td>0:0:0:0</td>\n      <td>0:0:0:0</td>\n      <td>1.0</td>\n    </tr>\n    <tr>\n      <th>3</th>\n      <td>tactic_instances</td>\n      <td>2019:4:1:1</td>\n      <td>True</td>\n      <td>lean/library/init/meta/interactive.lean</td>\n      <td>2019</td>\n      <td>4</td>\n      <td>2019</td>\n      <td>4</td>\n      <td>1</td>\n      <td>1</td>\n      <td>2019:4:1:1</td>\n      <td>2019:4:1:1</td>\n      <td>0:0:0:0</td>\n      <td>0:0:0:0</td>\n      <td>1.0</td>\n    </tr>\n    <tr>\n      <th>4</th>\n      <td>tactic_instances</td>\n      <td>2010:4:1:1</td>\n      <td>True</td>\n      <td>lean/library/init/meta/interactive.lean</td>\n      <td>2010</td>\n      <td>4</td>\n      <td>2010</td>\n      <td>4</td>\n      <td>1</td>\n      <td>1</td>\n      <td>2010:4:1:1</td>\n      <td>2010:4:1:1</td>\n      <td>0:0:0:0</td>\n      <td>0:0:0:0</td>\n      <td>1.0</td>\n    </tr>\n    <tr>\n      <th>...</th>\n      <td>...</td>\n      <td>...</td>\n      <td>...</td>\n      <td>...</td>\n      <td>...</td>\n      <td>...</td>\n      <td>...</td>\n      <td>...</td>\n      <td>...</td>\n      <td>...</td>\n      <td>...</td>\n      <td>...</td>\n      <td>...</td>\n      <td>...</td>\n      <td>...</td>\n    </tr>\n    <tr>\n      <th>2223</th>\n      <td>tactic_instances</td>\n      <td>55:7:1:1</td>\n      <td>True</td>\n      <td>lean/library/init/data/char/classes.lean</td>\n      <td>55</td>\n      <td>7</td>\n      <td>55</td>\n      <td>7</td>\n      <td>1</td>\n      <td>1</td>\n      <td>55:7:1:1</td>\n      <td>55:7:1:1</td>\n      <td>0:0:0:0</td>\n      <td>0:0:0:0</td>\n      <td>1.0</td>\n    </tr>\n    <tr>\n      <th>2224</th>\n      <td>tactic_instances</td>\n      <td>55:16:1:2</td>\n      <td>True</td>\n      <td>lean/library/init/data/char/classes.lean</td>\n      <td>55</td>\n      <td>16</td>\n      <td>55</td>\n      <td>16</td>\n      <td>1</td>\n      <td>2</td>\n      <td>55:7:1:1</td>\n      <td>55:7:1:1</td>\n      <td>0:0:0:0</td>\n      <td>55:7:1:1</td>\n      <td>1.0</td>\n    </tr>\n    <tr>\n      <th>2225</th>\n      <td>tactic_instances</td>\n      <td>55:38:1:3</td>\n      <td>True</td>\n      <td>lean/library/init/data/char/classes.lean</td>\n      <td>55</td>\n      <td>38</td>\n      <td>55</td>\n      <td>38</td>\n      <td>1</td>\n      <td>3</td>\n      <td>55:7:1:1</td>\n      <td>55:7:1:1</td>\n      <td>0:0:0:0</td>\n      <td>55:16:1:2</td>\n      <td>1.0</td>\n    </tr>\n    <tr>\n      <th>2226</th>\n      <td>tactic_instances</td>\n      <td>130:68:1:1</td>\n      <td>True</td>\n      <td>lean/library/init/meta/float.lean</td>\n      <td>130</td>\n      <td>68</td>\n      <td>130</td>\n      <td>68</td>\n      <td>1</td>\n      <td>1</td>\n      <td>130:68:1:1</td>\n      <td>130:68:1:1</td>\n      <td>0:0:0:0</td>\n      <td>0:0:0:0</td>\n      <td>1.0</td>\n    </tr>\n    <tr>\n      <th>2227</th>\n      <td>tactic_instances</td>\n      <td>133:68:1:1</td>\n      <td>True</td>\n      <td>lean/library/init/meta/float.lean</td>\n      <td>133</td>\n      <td>68</td>\n      <td>133</td>\n      <td>68</td>\n      <td>1</td>\n      <td>1</td>\n      <td>133:68:1:1</td>\n      <td>133:68:1:1</td>\n      <td>0:0:0:0</td>\n      <td>0:0:0:0</td>\n      <td>1.0</td>\n    </tr>\n  </tbody>\n</table>\n<p>2228 rows × 15 columns</p>\n</div>"
     },
     "metadata": {},
     "execution_count": 3
    }
   ],
   "source": [
    "tactic_instances = pd.read_json(\n",
    "    DATA_DIRECTORY / \"raw_traced_data\" / \"tactic_instances.jsonl\",\n",
    "    orient=\"records\",\n",
    "    lines=True \n",
    ")\n",
    "tactic_instances"
   ]
  },
  {
   "source": [
    "`tactic_state.json` includes basic tactic state information both before and after the tactic executes (again, only for recorded tactics which are a subset of all tactics in the code).  This can be added to."
   ],
   "cell_type": "markdown",
   "metadata": {}
  },
  {
   "cell_type": "code",
   "execution_count": 4,
   "metadata": {},
   "outputs": [
    {
     "output_type": "execute_result",
     "data": {
      "text/plain": [
       "             table                 key tactic_instance  \\\n",
       "0     tactic_state  2001:20:2:1:before     2001:20:2:1   \n",
       "1     tactic_state   2001:20:2:1:after     2001:20:2:1   \n",
       "2     tactic_state   2013:4:1:1:before      2013:4:1:1   \n",
       "3     tactic_state    2013:4:1:1:after      2013:4:1:1   \n",
       "4     tactic_state   2016:4:1:1:before      2016:4:1:1   \n",
       "...            ...                 ...             ...   \n",
       "4450  tactic_state     55:38:1:3:after       55:38:1:3   \n",
       "4451  tactic_state   130:68:1:1:before      130:68:1:1   \n",
       "4452  tactic_state    130:68:1:1:after      130:68:1:1   \n",
       "4453  tactic_state   133:68:1:1:before      133:68:1:1   \n",
       "4454  tactic_state    133:68:1:1:after      133:68:1:1   \n",
       "\n",
       "                                      filename  trace_pos_line  \\\n",
       "0      lean/library/init/meta/interactive.lean            2036   \n",
       "1      lean/library/init/meta/interactive.lean            2036   \n",
       "2      lean/library/init/meta/interactive.lean            2013   \n",
       "3      lean/library/init/meta/interactive.lean            2013   \n",
       "4      lean/library/init/meta/interactive.lean            2016   \n",
       "...                                        ...             ...   \n",
       "4450  lean/library/init/data/char/classes.lean              55   \n",
       "4451         lean/library/init/meta/float.lean             130   \n",
       "4452         lean/library/init/meta/float.lean             130   \n",
       "4453         lean/library/init/meta/float.lean             133   \n",
       "4454         lean/library/init/meta/float.lean             133   \n",
       "\n",
       "      trace_pos_column before_after  env_fingerprint  \\\n",
       "0                    1       before     3.935797e+18   \n",
       "1                    1        after     3.935797e+18   \n",
       "2                    4       before     3.935797e+18   \n",
       "3                    4        after     3.935797e+18   \n",
       "4                    4       before     3.935797e+18   \n",
       "...                ...          ...              ...   \n",
       "4450                38        after     2.065460e+18   \n",
       "4451                68       before     5.557396e+18   \n",
       "4452                68        after     5.557396e+18   \n",
       "4453                68       before     9.627839e+18   \n",
       "4454                68        after     9.627839e+18   \n",
       "\n",
       "                          decl_name  \\\n",
       "0                   nat.succ.inj_eq   \n",
       "1                   nat.succ.inj_eq   \n",
       "2                    sum.inr.inj_eq   \n",
       "3                    sum.inr.inj_eq   \n",
       "4                   psum.inl.inj_eq   \n",
       "...                             ...   \n",
       "4450  char.decidable_is_punctuation   \n",
       "4451      native.float.decidable_lt   \n",
       "4452      native.float.decidable_lt   \n",
       "4453      native.float.decidable_le   \n",
       "4454      native.float.decidable_le   \n",
       "\n",
       "                                        open_namespaces  goal_count  \n",
       "0     `interactive `expr `tactic `tactic.interactive...           1  \n",
       "1     `interactive `expr `tactic `tactic.interactive...           1  \n",
       "2     `interactive `expr `tactic `tactic.interactive...           1  \n",
       "3     `interactive `expr `tactic `tactic.interactive...           0  \n",
       "4     `interactive `expr `tactic `tactic.interactive...           1  \n",
       "...                                                 ...         ...  \n",
       "4450                                              `char           0  \n",
       "4451  `native.float `native `native.float.specification           1  \n",
       "4452  `native.float `native `native.float.specification           0  \n",
       "4453  `native.float `native `native.float.specification           1  \n",
       "4454  `native.float `native `native.float.specification           0  \n",
       "\n",
       "[4455 rows x 11 columns]"
      ],
      "text/html": "<div>\n<style scoped>\n    .dataframe tbody tr th:only-of-type {\n        vertical-align: middle;\n    }\n\n    .dataframe tbody tr th {\n        vertical-align: top;\n    }\n\n    .dataframe thead th {\n        text-align: right;\n    }\n</style>\n<table border=\"1\" class=\"dataframe\">\n  <thead>\n    <tr style=\"text-align: right;\">\n      <th></th>\n      <th>table</th>\n      <th>key</th>\n      <th>tactic_instance</th>\n      <th>filename</th>\n      <th>trace_pos_line</th>\n      <th>trace_pos_column</th>\n      <th>before_after</th>\n      <th>env_fingerprint</th>\n      <th>decl_name</th>\n      <th>open_namespaces</th>\n      <th>goal_count</th>\n    </tr>\n  </thead>\n  <tbody>\n    <tr>\n      <th>0</th>\n      <td>tactic_state</td>\n      <td>2001:20:2:1:before</td>\n      <td>2001:20:2:1</td>\n      <td>lean/library/init/meta/interactive.lean</td>\n      <td>2036</td>\n      <td>1</td>\n      <td>before</td>\n      <td>3.935797e+18</td>\n      <td>nat.succ.inj_eq</td>\n      <td>`interactive `expr `tactic `tactic.interactive...</td>\n      <td>1</td>\n    </tr>\n    <tr>\n      <th>1</th>\n      <td>tactic_state</td>\n      <td>2001:20:2:1:after</td>\n      <td>2001:20:2:1</td>\n      <td>lean/library/init/meta/interactive.lean</td>\n      <td>2036</td>\n      <td>1</td>\n      <td>after</td>\n      <td>3.935797e+18</td>\n      <td>nat.succ.inj_eq</td>\n      <td>`interactive `expr `tactic `tactic.interactive...</td>\n      <td>1</td>\n    </tr>\n    <tr>\n      <th>2</th>\n      <td>tactic_state</td>\n      <td>2013:4:1:1:before</td>\n      <td>2013:4:1:1</td>\n      <td>lean/library/init/meta/interactive.lean</td>\n      <td>2013</td>\n      <td>4</td>\n      <td>before</td>\n      <td>3.935797e+18</td>\n      <td>sum.inr.inj_eq</td>\n      <td>`interactive `expr `tactic `tactic.interactive...</td>\n      <td>1</td>\n    </tr>\n    <tr>\n      <th>3</th>\n      <td>tactic_state</td>\n      <td>2013:4:1:1:after</td>\n      <td>2013:4:1:1</td>\n      <td>lean/library/init/meta/interactive.lean</td>\n      <td>2013</td>\n      <td>4</td>\n      <td>after</td>\n      <td>3.935797e+18</td>\n      <td>sum.inr.inj_eq</td>\n      <td>`interactive `expr `tactic `tactic.interactive...</td>\n      <td>0</td>\n    </tr>\n    <tr>\n      <th>4</th>\n      <td>tactic_state</td>\n      <td>2016:4:1:1:before</td>\n      <td>2016:4:1:1</td>\n      <td>lean/library/init/meta/interactive.lean</td>\n      <td>2016</td>\n      <td>4</td>\n      <td>before</td>\n      <td>3.935797e+18</td>\n      <td>psum.inl.inj_eq</td>\n      <td>`interactive `expr `tactic `tactic.interactive...</td>\n      <td>1</td>\n    </tr>\n    <tr>\n      <th>...</th>\n      <td>...</td>\n      <td>...</td>\n      <td>...</td>\n      <td>...</td>\n      <td>...</td>\n      <td>...</td>\n      <td>...</td>\n      <td>...</td>\n      <td>...</td>\n      <td>...</td>\n      <td>...</td>\n    </tr>\n    <tr>\n      <th>4450</th>\n      <td>tactic_state</td>\n      <td>55:38:1:3:after</td>\n      <td>55:38:1:3</td>\n      <td>lean/library/init/data/char/classes.lean</td>\n      <td>55</td>\n      <td>38</td>\n      <td>after</td>\n      <td>2.065460e+18</td>\n      <td>char.decidable_is_punctuation</td>\n      <td>`char</td>\n      <td>0</td>\n    </tr>\n    <tr>\n      <th>4451</th>\n      <td>tactic_state</td>\n      <td>130:68:1:1:before</td>\n      <td>130:68:1:1</td>\n      <td>lean/library/init/meta/float.lean</td>\n      <td>130</td>\n      <td>68</td>\n      <td>before</td>\n      <td>5.557396e+18</td>\n      <td>native.float.decidable_lt</td>\n      <td>`native.float `native `native.float.specification</td>\n      <td>1</td>\n    </tr>\n    <tr>\n      <th>4452</th>\n      <td>tactic_state</td>\n      <td>130:68:1:1:after</td>\n      <td>130:68:1:1</td>\n      <td>lean/library/init/meta/float.lean</td>\n      <td>130</td>\n      <td>68</td>\n      <td>after</td>\n      <td>5.557396e+18</td>\n      <td>native.float.decidable_lt</td>\n      <td>`native.float `native `native.float.specification</td>\n      <td>0</td>\n    </tr>\n    <tr>\n      <th>4453</th>\n      <td>tactic_state</td>\n      <td>133:68:1:1:before</td>\n      <td>133:68:1:1</td>\n      <td>lean/library/init/meta/float.lean</td>\n      <td>133</td>\n      <td>68</td>\n      <td>before</td>\n      <td>9.627839e+18</td>\n      <td>native.float.decidable_le</td>\n      <td>`native.float `native `native.float.specification</td>\n      <td>1</td>\n    </tr>\n    <tr>\n      <th>4454</th>\n      <td>tactic_state</td>\n      <td>133:68:1:1:after</td>\n      <td>133:68:1:1</td>\n      <td>lean/library/init/meta/float.lean</td>\n      <td>133</td>\n      <td>68</td>\n      <td>after</td>\n      <td>9.627839e+18</td>\n      <td>native.float.decidable_le</td>\n      <td>`native.float `native `native.float.specification</td>\n      <td>0</td>\n    </tr>\n  </tbody>\n</table>\n<p>4455 rows × 11 columns</p>\n</div>"
     },
     "metadata": {},
     "execution_count": 4
    }
   ],
   "source": [
    "tactic_state = pd.read_json(\n",
    "    DATA_DIRECTORY / \"raw_traced_data\" / \"tactic_state.jsonl\",\n",
    "    orient=\"records\",\n",
    "    lines=True \n",
    ")\n",
    "tactic_state"
   ]
  },
  {
   "source": [
    "`tactic_state_goal.json` includes basic tactic state goal information both before and after the tactic executes."
   ],
   "cell_type": "markdown",
   "metadata": {}
  },
  {
   "cell_type": "code",
   "execution_count": 5,
   "metadata": {},
   "outputs": [
    {
     "output_type": "execute_result",
     "data": {
      "text/plain": [
       "                  table                   key        tactic_state  \\\n",
       "0     tactic_state_goal  2001:20:2:1:before:0  2001:20:2:1:before   \n",
       "1     tactic_state_goal   2001:20:2:1:after:0   2001:20:2:1:after   \n",
       "2     tactic_state_goal   2013:4:1:1:before:0   2013:4:1:1:before   \n",
       "3     tactic_state_goal    2013:4:1:1:after:0    2013:4:1:1:after   \n",
       "4     tactic_state_goal   2016:4:1:1:before:0   2016:4:1:1:before   \n",
       "...                 ...                   ...                 ...   \n",
       "4450  tactic_state_goal     55:38:1:3:after:0     55:38:1:3:after   \n",
       "4451  tactic_state_goal   130:68:1:1:before:0   130:68:1:1:before   \n",
       "4452  tactic_state_goal    130:68:1:1:after:0    130:68:1:1:after   \n",
       "4453  tactic_state_goal   133:68:1:1:before:0   133:68:1:1:before   \n",
       "4454  tactic_state_goal    133:68:1:1:after:0    133:68:1:1:after   \n",
       "\n",
       "                                      filename  trace_pos_line  \\\n",
       "0      lean/library/init/meta/interactive.lean            2036   \n",
       "1      lean/library/init/meta/interactive.lean            2036   \n",
       "2      lean/library/init/meta/interactive.lean            2013   \n",
       "3      lean/library/init/meta/interactive.lean            2013   \n",
       "4      lean/library/init/meta/interactive.lean            2016   \n",
       "...                                        ...             ...   \n",
       "4450  lean/library/init/data/char/classes.lean              55   \n",
       "4451         lean/library/init/meta/float.lean             130   \n",
       "4452         lean/library/init/meta/float.lean             130   \n",
       "4453         lean/library/init/meta/float.lean             133   \n",
       "4454         lean/library/init/meta/float.lean             133   \n",
       "\n",
       "      trace_pos_column  ix   goal_hash  \\\n",
       "0                    1   0  1007282764   \n",
       "1                    1   0  1007282764   \n",
       "2                    4   0   915601722   \n",
       "3                    4   0           0   \n",
       "4                    4   0  1068360152   \n",
       "...                ...  ..         ...   \n",
       "4450                38   0           0   \n",
       "4451                68   0  1831301430   \n",
       "4452                68   0           0   \n",
       "4453                68   0  1773001608   \n",
       "4454                68   0           0   \n",
       "\n",
       "                                                goal_pp  \n",
       "0          n₁ n₂ : ℕ,\\nᾰ : n₁ = n₂\\n⊢ n₁.succ = n₂.succ  \n",
       "1          n₁ n₂ : ℕ,\\nᾰ : n₁ = n₂\\n⊢ n₁.succ = n₂.succ  \n",
       "2     α : Type u,\\nβ : Type v,\\nb₁ b₂ : β\\n⊢ sum.inr...  \n",
       "3                                                        \n",
       "4     α : Sort u,\\nβ : Sort v,\\na₁ a₂ : α\\n⊢ psum.in...  \n",
       "...                                                 ...  \n",
       "4450                                                     \n",
       "4451  decidable_lt : decidable_rel has_lt.lt\\n⊢ deci...  \n",
       "4452                                                     \n",
       "4453  decidable_le : decidable_rel has_le.le\\n⊢ deci...  \n",
       "4454                                                     \n",
       "\n",
       "[4455 rows x 9 columns]"
      ],
      "text/html": "<div>\n<style scoped>\n    .dataframe tbody tr th:only-of-type {\n        vertical-align: middle;\n    }\n\n    .dataframe tbody tr th {\n        vertical-align: top;\n    }\n\n    .dataframe thead th {\n        text-align: right;\n    }\n</style>\n<table border=\"1\" class=\"dataframe\">\n  <thead>\n    <tr style=\"text-align: right;\">\n      <th></th>\n      <th>table</th>\n      <th>key</th>\n      <th>tactic_state</th>\n      <th>filename</th>\n      <th>trace_pos_line</th>\n      <th>trace_pos_column</th>\n      <th>ix</th>\n      <th>goal_hash</th>\n      <th>goal_pp</th>\n    </tr>\n  </thead>\n  <tbody>\n    <tr>\n      <th>0</th>\n      <td>tactic_state_goal</td>\n      <td>2001:20:2:1:before:0</td>\n      <td>2001:20:2:1:before</td>\n      <td>lean/library/init/meta/interactive.lean</td>\n      <td>2036</td>\n      <td>1</td>\n      <td>0</td>\n      <td>1007282764</td>\n      <td>n₁ n₂ : ℕ,\\nᾰ : n₁ = n₂\\n⊢ n₁.succ = n₂.succ</td>\n    </tr>\n    <tr>\n      <th>1</th>\n      <td>tactic_state_goal</td>\n      <td>2001:20:2:1:after:0</td>\n      <td>2001:20:2:1:after</td>\n      <td>lean/library/init/meta/interactive.lean</td>\n      <td>2036</td>\n      <td>1</td>\n      <td>0</td>\n      <td>1007282764</td>\n      <td>n₁ n₂ : ℕ,\\nᾰ : n₁ = n₂\\n⊢ n₁.succ = n₂.succ</td>\n    </tr>\n    <tr>\n      <th>2</th>\n      <td>tactic_state_goal</td>\n      <td>2013:4:1:1:before:0</td>\n      <td>2013:4:1:1:before</td>\n      <td>lean/library/init/meta/interactive.lean</td>\n      <td>2013</td>\n      <td>4</td>\n      <td>0</td>\n      <td>915601722</td>\n      <td>α : Type u,\\nβ : Type v,\\nb₁ b₂ : β\\n⊢ sum.inr...</td>\n    </tr>\n    <tr>\n      <th>3</th>\n      <td>tactic_state_goal</td>\n      <td>2013:4:1:1:after:0</td>\n      <td>2013:4:1:1:after</td>\n      <td>lean/library/init/meta/interactive.lean</td>\n      <td>2013</td>\n      <td>4</td>\n      <td>0</td>\n      <td>0</td>\n      <td></td>\n    </tr>\n    <tr>\n      <th>4</th>\n      <td>tactic_state_goal</td>\n      <td>2016:4:1:1:before:0</td>\n      <td>2016:4:1:1:before</td>\n      <td>lean/library/init/meta/interactive.lean</td>\n      <td>2016</td>\n      <td>4</td>\n      <td>0</td>\n      <td>1068360152</td>\n      <td>α : Sort u,\\nβ : Sort v,\\na₁ a₂ : α\\n⊢ psum.in...</td>\n    </tr>\n    <tr>\n      <th>...</th>\n      <td>...</td>\n      <td>...</td>\n      <td>...</td>\n      <td>...</td>\n      <td>...</td>\n      <td>...</td>\n      <td>...</td>\n      <td>...</td>\n      <td>...</td>\n    </tr>\n    <tr>\n      <th>4450</th>\n      <td>tactic_state_goal</td>\n      <td>55:38:1:3:after:0</td>\n      <td>55:38:1:3:after</td>\n      <td>lean/library/init/data/char/classes.lean</td>\n      <td>55</td>\n      <td>38</td>\n      <td>0</td>\n      <td>0</td>\n      <td></td>\n    </tr>\n    <tr>\n      <th>4451</th>\n      <td>tactic_state_goal</td>\n      <td>130:68:1:1:before:0</td>\n      <td>130:68:1:1:before</td>\n      <td>lean/library/init/meta/float.lean</td>\n      <td>130</td>\n      <td>68</td>\n      <td>0</td>\n      <td>1831301430</td>\n      <td>decidable_lt : decidable_rel has_lt.lt\\n⊢ deci...</td>\n    </tr>\n    <tr>\n      <th>4452</th>\n      <td>tactic_state_goal</td>\n      <td>130:68:1:1:after:0</td>\n      <td>130:68:1:1:after</td>\n      <td>lean/library/init/meta/float.lean</td>\n      <td>130</td>\n      <td>68</td>\n      <td>0</td>\n      <td>0</td>\n      <td></td>\n    </tr>\n    <tr>\n      <th>4453</th>\n      <td>tactic_state_goal</td>\n      <td>133:68:1:1:before:0</td>\n      <td>133:68:1:1:before</td>\n      <td>lean/library/init/meta/float.lean</td>\n      <td>133</td>\n      <td>68</td>\n      <td>0</td>\n      <td>1773001608</td>\n      <td>decidable_le : decidable_rel has_le.le\\n⊢ deci...</td>\n    </tr>\n    <tr>\n      <th>4454</th>\n      <td>tactic_state_goal</td>\n      <td>133:68:1:1:after:0</td>\n      <td>133:68:1:1:after</td>\n      <td>lean/library/init/meta/float.lean</td>\n      <td>133</td>\n      <td>68</td>\n      <td>0</td>\n      <td>0</td>\n      <td></td>\n    </tr>\n  </tbody>\n</table>\n<p>4455 rows × 9 columns</p>\n</div>"
     },
     "metadata": {},
     "execution_count": 5
    }
   ],
   "source": [
    "tactic_state_goal = pd.read_json(\n",
    "    DATA_DIRECTORY / \"raw_traced_data\" / \"tactic_state_goal.jsonl\",\n",
    "    orient='records',\n",
    "    lines=True\n",
    ")\n",
    "tactic_state_goal"
   ]
  },
  {
   "source": [
    "`tactic_param_pos` includes position data for every *interactive* tactic parameter.  There are some parameters which are not included since they don't go through the parser."
   ],
   "cell_type": "markdown",
   "metadata": {}
  },
  {
   "cell_type": "code",
   "execution_count": 6,
   "metadata": {},
   "outputs": [
    {
     "output_type": "execute_result",
     "data": {
      "text/plain": [
       "                 table      key  line  \\\n",
       "0     tactic_param_pos   1985:9  1985   \n",
       "1     tactic_param_pos   1998:9  1998   \n",
       "2     tactic_param_pos   1999:9  1999   \n",
       "3     tactic_param_pos  2001:11  2001   \n",
       "4     tactic_param_pos  2001:18  2001   \n",
       "...                ...      ...   ...   \n",
       "2507  tactic_param_pos    52:22    52   \n",
       "2508  tactic_param_pos    52:33    52   \n",
       "2509  tactic_param_pos    55:13    55   \n",
       "2510  tactic_param_pos    55:22    55   \n",
       "2511  tactic_param_pos    55:36    55   \n",
       "\n",
       "                                      filename  trace_pos_line  \\\n",
       "0      lean/library/init/meta/interactive.lean            1983   \n",
       "1      lean/library/init/meta/interactive.lean            1983   \n",
       "2      lean/library/init/meta/interactive.lean            1983   \n",
       "3      lean/library/init/meta/interactive.lean            1983   \n",
       "4      lean/library/init/meta/interactive.lean            1983   \n",
       "...                                        ...             ...   \n",
       "2507  lean/library/init/data/char/classes.lean              51   \n",
       "2508  lean/library/init/data/char/classes.lean              51   \n",
       "2509  lean/library/init/data/char/classes.lean              54   \n",
       "2510  lean/library/init/data/char/classes.lean              54   \n",
       "2511  lean/library/init/data/char/classes.lean              54   \n",
       "\n",
       "      trace_pos_column  column  end_line  end_column  \n",
       "0                    6       9      1985           9  \n",
       "1                    6       9      1998          23  \n",
       "2                    6       9      1999          25  \n",
       "3                    6      11      2001          12  \n",
       "4                    6      18      2001          43  \n",
       "...                ...     ...       ...         ...  \n",
       "2507                 1      22        52          33  \n",
       "2508                 1      33        52          33  \n",
       "2509                 1      13        55          14  \n",
       "2510                 1      22        55          36  \n",
       "2511                 1      36        55          36  \n",
       "\n",
       "[2512 rows x 9 columns]"
      ],
      "text/html": "<div>\n<style scoped>\n    .dataframe tbody tr th:only-of-type {\n        vertical-align: middle;\n    }\n\n    .dataframe tbody tr th {\n        vertical-align: top;\n    }\n\n    .dataframe thead th {\n        text-align: right;\n    }\n</style>\n<table border=\"1\" class=\"dataframe\">\n  <thead>\n    <tr style=\"text-align: right;\">\n      <th></th>\n      <th>table</th>\n      <th>key</th>\n      <th>line</th>\n      <th>filename</th>\n      <th>trace_pos_line</th>\n      <th>trace_pos_column</th>\n      <th>column</th>\n      <th>end_line</th>\n      <th>end_column</th>\n    </tr>\n  </thead>\n  <tbody>\n    <tr>\n      <th>0</th>\n      <td>tactic_param_pos</td>\n      <td>1985:9</td>\n      <td>1985</td>\n      <td>lean/library/init/meta/interactive.lean</td>\n      <td>1983</td>\n      <td>6</td>\n      <td>9</td>\n      <td>1985</td>\n      <td>9</td>\n    </tr>\n    <tr>\n      <th>1</th>\n      <td>tactic_param_pos</td>\n      <td>1998:9</td>\n      <td>1998</td>\n      <td>lean/library/init/meta/interactive.lean</td>\n      <td>1983</td>\n      <td>6</td>\n      <td>9</td>\n      <td>1998</td>\n      <td>23</td>\n    </tr>\n    <tr>\n      <th>2</th>\n      <td>tactic_param_pos</td>\n      <td>1999:9</td>\n      <td>1999</td>\n      <td>lean/library/init/meta/interactive.lean</td>\n      <td>1983</td>\n      <td>6</td>\n      <td>9</td>\n      <td>1999</td>\n      <td>25</td>\n    </tr>\n    <tr>\n      <th>3</th>\n      <td>tactic_param_pos</td>\n      <td>2001:11</td>\n      <td>2001</td>\n      <td>lean/library/init/meta/interactive.lean</td>\n      <td>1983</td>\n      <td>6</td>\n      <td>11</td>\n      <td>2001</td>\n      <td>12</td>\n    </tr>\n    <tr>\n      <th>4</th>\n      <td>tactic_param_pos</td>\n      <td>2001:18</td>\n      <td>2001</td>\n      <td>lean/library/init/meta/interactive.lean</td>\n      <td>1983</td>\n      <td>6</td>\n      <td>18</td>\n      <td>2001</td>\n      <td>43</td>\n    </tr>\n    <tr>\n      <th>...</th>\n      <td>...</td>\n      <td>...</td>\n      <td>...</td>\n      <td>...</td>\n      <td>...</td>\n      <td>...</td>\n      <td>...</td>\n      <td>...</td>\n      <td>...</td>\n    </tr>\n    <tr>\n      <th>2507</th>\n      <td>tactic_param_pos</td>\n      <td>52:22</td>\n      <td>52</td>\n      <td>lean/library/init/data/char/classes.lean</td>\n      <td>51</td>\n      <td>1</td>\n      <td>22</td>\n      <td>52</td>\n      <td>33</td>\n    </tr>\n    <tr>\n      <th>2508</th>\n      <td>tactic_param_pos</td>\n      <td>52:33</td>\n      <td>52</td>\n      <td>lean/library/init/data/char/classes.lean</td>\n      <td>51</td>\n      <td>1</td>\n      <td>33</td>\n      <td>52</td>\n      <td>33</td>\n    </tr>\n    <tr>\n      <th>2509</th>\n      <td>tactic_param_pos</td>\n      <td>55:13</td>\n      <td>55</td>\n      <td>lean/library/init/data/char/classes.lean</td>\n      <td>54</td>\n      <td>1</td>\n      <td>13</td>\n      <td>55</td>\n      <td>14</td>\n    </tr>\n    <tr>\n      <th>2510</th>\n      <td>tactic_param_pos</td>\n      <td>55:22</td>\n      <td>55</td>\n      <td>lean/library/init/data/char/classes.lean</td>\n      <td>54</td>\n      <td>1</td>\n      <td>22</td>\n      <td>55</td>\n      <td>36</td>\n    </tr>\n    <tr>\n      <th>2511</th>\n      <td>tactic_param_pos</td>\n      <td>55:36</td>\n      <td>55</td>\n      <td>lean/library/init/data/char/classes.lean</td>\n      <td>54</td>\n      <td>1</td>\n      <td>36</td>\n      <td>55</td>\n      <td>36</td>\n    </tr>\n  </tbody>\n</table>\n<p>2512 rows × 9 columns</p>\n</div>"
     },
     "metadata": {},
     "execution_count": 6
    }
   ],
   "source": [
    "tactic_param_pos = pd.read_json(\n",
    "    DATA_DIRECTORY / \"raw_traced_data\" / \"tactic_param_pos.jsonl\", \n",
    "    orient='records',\n",
    "    lines=True\n",
    ")\n",
    "tactic_param_pos"
   ]
  },
  {
   "source": [
    "`tactic_param_value` includes a pretty printed version of the value passed to the tactic argument.  This is not necessarily how it appears in the lean code, but it is how Lean internally receives the data.  A user code add more tracing code to present this in more ways."
   ],
   "cell_type": "markdown",
   "metadata": {}
  },
  {
   "cell_type": "code",
   "execution_count": 7,
   "metadata": {},
   "outputs": [
    {
     "output_type": "execute_result",
     "data": {
      "text/plain": [
       "                   table      key  \\\n",
       "0     tactic_param_value   1985:9   \n",
       "1     tactic_param_value   1998:9   \n",
       "2     tactic_param_value   1999:9   \n",
       "3     tactic_param_value  2001:11   \n",
       "4     tactic_param_value  2001:34   \n",
       "...                  ...      ...   \n",
       "2507  tactic_param_value    52:22   \n",
       "2508  tactic_param_value    52:33   \n",
       "2509  tactic_param_value    55:13   \n",
       "2510  tactic_param_value    55:22   \n",
       "2511  tactic_param_value    55:36   \n",
       "\n",
       "                                     reflected_expr_pp  \\\n",
       "0                                             list.nil   \n",
       "1                                   ``(_root_.propext)   \n",
       "2                                 ``(_root_.iff.intro)   \n",
       "3             some (name.mk_string \"_\" name.anonymous)   \n",
       "4                                              some ()   \n",
       "...                                                ...   \n",
       "2507     [name.mk_string \"is_alphanum\" name.anonymous]   \n",
       "2508                         interactive.loc.ns [none]   \n",
       "2509          some (name.mk_string \"c\" name.anonymous)   \n",
       "2510  [name.mk_string \"is_punctuation\" name.anonymous]   \n",
       "2511                         interactive.loc.ns [none]   \n",
       "\n",
       "                                      filename  trace_pos_line  \\\n",
       "0      lean/library/init/meta/interactive.lean            1983   \n",
       "1      lean/library/init/meta/interactive.lean            1983   \n",
       "2      lean/library/init/meta/interactive.lean            1983   \n",
       "3      lean/library/init/meta/interactive.lean            1983   \n",
       "4      lean/library/init/meta/interactive.lean            1983   \n",
       "...                                        ...             ...   \n",
       "2507  lean/library/init/data/char/classes.lean              51   \n",
       "2508  lean/library/init/data/char/classes.lean              51   \n",
       "2509  lean/library/init/data/char/classes.lean              54   \n",
       "2510  lean/library/init/data/char/classes.lean              54   \n",
       "2511  lean/library/init/data/char/classes.lean              54   \n",
       "\n",
       "      trace_pos_column  \n",
       "0                    6  \n",
       "1                    6  \n",
       "2                    6  \n",
       "3                    6  \n",
       "4                    6  \n",
       "...                ...  \n",
       "2507                 1  \n",
       "2508                 1  \n",
       "2509                 1  \n",
       "2510                 1  \n",
       "2511                 1  \n",
       "\n",
       "[2512 rows x 6 columns]"
      ],
      "text/html": "<div>\n<style scoped>\n    .dataframe tbody tr th:only-of-type {\n        vertical-align: middle;\n    }\n\n    .dataframe tbody tr th {\n        vertical-align: top;\n    }\n\n    .dataframe thead th {\n        text-align: right;\n    }\n</style>\n<table border=\"1\" class=\"dataframe\">\n  <thead>\n    <tr style=\"text-align: right;\">\n      <th></th>\n      <th>table</th>\n      <th>key</th>\n      <th>reflected_expr_pp</th>\n      <th>filename</th>\n      <th>trace_pos_line</th>\n      <th>trace_pos_column</th>\n    </tr>\n  </thead>\n  <tbody>\n    <tr>\n      <th>0</th>\n      <td>tactic_param_value</td>\n      <td>1985:9</td>\n      <td>list.nil</td>\n      <td>lean/library/init/meta/interactive.lean</td>\n      <td>1983</td>\n      <td>6</td>\n    </tr>\n    <tr>\n      <th>1</th>\n      <td>tactic_param_value</td>\n      <td>1998:9</td>\n      <td>``(_root_.propext)</td>\n      <td>lean/library/init/meta/interactive.lean</td>\n      <td>1983</td>\n      <td>6</td>\n    </tr>\n    <tr>\n      <th>2</th>\n      <td>tactic_param_value</td>\n      <td>1999:9</td>\n      <td>``(_root_.iff.intro)</td>\n      <td>lean/library/init/meta/interactive.lean</td>\n      <td>1983</td>\n      <td>6</td>\n    </tr>\n    <tr>\n      <th>3</th>\n      <td>tactic_param_value</td>\n      <td>2001:11</td>\n      <td>some (name.mk_string \"_\" name.anonymous)</td>\n      <td>lean/library/init/meta/interactive.lean</td>\n      <td>1983</td>\n      <td>6</td>\n    </tr>\n    <tr>\n      <th>4</th>\n      <td>tactic_param_value</td>\n      <td>2001:34</td>\n      <td>some ()</td>\n      <td>lean/library/init/meta/interactive.lean</td>\n      <td>1983</td>\n      <td>6</td>\n    </tr>\n    <tr>\n      <th>...</th>\n      <td>...</td>\n      <td>...</td>\n      <td>...</td>\n      <td>...</td>\n      <td>...</td>\n      <td>...</td>\n    </tr>\n    <tr>\n      <th>2507</th>\n      <td>tactic_param_value</td>\n      <td>52:22</td>\n      <td>[name.mk_string \"is_alphanum\" name.anonymous]</td>\n      <td>lean/library/init/data/char/classes.lean</td>\n      <td>51</td>\n      <td>1</td>\n    </tr>\n    <tr>\n      <th>2508</th>\n      <td>tactic_param_value</td>\n      <td>52:33</td>\n      <td>interactive.loc.ns [none]</td>\n      <td>lean/library/init/data/char/classes.lean</td>\n      <td>51</td>\n      <td>1</td>\n    </tr>\n    <tr>\n      <th>2509</th>\n      <td>tactic_param_value</td>\n      <td>55:13</td>\n      <td>some (name.mk_string \"c\" name.anonymous)</td>\n      <td>lean/library/init/data/char/classes.lean</td>\n      <td>54</td>\n      <td>1</td>\n    </tr>\n    <tr>\n      <th>2510</th>\n      <td>tactic_param_value</td>\n      <td>55:22</td>\n      <td>[name.mk_string \"is_punctuation\" name.anonymous]</td>\n      <td>lean/library/init/data/char/classes.lean</td>\n      <td>54</td>\n      <td>1</td>\n    </tr>\n    <tr>\n      <th>2511</th>\n      <td>tactic_param_value</td>\n      <td>55:36</td>\n      <td>interactive.loc.ns [none]</td>\n      <td>lean/library/init/data/char/classes.lean</td>\n      <td>54</td>\n      <td>1</td>\n    </tr>\n  </tbody>\n</table>\n<p>2512 rows × 6 columns</p>\n</div>"
     },
     "metadata": {},
     "execution_count": 7
    }
   ],
   "source": [
    "tactic_param_value = pd.read_json(\n",
    "    DATA_DIRECTORY / \"raw_traced_data\" / \"tactic_param_value.jsonl\",\n",
    "    orient='records',\n",
    "    lines=True\n",
    ")\n",
    "tactic_param_value"
   ]
  },
  {
   "source": [
    "## Extracted Proof Data"
   ],
   "cell_type": "markdown",
   "metadata": {}
  },
  {
   "source": [
    "`proof_trees.json` is a list of abstract syntax trees for each proof.  It doesn't contain much data itself, but has keys to rows in the following tables.  (Unlike the other datasets, this is not a 2D table.)"
   ],
   "cell_type": "markdown",
   "metadata": {}
  },
  {
   "cell_type": "code",
   "execution_count": 8,
   "metadata": {},
   "outputs": [
    {
     "output_type": "execute_result",
     "data": {
      "text/plain": [
       "{'key': 'lean/library/init/data/array/slice.lean:20:7',\n",
       " 'node_type': 'proof',\n",
       " 'node_subtype': 'by',\n",
       " 'tactic': {'key': 'lean/library/init/data/array/slice.lean:20:10',\n",
       "  'node_type': 'tactic',\n",
       "  'node_subtype': 'named',\n",
       "  'args': [{'key': 'lean/library/init/data/array/slice.lean:20:14',\n",
       "    'node_type': 'tactic_arg',\n",
       "    'node_subtype': 'expression'}]}}"
      ]
     },
     "metadata": {},
     "execution_count": 8
    }
   ],
   "source": [
    "with jsonlines.open(DATA_DIRECTORY / \"extracted_proof_data\" / \"proof_trees.jsonl\") as f:\n",
    "    proof_trees = list(f)\n",
    "proof_trees[0]"
   ]
  },
  {
   "source": [
    "`proofs.json` contains the Lean human-written text for all tactic proofs along with some other extracted information."
   ],
   "cell_type": "markdown",
   "metadata": {}
  },
  {
   "cell_type": "code",
   "execution_count": 9,
   "metadata": {},
   "outputs": [
    {
     "output_type": "execute_result",
     "data": {
      "text/plain": [
       "                                                key  \\\n",
       "0      lean/library/init/data/array/slice.lean:20:7   \n",
       "1     lean/library/init/data/array/slice.lean:26:44   \n",
       "2      lean/library/init/data/array/slice.lean:30:7   \n",
       "3      lean/library/init/data/array/slice.lean:34:3   \n",
       "4     lean/library/init/algebra/functions.lean:33:1   \n",
       "..                                              ...   \n",
       "622  lean/library/init/data/nat/lemmas.lean:1278:23   \n",
       "623   lean/library/init/data/nat/lemmas.lean:1281:1   \n",
       "624   lean/library/init/data/nat/lemmas.lean:1286:1   \n",
       "625   lean/library/init/data/nat/lemmas.lean:1293:1   \n",
       "626   lean/library/init/data/nat/lemmas.lean:1317:1   \n",
       "\n",
       "                                     filename  start_line  start_column  \\\n",
       "0     lean/library/init/data/array/slice.lean          20             7   \n",
       "1     lean/library/init/data/array/slice.lean          26            44   \n",
       "2     lean/library/init/data/array/slice.lean          30             7   \n",
       "3     lean/library/init/data/array/slice.lean          34             3   \n",
       "4    lean/library/init/algebra/functions.lean          33             1   \n",
       "..                                        ...         ...           ...   \n",
       "622    lean/library/init/data/nat/lemmas.lean        1278            23   \n",
       "623    lean/library/init/data/nat/lemmas.lean        1281             1   \n",
       "624    lean/library/init/data/nat/lemmas.lean        1286             1   \n",
       "625    lean/library/init/data/nat/lemmas.lean        1293             1   \n",
       "626    lean/library/init/data/nat/lemmas.lean        1317             1   \n",
       "\n",
       "     end_line  end_column                                        code_string  \\\n",
       "0          20          14                                            by simp   \n",
       "1          27          14               by rw nat.sub_add_cancel; assumption   \n",
       "2          30          34                        by simp [*, sub_sub_cancel]   \n",
       "3          34          76  begin apply nat.sub_lt_of_pos_le, apply nat.ze...   \n",
       "4          35           1                                     by min_tac a b   \n",
       "..        ...         ...                                                ...   \n",
       "622      1278          90  by rw nat.mul_assoc at H1; exact ⟨_, eq_of_mul...   \n",
       "623      1285           1  by rw [nat.mul_comm m k, nat.mul_comm n k] at ...   \n",
       "624      1292           1  begin by_cases hba : b ≤ a, { simp [le_antisym...   \n",
       "625      1299           1  begin by_cases hba : b ≤ a, { simp [le_antisym...   \n",
       "626      1327           1  begin intros h₁ h₂, have m_pos : 0 < m, { appl...   \n",
       "\n",
       "     class parent_key parent_type  index  line  column  \\\n",
       "0       by                             0    20       7   \n",
       "1       by                             0    26      44   \n",
       "2       by                             0    30       7   \n",
       "3    begin                             0    34       3   \n",
       "4       by                             0    33       1   \n",
       "..     ...        ...         ...    ...   ...     ...   \n",
       "622     by                             0  1278      23   \n",
       "623     by                             0  1281       1   \n",
       "624  begin                             0  1286       1   \n",
       "625  begin                             0  1293       1   \n",
       "626  begin                             0  1317       1   \n",
       "\n",
       "                                   first_tactic_key  \n",
       "0     lean/library/init/data/array/slice.lean:20:10  \n",
       "1     lean/library/init/data/array/slice.lean:26:68  \n",
       "2     lean/library/init/data/array/slice.lean:30:10  \n",
       "3      lean/library/init/data/array/slice.lean:34:9  \n",
       "4     lean/library/init/algebra/functions.lean:33:4  \n",
       "..                                              ...  \n",
       "622  lean/library/init/data/nat/lemmas.lean:1278:48  \n",
       "623  lean/library/init/data/nat/lemmas.lean:1281:48  \n",
       "624   lean/library/init/data/nat/lemmas.lean:1287:3  \n",
       "625   lean/library/init/data/nat/lemmas.lean:1294:3  \n",
       "626   lean/library/init/data/nat/lemmas.lean:1318:3  \n",
       "\n",
       "[627 rows x 14 columns]"
      ],
      "text/html": "<div>\n<style scoped>\n    .dataframe tbody tr th:only-of-type {\n        vertical-align: middle;\n    }\n\n    .dataframe tbody tr th {\n        vertical-align: top;\n    }\n\n    .dataframe thead th {\n        text-align: right;\n    }\n</style>\n<table border=\"1\" class=\"dataframe\">\n  <thead>\n    <tr style=\"text-align: right;\">\n      <th></th>\n      <th>key</th>\n      <th>filename</th>\n      <th>start_line</th>\n      <th>start_column</th>\n      <th>end_line</th>\n      <th>end_column</th>\n      <th>code_string</th>\n      <th>class</th>\n      <th>parent_key</th>\n      <th>parent_type</th>\n      <th>index</th>\n      <th>line</th>\n      <th>column</th>\n      <th>first_tactic_key</th>\n    </tr>\n  </thead>\n  <tbody>\n    <tr>\n      <th>0</th>\n      <td>lean/library/init/data/array/slice.lean:20:7</td>\n      <td>lean/library/init/data/array/slice.lean</td>\n      <td>20</td>\n      <td>7</td>\n      <td>20</td>\n      <td>14</td>\n      <td>by simp</td>\n      <td>by</td>\n      <td></td>\n      <td></td>\n      <td>0</td>\n      <td>20</td>\n      <td>7</td>\n      <td>lean/library/init/data/array/slice.lean:20:10</td>\n    </tr>\n    <tr>\n      <th>1</th>\n      <td>lean/library/init/data/array/slice.lean:26:44</td>\n      <td>lean/library/init/data/array/slice.lean</td>\n      <td>26</td>\n      <td>44</td>\n      <td>27</td>\n      <td>14</td>\n      <td>by rw nat.sub_add_cancel; assumption</td>\n      <td>by</td>\n      <td></td>\n      <td></td>\n      <td>0</td>\n      <td>26</td>\n      <td>44</td>\n      <td>lean/library/init/data/array/slice.lean:26:68</td>\n    </tr>\n    <tr>\n      <th>2</th>\n      <td>lean/library/init/data/array/slice.lean:30:7</td>\n      <td>lean/library/init/data/array/slice.lean</td>\n      <td>30</td>\n      <td>7</td>\n      <td>30</td>\n      <td>34</td>\n      <td>by simp [*, sub_sub_cancel]</td>\n      <td>by</td>\n      <td></td>\n      <td></td>\n      <td>0</td>\n      <td>30</td>\n      <td>7</td>\n      <td>lean/library/init/data/array/slice.lean:30:10</td>\n    </tr>\n    <tr>\n      <th>3</th>\n      <td>lean/library/init/data/array/slice.lean:34:3</td>\n      <td>lean/library/init/data/array/slice.lean</td>\n      <td>34</td>\n      <td>3</td>\n      <td>34</td>\n      <td>76</td>\n      <td>begin apply nat.sub_lt_of_pos_le, apply nat.ze...</td>\n      <td>begin</td>\n      <td></td>\n      <td></td>\n      <td>0</td>\n      <td>34</td>\n      <td>3</td>\n      <td>lean/library/init/data/array/slice.lean:34:9</td>\n    </tr>\n    <tr>\n      <th>4</th>\n      <td>lean/library/init/algebra/functions.lean:33:1</td>\n      <td>lean/library/init/algebra/functions.lean</td>\n      <td>33</td>\n      <td>1</td>\n      <td>35</td>\n      <td>1</td>\n      <td>by min_tac a b</td>\n      <td>by</td>\n      <td></td>\n      <td></td>\n      <td>0</td>\n      <td>33</td>\n      <td>1</td>\n      <td>lean/library/init/algebra/functions.lean:33:4</td>\n    </tr>\n    <tr>\n      <th>...</th>\n      <td>...</td>\n      <td>...</td>\n      <td>...</td>\n      <td>...</td>\n      <td>...</td>\n      <td>...</td>\n      <td>...</td>\n      <td>...</td>\n      <td>...</td>\n      <td>...</td>\n      <td>...</td>\n      <td>...</td>\n      <td>...</td>\n      <td>...</td>\n    </tr>\n    <tr>\n      <th>622</th>\n      <td>lean/library/init/data/nat/lemmas.lean:1278:23</td>\n      <td>lean/library/init/data/nat/lemmas.lean</td>\n      <td>1278</td>\n      <td>23</td>\n      <td>1278</td>\n      <td>90</td>\n      <td>by rw nat.mul_assoc at H1; exact ⟨_, eq_of_mul...</td>\n      <td>by</td>\n      <td></td>\n      <td></td>\n      <td>0</td>\n      <td>1278</td>\n      <td>23</td>\n      <td>lean/library/init/data/nat/lemmas.lean:1278:48</td>\n    </tr>\n    <tr>\n      <th>623</th>\n      <td>lean/library/init/data/nat/lemmas.lean:1281:1</td>\n      <td>lean/library/init/data/nat/lemmas.lean</td>\n      <td>1281</td>\n      <td>1</td>\n      <td>1285</td>\n      <td>1</td>\n      <td>by rw [nat.mul_comm m k, nat.mul_comm n k] at ...</td>\n      <td>by</td>\n      <td></td>\n      <td></td>\n      <td>0</td>\n      <td>1281</td>\n      <td>1</td>\n      <td>lean/library/init/data/nat/lemmas.lean:1281:48</td>\n    </tr>\n    <tr>\n      <th>624</th>\n      <td>lean/library/init/data/nat/lemmas.lean:1286:1</td>\n      <td>lean/library/init/data/nat/lemmas.lean</td>\n      <td>1286</td>\n      <td>1</td>\n      <td>1292</td>\n      <td>1</td>\n      <td>begin by_cases hba : b ≤ a, { simp [le_antisym...</td>\n      <td>begin</td>\n      <td></td>\n      <td></td>\n      <td>0</td>\n      <td>1286</td>\n      <td>1</td>\n      <td>lean/library/init/data/nat/lemmas.lean:1287:3</td>\n    </tr>\n    <tr>\n      <th>625</th>\n      <td>lean/library/init/data/nat/lemmas.lean:1293:1</td>\n      <td>lean/library/init/data/nat/lemmas.lean</td>\n      <td>1293</td>\n      <td>1</td>\n      <td>1299</td>\n      <td>1</td>\n      <td>begin by_cases hba : b ≤ a, { simp [le_antisym...</td>\n      <td>begin</td>\n      <td></td>\n      <td></td>\n      <td>0</td>\n      <td>1293</td>\n      <td>1</td>\n      <td>lean/library/init/data/nat/lemmas.lean:1294:3</td>\n    </tr>\n    <tr>\n      <th>626</th>\n      <td>lean/library/init/data/nat/lemmas.lean:1317:1</td>\n      <td>lean/library/init/data/nat/lemmas.lean</td>\n      <td>1317</td>\n      <td>1</td>\n      <td>1327</td>\n      <td>1</td>\n      <td>begin intros h₁ h₂, have m_pos : 0 &lt; m, { appl...</td>\n      <td>begin</td>\n      <td></td>\n      <td></td>\n      <td>0</td>\n      <td>1317</td>\n      <td>1</td>\n      <td>lean/library/init/data/nat/lemmas.lean:1318:3</td>\n    </tr>\n  </tbody>\n</table>\n<p>627 rows × 14 columns</p>\n</div>"
     },
     "metadata": {},
     "execution_count": 9
    }
   ],
   "source": [
    "proofs = pd.read_json(\n",
    "    DATA_DIRECTORY / \"extracted_proof_data\" / \"proofs.jsonl\",\n",
    "    orient=\"records\",\n",
    "    lines=True\n",
    ")\n",
    "proofs"
   ]
  },
  {
   "source": [
    "`tactics.json` contains the Lean human-written text for all tactic commands along with some other extracted information."
   ],
   "cell_type": "markdown",
   "metadata": {}
  },
  {
   "cell_type": "code",
   "execution_count": 10,
   "metadata": {},
   "outputs": [
    {
     "output_type": "execute_result",
     "data": {
      "text/plain": [
       "                                                 key  \\\n",
       "0      lean/library/init/data/array/slice.lean:20:10   \n",
       "1      lean/library/init/data/array/slice.lean:26:47   \n",
       "2      lean/library/init/data/array/slice.lean:26:70   \n",
       "3      lean/library/init/data/array/slice.lean:26:68   \n",
       "4      lean/library/init/data/array/slice.lean:30:10   \n",
       "...                                              ...   \n",
       "2052   lean/library/init/data/nat/lemmas.lean:1320:3   \n",
       "2053   lean/library/init/data/nat/lemmas.lean:1321:5   \n",
       "2054   lean/library/init/data/nat/lemmas.lean:1322:5   \n",
       "2055  lean/library/init/data/nat/lemmas.lean:1320:29   \n",
       "2056   lean/library/init/data/nat/lemmas.lean:1324:3   \n",
       "\n",
       "                                     filename  start_line  start_column  \\\n",
       "0     lean/library/init/data/array/slice.lean          20            10   \n",
       "1     lean/library/init/data/array/slice.lean          26            47   \n",
       "2     lean/library/init/data/array/slice.lean          26            70   \n",
       "3     lean/library/init/data/array/slice.lean          26            47   \n",
       "4     lean/library/init/data/array/slice.lean          30            10   \n",
       "...                                       ...         ...           ...   \n",
       "2052   lean/library/init/data/nat/lemmas.lean        1320             3   \n",
       "2053   lean/library/init/data/nat/lemmas.lean        1321             5   \n",
       "2054   lean/library/init/data/nat/lemmas.lean        1322             5   \n",
       "2055   lean/library/init/data/nat/lemmas.lean        1320            29   \n",
       "2056   lean/library/init/data/nat/lemmas.lean        1324             3   \n",
       "\n",
       "      end_line  end_column                                        code_string  \\\n",
       "0           20          14                                               simp   \n",
       "1           26          68                              rw nat.sub_add_cancel   \n",
       "2           27          14                                         assumption   \n",
       "3           27          14                  rw nat.sub_add_cancel; assumption   \n",
       "4           30          34                           simp [*, sub_sub_cancel]   \n",
       "...        ...         ...                                                ...   \n",
       "2052      1320          27                           suffices : 1 * n < m * n   \n",
       "2053      1321          43             rw [nat.one_mul, nat.mul_comm] at this   \n",
       "2054      1323           3  exact iff.mpr (nat.div_lt_iff_lt_mul n n m_pos...   \n",
       "2055      1323           4  { rw [nat.one_mul, nat.mul_comm] at this, exac...   \n",
       "2056      1325           1             exact nat.mul_lt_mul h₂ (le_refl _) h₁   \n",
       "\n",
       "          class                                      parent_key parent_type  \\\n",
       "0         named    lean/library/init/data/array/slice.lean:20:7       proof   \n",
       "1         named   lean/library/init/data/array/slice.lean:26:68      tactic   \n",
       "2         named   lean/library/init/data/array/slice.lean:26:68      tactic   \n",
       "3     semicolon   lean/library/init/data/array/slice.lean:26:44       proof   \n",
       "4         named    lean/library/init/data/array/slice.lean:30:7       proof   \n",
       "...         ...                                             ...         ...   \n",
       "2052      named   lean/library/init/data/nat/lemmas.lean:1317:1       proof   \n",
       "2053      named  lean/library/init/data/nat/lemmas.lean:1320:29      tactic   \n",
       "2054      named  lean/library/init/data/nat/lemmas.lean:1320:29      tactic   \n",
       "2055     solve1   lean/library/init/data/nat/lemmas.lean:1317:1       proof   \n",
       "2056      named   lean/library/init/data/nat/lemmas.lean:1317:1       proof   \n",
       "\n",
       "      index  line  column                                      proof_key  \\\n",
       "0         0    20      10   lean/library/init/data/array/slice.lean:20:7   \n",
       "1         0    26      47  lean/library/init/data/array/slice.lean:26:44   \n",
       "2         1    26      70  lean/library/init/data/array/slice.lean:26:44   \n",
       "3         0    26      68  lean/library/init/data/array/slice.lean:26:44   \n",
       "4         0    30      10   lean/library/init/data/array/slice.lean:30:7   \n",
       "...     ...   ...     ...                                            ...   \n",
       "2052      3  1320       3  lean/library/init/data/nat/lemmas.lean:1317:1   \n",
       "2053      0  1321       5  lean/library/init/data/nat/lemmas.lean:1317:1   \n",
       "2054      1  1322       5  lean/library/init/data/nat/lemmas.lean:1317:1   \n",
       "2055      4  1320      29  lean/library/init/data/nat/lemmas.lean:1317:1   \n",
       "2056      5  1324       3  lean/library/init/data/nat/lemmas.lean:1317:1   \n",
       "\n",
       "     trace_key  \n",
       "0      20:10:1  \n",
       "1      26:47:2  \n",
       "2      26:70:2  \n",
       "3      26:68:1  \n",
       "4      30:10:1  \n",
       "...        ...  \n",
       "2052  1320:3:1  \n",
       "2053  1321:5:2  \n",
       "2054  1322:5:2  \n",
       "2055  1323:3:1  \n",
       "2056  1324:3:1  \n",
       "\n",
       "[2057 rows x 15 columns]"
      ],
      "text/html": "<div>\n<style scoped>\n    .dataframe tbody tr th:only-of-type {\n        vertical-align: middle;\n    }\n\n    .dataframe tbody tr th {\n        vertical-align: top;\n    }\n\n    .dataframe thead th {\n        text-align: right;\n    }\n</style>\n<table border=\"1\" class=\"dataframe\">\n  <thead>\n    <tr style=\"text-align: right;\">\n      <th></th>\n      <th>key</th>\n      <th>filename</th>\n      <th>start_line</th>\n      <th>start_column</th>\n      <th>end_line</th>\n      <th>end_column</th>\n      <th>code_string</th>\n      <th>class</th>\n      <th>parent_key</th>\n      <th>parent_type</th>\n      <th>index</th>\n      <th>line</th>\n      <th>column</th>\n      <th>proof_key</th>\n      <th>trace_key</th>\n    </tr>\n  </thead>\n  <tbody>\n    <tr>\n      <th>0</th>\n      <td>lean/library/init/data/array/slice.lean:20:10</td>\n      <td>lean/library/init/data/array/slice.lean</td>\n      <td>20</td>\n      <td>10</td>\n      <td>20</td>\n      <td>14</td>\n      <td>simp</td>\n      <td>named</td>\n      <td>lean/library/init/data/array/slice.lean:20:7</td>\n      <td>proof</td>\n      <td>0</td>\n      <td>20</td>\n      <td>10</td>\n      <td>lean/library/init/data/array/slice.lean:20:7</td>\n      <td>20:10:1</td>\n    </tr>\n    <tr>\n      <th>1</th>\n      <td>lean/library/init/data/array/slice.lean:26:47</td>\n      <td>lean/library/init/data/array/slice.lean</td>\n      <td>26</td>\n      <td>47</td>\n      <td>26</td>\n      <td>68</td>\n      <td>rw nat.sub_add_cancel</td>\n      <td>named</td>\n      <td>lean/library/init/data/array/slice.lean:26:68</td>\n      <td>tactic</td>\n      <td>0</td>\n      <td>26</td>\n      <td>47</td>\n      <td>lean/library/init/data/array/slice.lean:26:44</td>\n      <td>26:47:2</td>\n    </tr>\n    <tr>\n      <th>2</th>\n      <td>lean/library/init/data/array/slice.lean:26:70</td>\n      <td>lean/library/init/data/array/slice.lean</td>\n      <td>26</td>\n      <td>70</td>\n      <td>27</td>\n      <td>14</td>\n      <td>assumption</td>\n      <td>named</td>\n      <td>lean/library/init/data/array/slice.lean:26:68</td>\n      <td>tactic</td>\n      <td>1</td>\n      <td>26</td>\n      <td>70</td>\n      <td>lean/library/init/data/array/slice.lean:26:44</td>\n      <td>26:70:2</td>\n    </tr>\n    <tr>\n      <th>3</th>\n      <td>lean/library/init/data/array/slice.lean:26:68</td>\n      <td>lean/library/init/data/array/slice.lean</td>\n      <td>26</td>\n      <td>47</td>\n      <td>27</td>\n      <td>14</td>\n      <td>rw nat.sub_add_cancel; assumption</td>\n      <td>semicolon</td>\n      <td>lean/library/init/data/array/slice.lean:26:44</td>\n      <td>proof</td>\n      <td>0</td>\n      <td>26</td>\n      <td>68</td>\n      <td>lean/library/init/data/array/slice.lean:26:44</td>\n      <td>26:68:1</td>\n    </tr>\n    <tr>\n      <th>4</th>\n      <td>lean/library/init/data/array/slice.lean:30:10</td>\n      <td>lean/library/init/data/array/slice.lean</td>\n      <td>30</td>\n      <td>10</td>\n      <td>30</td>\n      <td>34</td>\n      <td>simp [*, sub_sub_cancel]</td>\n      <td>named</td>\n      <td>lean/library/init/data/array/slice.lean:30:7</td>\n      <td>proof</td>\n      <td>0</td>\n      <td>30</td>\n      <td>10</td>\n      <td>lean/library/init/data/array/slice.lean:30:7</td>\n      <td>30:10:1</td>\n    </tr>\n    <tr>\n      <th>...</th>\n      <td>...</td>\n      <td>...</td>\n      <td>...</td>\n      <td>...</td>\n      <td>...</td>\n      <td>...</td>\n      <td>...</td>\n      <td>...</td>\n      <td>...</td>\n      <td>...</td>\n      <td>...</td>\n      <td>...</td>\n      <td>...</td>\n      <td>...</td>\n      <td>...</td>\n    </tr>\n    <tr>\n      <th>2052</th>\n      <td>lean/library/init/data/nat/lemmas.lean:1320:3</td>\n      <td>lean/library/init/data/nat/lemmas.lean</td>\n      <td>1320</td>\n      <td>3</td>\n      <td>1320</td>\n      <td>27</td>\n      <td>suffices : 1 * n &lt; m * n</td>\n      <td>named</td>\n      <td>lean/library/init/data/nat/lemmas.lean:1317:1</td>\n      <td>proof</td>\n      <td>3</td>\n      <td>1320</td>\n      <td>3</td>\n      <td>lean/library/init/data/nat/lemmas.lean:1317:1</td>\n      <td>1320:3:1</td>\n    </tr>\n    <tr>\n      <th>2053</th>\n      <td>lean/library/init/data/nat/lemmas.lean:1321:5</td>\n      <td>lean/library/init/data/nat/lemmas.lean</td>\n      <td>1321</td>\n      <td>5</td>\n      <td>1321</td>\n      <td>43</td>\n      <td>rw [nat.one_mul, nat.mul_comm] at this</td>\n      <td>named</td>\n      <td>lean/library/init/data/nat/lemmas.lean:1320:29</td>\n      <td>tactic</td>\n      <td>0</td>\n      <td>1321</td>\n      <td>5</td>\n      <td>lean/library/init/data/nat/lemmas.lean:1317:1</td>\n      <td>1321:5:2</td>\n    </tr>\n    <tr>\n      <th>2054</th>\n      <td>lean/library/init/data/nat/lemmas.lean:1322:5</td>\n      <td>lean/library/init/data/nat/lemmas.lean</td>\n      <td>1322</td>\n      <td>5</td>\n      <td>1323</td>\n      <td>3</td>\n      <td>exact iff.mpr (nat.div_lt_iff_lt_mul n n m_pos...</td>\n      <td>named</td>\n      <td>lean/library/init/data/nat/lemmas.lean:1320:29</td>\n      <td>tactic</td>\n      <td>1</td>\n      <td>1322</td>\n      <td>5</td>\n      <td>lean/library/init/data/nat/lemmas.lean:1317:1</td>\n      <td>1322:5:2</td>\n    </tr>\n    <tr>\n      <th>2055</th>\n      <td>lean/library/init/data/nat/lemmas.lean:1320:29</td>\n      <td>lean/library/init/data/nat/lemmas.lean</td>\n      <td>1320</td>\n      <td>29</td>\n      <td>1323</td>\n      <td>4</td>\n      <td>{ rw [nat.one_mul, nat.mul_comm] at this, exac...</td>\n      <td>solve1</td>\n      <td>lean/library/init/data/nat/lemmas.lean:1317:1</td>\n      <td>proof</td>\n      <td>4</td>\n      <td>1320</td>\n      <td>29</td>\n      <td>lean/library/init/data/nat/lemmas.lean:1317:1</td>\n      <td>1323:3:1</td>\n    </tr>\n    <tr>\n      <th>2056</th>\n      <td>lean/library/init/data/nat/lemmas.lean:1324:3</td>\n      <td>lean/library/init/data/nat/lemmas.lean</td>\n      <td>1324</td>\n      <td>3</td>\n      <td>1325</td>\n      <td>1</td>\n      <td>exact nat.mul_lt_mul h₂ (le_refl _) h₁</td>\n      <td>named</td>\n      <td>lean/library/init/data/nat/lemmas.lean:1317:1</td>\n      <td>proof</td>\n      <td>5</td>\n      <td>1324</td>\n      <td>3</td>\n      <td>lean/library/init/data/nat/lemmas.lean:1317:1</td>\n      <td>1324:3:1</td>\n    </tr>\n  </tbody>\n</table>\n<p>2057 rows × 15 columns</p>\n</div>"
     },
     "metadata": {},
     "execution_count": 10
    }
   ],
   "source": [
    "tactics = pd.read_json(\n",
    "    DATA_DIRECTORY / \"extracted_proof_data\" / \"tactics.jsonl\", \n",
    "    orient='records',\n",
    "    lines=True\n",
    ")\n",
    "tactics"
   ]
  },
  {
   "source": [
    "`args.json` contains the Lean human-written text for all tactic arguements along with some other extracted information."
   ],
   "cell_type": "markdown",
   "metadata": {}
  },
  {
   "cell_type": "code",
   "execution_count": 11,
   "metadata": {},
   "outputs": [
    {
     "output_type": "execute_result",
     "data": {
      "text/plain": [
       "                                                 key  \\\n",
       "0      lean/library/init/data/array/slice.lean:20:14   \n",
       "1      lean/library/init/data/array/slice.lean:26:50   \n",
       "2      lean/library/init/data/array/slice.lean:26:68   \n",
       "3      lean/library/init/data/array/slice.lean:30:15   \n",
       "4      lean/library/init/data/array/slice.lean:30:34   \n",
       "...                                              ...   \n",
       "2481  lean/library/init/data/nat/lemmas.lean:1320:12   \n",
       "2482   lean/library/init/data/nat/lemmas.lean:1321:8   \n",
       "2483  lean/library/init/data/nat/lemmas.lean:1321:36   \n",
       "2484  lean/library/init/data/nat/lemmas.lean:1322:11   \n",
       "2485   lean/library/init/data/nat/lemmas.lean:1324:9   \n",
       "\n",
       "                                     filename  start_line  start_column  \\\n",
       "0     lean/library/init/data/array/slice.lean          20            14   \n",
       "1     lean/library/init/data/array/slice.lean          26            50   \n",
       "2     lean/library/init/data/array/slice.lean          26            68   \n",
       "3     lean/library/init/data/array/slice.lean          30            15   \n",
       "4     lean/library/init/data/array/slice.lean          30            34   \n",
       "...                                       ...         ...           ...   \n",
       "2481   lean/library/init/data/nat/lemmas.lean        1320            12   \n",
       "2482   lean/library/init/data/nat/lemmas.lean        1321             8   \n",
       "2483   lean/library/init/data/nat/lemmas.lean        1321            36   \n",
       "2484   lean/library/init/data/nat/lemmas.lean        1322            11   \n",
       "2485   lean/library/init/data/nat/lemmas.lean        1324             9   \n",
       "\n",
       "      end_line  end_column                                     code_string  \\\n",
       "0           20          14                                                   \n",
       "1           26          68                              nat.sub_add_cancel   \n",
       "2           26          68                                                   \n",
       "3           30          34                             [*, sub_sub_cancel]   \n",
       "4           30          34                                                   \n",
       "...        ...         ...                                             ...   \n",
       "2481      1320          27                                 : 1 * n < m * n   \n",
       "2482      1321          36                     [nat.one_mul, nat.mul_comm]   \n",
       "2483      1321          43                                         at this   \n",
       "2484      1323           3  iff.mpr (nat.div_lt_iff_lt_mul n n m_pos) this   \n",
       "2485      1325           1                nat.mul_lt_mul h₂ (le_refl _) h₁   \n",
       "\n",
       "           class                                     parent_key parent_type  \\\n",
       "0     expression  lean/library/init/data/array/slice.lean:20:10      tactic   \n",
       "1     expression  lean/library/init/data/array/slice.lean:26:47      tactic   \n",
       "2     expression  lean/library/init/data/array/slice.lean:26:47      tactic   \n",
       "3     expression  lean/library/init/data/array/slice.lean:30:10      tactic   \n",
       "4     expression  lean/library/init/data/array/slice.lean:30:10      tactic   \n",
       "...          ...                                            ...         ...   \n",
       "2481  expression  lean/library/init/data/nat/lemmas.lean:1320:3      tactic   \n",
       "2482  expression  lean/library/init/data/nat/lemmas.lean:1321:5      tactic   \n",
       "2483  expression  lean/library/init/data/nat/lemmas.lean:1321:5      tactic   \n",
       "2484  expression  lean/library/init/data/nat/lemmas.lean:1322:5      tactic   \n",
       "2485  expression  lean/library/init/data/nat/lemmas.lean:1324:3      tactic   \n",
       "\n",
       "      index  line  column  \n",
       "0         0    20      14  \n",
       "1         0    26      50  \n",
       "2         1    26      68  \n",
       "3         0    30      15  \n",
       "4         1    30      34  \n",
       "...     ...   ...     ...  \n",
       "2481      0  1320      12  \n",
       "2482      0  1321       8  \n",
       "2483      1  1321      36  \n",
       "2484      0  1322      11  \n",
       "2485      0  1324       9  \n",
       "\n",
       "[2486 rows x 13 columns]"
      ],
      "text/html": "<div>\n<style scoped>\n    .dataframe tbody tr th:only-of-type {\n        vertical-align: middle;\n    }\n\n    .dataframe tbody tr th {\n        vertical-align: top;\n    }\n\n    .dataframe thead th {\n        text-align: right;\n    }\n</style>\n<table border=\"1\" class=\"dataframe\">\n  <thead>\n    <tr style=\"text-align: right;\">\n      <th></th>\n      <th>key</th>\n      <th>filename</th>\n      <th>start_line</th>\n      <th>start_column</th>\n      <th>end_line</th>\n      <th>end_column</th>\n      <th>code_string</th>\n      <th>class</th>\n      <th>parent_key</th>\n      <th>parent_type</th>\n      <th>index</th>\n      <th>line</th>\n      <th>column</th>\n    </tr>\n  </thead>\n  <tbody>\n    <tr>\n      <th>0</th>\n      <td>lean/library/init/data/array/slice.lean:20:14</td>\n      <td>lean/library/init/data/array/slice.lean</td>\n      <td>20</td>\n      <td>14</td>\n      <td>20</td>\n      <td>14</td>\n      <td></td>\n      <td>expression</td>\n      <td>lean/library/init/data/array/slice.lean:20:10</td>\n      <td>tactic</td>\n      <td>0</td>\n      <td>20</td>\n      <td>14</td>\n    </tr>\n    <tr>\n      <th>1</th>\n      <td>lean/library/init/data/array/slice.lean:26:50</td>\n      <td>lean/library/init/data/array/slice.lean</td>\n      <td>26</td>\n      <td>50</td>\n      <td>26</td>\n      <td>68</td>\n      <td>nat.sub_add_cancel</td>\n      <td>expression</td>\n      <td>lean/library/init/data/array/slice.lean:26:47</td>\n      <td>tactic</td>\n      <td>0</td>\n      <td>26</td>\n      <td>50</td>\n    </tr>\n    <tr>\n      <th>2</th>\n      <td>lean/library/init/data/array/slice.lean:26:68</td>\n      <td>lean/library/init/data/array/slice.lean</td>\n      <td>26</td>\n      <td>68</td>\n      <td>26</td>\n      <td>68</td>\n      <td></td>\n      <td>expression</td>\n      <td>lean/library/init/data/array/slice.lean:26:47</td>\n      <td>tactic</td>\n      <td>1</td>\n      <td>26</td>\n      <td>68</td>\n    </tr>\n    <tr>\n      <th>3</th>\n      <td>lean/library/init/data/array/slice.lean:30:15</td>\n      <td>lean/library/init/data/array/slice.lean</td>\n      <td>30</td>\n      <td>15</td>\n      <td>30</td>\n      <td>34</td>\n      <td>[*, sub_sub_cancel]</td>\n      <td>expression</td>\n      <td>lean/library/init/data/array/slice.lean:30:10</td>\n      <td>tactic</td>\n      <td>0</td>\n      <td>30</td>\n      <td>15</td>\n    </tr>\n    <tr>\n      <th>4</th>\n      <td>lean/library/init/data/array/slice.lean:30:34</td>\n      <td>lean/library/init/data/array/slice.lean</td>\n      <td>30</td>\n      <td>34</td>\n      <td>30</td>\n      <td>34</td>\n      <td></td>\n      <td>expression</td>\n      <td>lean/library/init/data/array/slice.lean:30:10</td>\n      <td>tactic</td>\n      <td>1</td>\n      <td>30</td>\n      <td>34</td>\n    </tr>\n    <tr>\n      <th>...</th>\n      <td>...</td>\n      <td>...</td>\n      <td>...</td>\n      <td>...</td>\n      <td>...</td>\n      <td>...</td>\n      <td>...</td>\n      <td>...</td>\n      <td>...</td>\n      <td>...</td>\n      <td>...</td>\n      <td>...</td>\n      <td>...</td>\n    </tr>\n    <tr>\n      <th>2481</th>\n      <td>lean/library/init/data/nat/lemmas.lean:1320:12</td>\n      <td>lean/library/init/data/nat/lemmas.lean</td>\n      <td>1320</td>\n      <td>12</td>\n      <td>1320</td>\n      <td>27</td>\n      <td>: 1 * n &lt; m * n</td>\n      <td>expression</td>\n      <td>lean/library/init/data/nat/lemmas.lean:1320:3</td>\n      <td>tactic</td>\n      <td>0</td>\n      <td>1320</td>\n      <td>12</td>\n    </tr>\n    <tr>\n      <th>2482</th>\n      <td>lean/library/init/data/nat/lemmas.lean:1321:8</td>\n      <td>lean/library/init/data/nat/lemmas.lean</td>\n      <td>1321</td>\n      <td>8</td>\n      <td>1321</td>\n      <td>36</td>\n      <td>[nat.one_mul, nat.mul_comm]</td>\n      <td>expression</td>\n      <td>lean/library/init/data/nat/lemmas.lean:1321:5</td>\n      <td>tactic</td>\n      <td>0</td>\n      <td>1321</td>\n      <td>8</td>\n    </tr>\n    <tr>\n      <th>2483</th>\n      <td>lean/library/init/data/nat/lemmas.lean:1321:36</td>\n      <td>lean/library/init/data/nat/lemmas.lean</td>\n      <td>1321</td>\n      <td>36</td>\n      <td>1321</td>\n      <td>43</td>\n      <td>at this</td>\n      <td>expression</td>\n      <td>lean/library/init/data/nat/lemmas.lean:1321:5</td>\n      <td>tactic</td>\n      <td>1</td>\n      <td>1321</td>\n      <td>36</td>\n    </tr>\n    <tr>\n      <th>2484</th>\n      <td>lean/library/init/data/nat/lemmas.lean:1322:11</td>\n      <td>lean/library/init/data/nat/lemmas.lean</td>\n      <td>1322</td>\n      <td>11</td>\n      <td>1323</td>\n      <td>3</td>\n      <td>iff.mpr (nat.div_lt_iff_lt_mul n n m_pos) this</td>\n      <td>expression</td>\n      <td>lean/library/init/data/nat/lemmas.lean:1322:5</td>\n      <td>tactic</td>\n      <td>0</td>\n      <td>1322</td>\n      <td>11</td>\n    </tr>\n    <tr>\n      <th>2485</th>\n      <td>lean/library/init/data/nat/lemmas.lean:1324:9</td>\n      <td>lean/library/init/data/nat/lemmas.lean</td>\n      <td>1324</td>\n      <td>9</td>\n      <td>1325</td>\n      <td>1</td>\n      <td>nat.mul_lt_mul h₂ (le_refl _) h₁</td>\n      <td>expression</td>\n      <td>lean/library/init/data/nat/lemmas.lean:1324:3</td>\n      <td>tactic</td>\n      <td>0</td>\n      <td>1324</td>\n      <td>9</td>\n    </tr>\n  </tbody>\n</table>\n<p>2486 rows × 13 columns</p>\n</div>"
     },
     "metadata": {},
     "execution_count": 11
    }
   ],
   "source": [
    "args = pd.read_json(\n",
    "    DATA_DIRECTORY / \"extracted_proof_data\" / \"args.jsonl\", \n",
    "    orient=\"records\",\n",
    "    lines=True\n",
    ")\n",
    "args"
   ]
  },
  {
   "source": [
    "## Examples of combining data"
   ],
   "cell_type": "markdown",
   "metadata": {}
  },
  {
   "source": [
    "Here we combine the above data sources to make a table containing:\n",
    "* First goals in the goal stack before the tactic is executed\n",
    "* The human written tactic command\n",
    "* A little metadata about the type of tactic.  If a \"named\" tactic, then the tactic name is the first word in the tactic command."
   ],
   "cell_type": "markdown",
   "metadata": {}
  },
  {
   "cell_type": "code",
   "execution_count": 44,
   "metadata": {},
   "outputs": [
    {
     "output_type": "execute_result",
     "data": {
      "text/plain": [
       "                                                goal_pp  \\\n",
       "0     α : Type u,\\n_inst_1 : linear_order α,\\na : α\\...   \n",
       "1     α : Type u,\\n_inst_1 : linear_order α,\\na b : ...   \n",
       "2     α : Type u,\\n_inst_1 : linear_order α,\\na b : ...   \n",
       "3     α : Type u,\\n_inst_1 : linear_order α,\\na b : ...   \n",
       "4     α : Type u,\\n_inst_1 : linear_order α,\\na b : ...   \n",
       "...                                                 ...   \n",
       "2224               a b : ℕ,\\nh : 0 < b\\n⊢ a + 0 < a + b   \n",
       "2225               a b : ℕ,\\nh : 0 < b\\n⊢ a + 0 < a + b   \n",
       "2226              a : ℕ,\\nthis : 0 < a + 1\\n⊢ 0 < 1 + a   \n",
       "2227              a : ℕ,\\nthis : 0 < a + 1\\n⊢ 0 < a + 1   \n",
       "2228              a : ℕ,\\nthis : 0 < a + 1\\n⊢ 0 < 1 + a   \n",
       "\n",
       "                            human_tactic_code tactic_class  \n",
       "0                                 min_tac a a        named  \n",
       "1                  apply eq_max (le_refl _) h        named  \n",
       "2                                      intros        named  \n",
       "3                                  assumption        named  \n",
       "4                               apply eq.symm        named  \n",
       "...                                       ...          ...  \n",
       "2224  {apply nat.add_lt_add_left, assumption}       solve1  \n",
       "2225                apply nat.add_lt_add_left        named  \n",
       "2226                      simp [nat.add_comm]        named  \n",
       "2227                               assumption        named  \n",
       "2228        {simp [nat.add_comm], assumption}       solve1  \n",
       "\n",
       "[2227 rows x 3 columns]"
      ],
      "text/html": "<div>\n<style scoped>\n    .dataframe tbody tr th:only-of-type {\n        vertical-align: middle;\n    }\n\n    .dataframe tbody tr th {\n        vertical-align: top;\n    }\n\n    .dataframe thead th {\n        text-align: right;\n    }\n</style>\n<table border=\"1\" class=\"dataframe\">\n  <thead>\n    <tr style=\"text-align: right;\">\n      <th></th>\n      <th>goal_pp</th>\n      <th>human_tactic_code</th>\n      <th>tactic_class</th>\n    </tr>\n  </thead>\n  <tbody>\n    <tr>\n      <th>0</th>\n      <td>α : Type u,\\n_inst_1 : linear_order α,\\na : α\\...</td>\n      <td>min_tac a a</td>\n      <td>named</td>\n    </tr>\n    <tr>\n      <th>1</th>\n      <td>α : Type u,\\n_inst_1 : linear_order α,\\na b : ...</td>\n      <td>apply eq_max (le_refl _) h</td>\n      <td>named</td>\n    </tr>\n    <tr>\n      <th>2</th>\n      <td>α : Type u,\\n_inst_1 : linear_order α,\\na b : ...</td>\n      <td>intros</td>\n      <td>named</td>\n    </tr>\n    <tr>\n      <th>3</th>\n      <td>α : Type u,\\n_inst_1 : linear_order α,\\na b : ...</td>\n      <td>assumption</td>\n      <td>named</td>\n    </tr>\n    <tr>\n      <th>4</th>\n      <td>α : Type u,\\n_inst_1 : linear_order α,\\na b : ...</td>\n      <td>apply eq.symm</td>\n      <td>named</td>\n    </tr>\n    <tr>\n      <th>...</th>\n      <td>...</td>\n      <td>...</td>\n      <td>...</td>\n    </tr>\n    <tr>\n      <th>2224</th>\n      <td>a b : ℕ,\\nh : 0 &lt; b\\n⊢ a + 0 &lt; a + b</td>\n      <td>{apply nat.add_lt_add_left, assumption}</td>\n      <td>solve1</td>\n    </tr>\n    <tr>\n      <th>2225</th>\n      <td>a b : ℕ,\\nh : 0 &lt; b\\n⊢ a + 0 &lt; a + b</td>\n      <td>apply nat.add_lt_add_left</td>\n      <td>named</td>\n    </tr>\n    <tr>\n      <th>2226</th>\n      <td>a : ℕ,\\nthis : 0 &lt; a + 1\\n⊢ 0 &lt; 1 + a</td>\n      <td>simp [nat.add_comm]</td>\n      <td>named</td>\n    </tr>\n    <tr>\n      <th>2227</th>\n      <td>a : ℕ,\\nthis : 0 &lt; a + 1\\n⊢ 0 &lt; a + 1</td>\n      <td>assumption</td>\n      <td>named</td>\n    </tr>\n    <tr>\n      <th>2228</th>\n      <td>a : ℕ,\\nthis : 0 &lt; a + 1\\n⊢ 0 &lt; 1 + a</td>\n      <td>{simp [nat.add_comm], assumption}</td>\n      <td>solve1</td>\n    </tr>\n  </tbody>\n</table>\n<p>2227 rows × 3 columns</p>\n</div>"
     },
     "metadata": {},
     "execution_count": 44
    }
   ],
   "source": [
    "df = tactic_state_goal.copy()\n",
    "df = df[df['ix'] == 0]\n",
    "#df['key'] = df['filename'] + \":\" + df['key']\n",
    "df['tactic_state_key'] = df['filename'] + \":\" + df['tactic_state']\n",
    "df = df[['tactic_state_key', 'goal_pp']]\n",
    "df = df.set_index('tactic_state_key')\n",
    "\n",
    "df2 = tactic_state.copy()\n",
    "df2 = df2[df2['before_after'] == 'before']\n",
    "df2['tactic_state_key'] = df2['filename'] + \":\" + df2['key']\n",
    "df2['tactic_instance_key'] = df2['filename'] + \":\" + df2['tactic_instance']\n",
    "df2['tactic_key'] = df2['tactic_instance_key'].apply(lambda k: \":\".join(k.split(\":\")[:-1]))\n",
    "df2 = df2[['tactic_state_key', 'tactic_instance_key', 'tactic_key']]\n",
    "df2 = df2.set_index('tactic_state_key')\n",
    "\n",
    "df = df.join(df2)\n",
    "df = df.set_index('tactic_key')\n",
    "df.head()\n",
    "\n",
    "df3 = tactics.copy()\n",
    "df3['tactic_key'] = df3['filename'] + \":\" + df3['trace_key']\n",
    "df3 = df3[['tactic_key', 'code_string', 'class']]\n",
    "df3 = df3.set_index('tactic_key')\n",
    "df = df.join(df3)\n",
    "df = df.reset_index()\n",
    "df = df[['goal_pp', 'code_string', 'class']]\n",
    "df = df.rename(columns={'class': 'tactic_class', 'code_string': 'human_tactic_code'})\n",
    "# some tactics are recorded by the tracing code, but correspond to tactics \n",
    "# instances in a `[...] block in, possibly, another file.  They are dropped here.\n",
    "df = df.dropna()  \n",
    "\n",
    "goals_and_tactics = df\n",
    "goals_and_tactics"
   ]
  },
  {
   "source": [
    "Each named tactic command can have a number of arguments.  Here we seperate the arguments showing both human supplied argument and the internal representation used by Lean."
   ],
   "cell_type": "markdown",
   "metadata": {}
  },
  {
   "cell_type": "code",
   "execution_count": 12,
   "metadata": {},
   "outputs": [
    {
     "output_type": "display_data",
     "data": {
      "text/plain": "                                                                                reflected_expr_pp\nkey                                                                                              \nlean/library/init/meta/interactive.lean:1985:9                                           list.nil\nlean/library/init/meta/interactive.lean:1998:9                                 ``(_root_.propext)\nlean/library/init/meta/interactive.lean:1999:9                               ``(_root_.iff.intro)\nlean/library/init/meta/interactive.lean:2001:11          some (name.mk_string \"_\" name.anonymous)\nlean/library/init/meta/interactive.lean:2001:34                                           some ()\n...                                                                                           ...\nlean/library/init/data/char/classes.lean:52:22      [name.mk_string \"is_alphanum\" name.anonymous]\nlean/library/init/data/char/classes.lean:52:33                          interactive.loc.ns [none]\nlean/library/init/data/char/classes.lean:55:13           some (name.mk_string \"c\" name.anonymous)\nlean/library/init/data/char/classes.lean:55:22   [name.mk_string \"is_punctuation\" name.anonymous]\nlean/library/init/data/char/classes.lean:55:36                          interactive.loc.ns [none]\n\n[2512 rows x 1 columns]",
      "text/html": "<div>\n<style scoped>\n    .dataframe tbody tr th:only-of-type {\n        vertical-align: middle;\n    }\n\n    .dataframe tbody tr th {\n        vertical-align: top;\n    }\n\n    .dataframe thead th {\n        text-align: right;\n    }\n</style>\n<table border=\"1\" class=\"dataframe\">\n  <thead>\n    <tr style=\"text-align: right;\">\n      <th></th>\n      <th>reflected_expr_pp</th>\n    </tr>\n    <tr>\n      <th>key</th>\n      <th></th>\n    </tr>\n  </thead>\n  <tbody>\n    <tr>\n      <th>lean/library/init/meta/interactive.lean:1985:9</th>\n      <td>list.nil</td>\n    </tr>\n    <tr>\n      <th>lean/library/init/meta/interactive.lean:1998:9</th>\n      <td>``(_root_.propext)</td>\n    </tr>\n    <tr>\n      <th>lean/library/init/meta/interactive.lean:1999:9</th>\n      <td>``(_root_.iff.intro)</td>\n    </tr>\n    <tr>\n      <th>lean/library/init/meta/interactive.lean:2001:11</th>\n      <td>some (name.mk_string \"_\" name.anonymous)</td>\n    </tr>\n    <tr>\n      <th>lean/library/init/meta/interactive.lean:2001:34</th>\n      <td>some ()</td>\n    </tr>\n    <tr>\n      <th>...</th>\n      <td>...</td>\n    </tr>\n    <tr>\n      <th>lean/library/init/data/char/classes.lean:52:22</th>\n      <td>[name.mk_string \"is_alphanum\" name.anonymous]</td>\n    </tr>\n    <tr>\n      <th>lean/library/init/data/char/classes.lean:52:33</th>\n      <td>interactive.loc.ns [none]</td>\n    </tr>\n    <tr>\n      <th>lean/library/init/data/char/classes.lean:55:13</th>\n      <td>some (name.mk_string \"c\" name.anonymous)</td>\n    </tr>\n    <tr>\n      <th>lean/library/init/data/char/classes.lean:55:22</th>\n      <td>[name.mk_string \"is_punctuation\" name.anonymous]</td>\n    </tr>\n    <tr>\n      <th>lean/library/init/data/char/classes.lean:55:36</th>\n      <td>interactive.loc.ns [none]</td>\n    </tr>\n  </tbody>\n</table>\n<p>2512 rows × 1 columns</p>\n</div>"
     },
     "metadata": {}
    },
    {
     "output_type": "display_data",
     "data": {
      "text/plain": "                                                                                   parent_key  \\\nkey                                                                                             \nlean/library/init/data/array/slice.lean:20:14   lean/library/init/data/array/slice.lean:20:10   \nlean/library/init/data/array/slice.lean:26:50   lean/library/init/data/array/slice.lean:26:47   \nlean/library/init/data/array/slice.lean:26:68   lean/library/init/data/array/slice.lean:26:47   \nlean/library/init/data/array/slice.lean:30:15   lean/library/init/data/array/slice.lean:30:10   \nlean/library/init/data/array/slice.lean:30:34   lean/library/init/data/array/slice.lean:30:10   \n...                                                                                       ...   \nlean/library/init/data/nat/lemmas.lean:1320:12  lean/library/init/data/nat/lemmas.lean:1320:3   \nlean/library/init/data/nat/lemmas.lean:1321:8   lean/library/init/data/nat/lemmas.lean:1321:5   \nlean/library/init/data/nat/lemmas.lean:1321:36  lean/library/init/data/nat/lemmas.lean:1321:5   \nlean/library/init/data/nat/lemmas.lean:1322:11  lean/library/init/data/nat/lemmas.lean:1322:5   \nlean/library/init/data/nat/lemmas.lean:1324:9   lean/library/init/data/nat/lemmas.lean:1324:3   \n\n                                                index  \\\nkey                                                     \nlean/library/init/data/array/slice.lean:20:14       0   \nlean/library/init/data/array/slice.lean:26:50       0   \nlean/library/init/data/array/slice.lean:26:68       1   \nlean/library/init/data/array/slice.lean:30:15       0   \nlean/library/init/data/array/slice.lean:30:34       1   \n...                                               ...   \nlean/library/init/data/nat/lemmas.lean:1320:12      0   \nlean/library/init/data/nat/lemmas.lean:1321:8       0   \nlean/library/init/data/nat/lemmas.lean:1321:36      1   \nlean/library/init/data/nat/lemmas.lean:1322:11      0   \nlean/library/init/data/nat/lemmas.lean:1324:9       0   \n\n                                                                              human_tactic_arg  \nkey                                                                                             \nlean/library/init/data/array/slice.lean:20:14                                                   \nlean/library/init/data/array/slice.lean:26:50                               nat.sub_add_cancel  \nlean/library/init/data/array/slice.lean:26:68                                                   \nlean/library/init/data/array/slice.lean:30:15                              [*, sub_sub_cancel]  \nlean/library/init/data/array/slice.lean:30:34                                                   \n...                                                                                        ...  \nlean/library/init/data/nat/lemmas.lean:1320:12                                 : 1 * n < m * n  \nlean/library/init/data/nat/lemmas.lean:1321:8                      [nat.one_mul, nat.mul_comm]  \nlean/library/init/data/nat/lemmas.lean:1321:36                                         at this  \nlean/library/init/data/nat/lemmas.lean:1322:11  iff.mpr (nat.div_lt_iff_lt_mul n n m_pos) this  \nlean/library/init/data/nat/lemmas.lean:1324:9                 nat.mul_lt_mul h₂ (le_refl _) h₁  \n\n[2486 rows x 3 columns]",
      "text/html": "<div>\n<style scoped>\n    .dataframe tbody tr th:only-of-type {\n        vertical-align: middle;\n    }\n\n    .dataframe tbody tr th {\n        vertical-align: top;\n    }\n\n    .dataframe thead th {\n        text-align: right;\n    }\n</style>\n<table border=\"1\" class=\"dataframe\">\n  <thead>\n    <tr style=\"text-align: right;\">\n      <th></th>\n      <th>parent_key</th>\n      <th>index</th>\n      <th>human_tactic_arg</th>\n    </tr>\n    <tr>\n      <th>key</th>\n      <th></th>\n      <th></th>\n      <th></th>\n    </tr>\n  </thead>\n  <tbody>\n    <tr>\n      <th>lean/library/init/data/array/slice.lean:20:14</th>\n      <td>lean/library/init/data/array/slice.lean:20:10</td>\n      <td>0</td>\n      <td></td>\n    </tr>\n    <tr>\n      <th>lean/library/init/data/array/slice.lean:26:50</th>\n      <td>lean/library/init/data/array/slice.lean:26:47</td>\n      <td>0</td>\n      <td>nat.sub_add_cancel</td>\n    </tr>\n    <tr>\n      <th>lean/library/init/data/array/slice.lean:26:68</th>\n      <td>lean/library/init/data/array/slice.lean:26:47</td>\n      <td>1</td>\n      <td></td>\n    </tr>\n    <tr>\n      <th>lean/library/init/data/array/slice.lean:30:15</th>\n      <td>lean/library/init/data/array/slice.lean:30:10</td>\n      <td>0</td>\n      <td>[*, sub_sub_cancel]</td>\n    </tr>\n    <tr>\n      <th>lean/library/init/data/array/slice.lean:30:34</th>\n      <td>lean/library/init/data/array/slice.lean:30:10</td>\n      <td>1</td>\n      <td></td>\n    </tr>\n    <tr>\n      <th>...</th>\n      <td>...</td>\n      <td>...</td>\n      <td>...</td>\n    </tr>\n    <tr>\n      <th>lean/library/init/data/nat/lemmas.lean:1320:12</th>\n      <td>lean/library/init/data/nat/lemmas.lean:1320:3</td>\n      <td>0</td>\n      <td>: 1 * n &lt; m * n</td>\n    </tr>\n    <tr>\n      <th>lean/library/init/data/nat/lemmas.lean:1321:8</th>\n      <td>lean/library/init/data/nat/lemmas.lean:1321:5</td>\n      <td>0</td>\n      <td>[nat.one_mul, nat.mul_comm]</td>\n    </tr>\n    <tr>\n      <th>lean/library/init/data/nat/lemmas.lean:1321:36</th>\n      <td>lean/library/init/data/nat/lemmas.lean:1321:5</td>\n      <td>1</td>\n      <td>at this</td>\n    </tr>\n    <tr>\n      <th>lean/library/init/data/nat/lemmas.lean:1322:11</th>\n      <td>lean/library/init/data/nat/lemmas.lean:1322:5</td>\n      <td>0</td>\n      <td>iff.mpr (nat.div_lt_iff_lt_mul n n m_pos) this</td>\n    </tr>\n    <tr>\n      <th>lean/library/init/data/nat/lemmas.lean:1324:9</th>\n      <td>lean/library/init/data/nat/lemmas.lean:1324:3</td>\n      <td>0</td>\n      <td>nat.mul_lt_mul h₂ (le_refl _) h₁</td>\n    </tr>\n  </tbody>\n</table>\n<p>2486 rows × 3 columns</p>\n</div>"
     },
     "metadata": {}
    },
    {
     "output_type": "stream",
     "name": "stderr",
     "text": [
      "/Users/jasonrute/Development/lean/lean_proof_recording/venv/lib/python3.8/site-packages/pandas/core/reshape/merge.py:643: UserWarning: merging between different levels can give an unintended result (1 levels on the left,2 on the right)\n  warnings.warn(msg, UserWarning)\n"
     ]
    },
    {
     "output_type": "execute_result",
     "data": {
      "text/plain": [
       "                                human_tactic_arg                 \\\n",
       "                                               0    1    2    3   \n",
       "human_tactic_code                                                 \n",
       "min_tac a a                                    a    a  NaN  NaN   \n",
       "apply eq_max (le_refl _) h  eq_max (le_refl _) h  NaN  NaN  NaN   \n",
       "intros                                            NaN  NaN  NaN   \n",
       "assumption                                   NaN  NaN  NaN  NaN   \n",
       "apply eq.symm                            eq.symm  NaN  NaN  NaN   \n",
       "...                                          ...  ...  ...  ...   \n",
       "apply_instance                               NaN  NaN  NaN  NaN   \n",
       "assumption                                   NaN  NaN  NaN  NaN   \n",
       "apply nat.add_lt_add_left    nat.add_lt_add_left  NaN  NaN  NaN   \n",
       "simp [nat.add_comm]               [nat.add_comm]       NaN  NaN   \n",
       "assumption                                   NaN  NaN  NaN  NaN   \n",
       "\n",
       "                                                       reflected_expr_pp  \\\n",
       "                                                                       0   \n",
       "human_tactic_code                                                          \n",
       "min_tac a a                                                        ``(a)   \n",
       "apply eq_max (le_refl _) h                      ``(eq_max (le_refl _) h)   \n",
       "intros                                                          list.nil   \n",
       "assumption                                                           NaN   \n",
       "apply eq.symm                                                ``(eq.symm)   \n",
       "...                                                                  ...   \n",
       "apply_instance                                                       NaN   \n",
       "assumption                                                           NaN   \n",
       "apply nat.add_lt_add_left                        ``(nat.add_lt_add_left)   \n",
       "simp [nat.add_comm]         [tactic.simp_arg_type.expr ``(nat.add_comm)]   \n",
       "assumption                                                           NaN   \n",
       "\n",
       "                                                                 \n",
       "                                                    1    2    3  \n",
       "human_tactic_code                                                \n",
       "min_tac a a                                     ``(a)  NaN  NaN  \n",
       "apply eq_max (le_refl _) h                        NaN  NaN  NaN  \n",
       "intros                                            NaN  NaN  NaN  \n",
       "assumption                                        NaN  NaN  NaN  \n",
       "apply eq.symm                                     NaN  NaN  NaN  \n",
       "...                                               ...  ...  ...  \n",
       "apply_instance                                    NaN  NaN  NaN  \n",
       "assumption                                        NaN  NaN  NaN  \n",
       "apply nat.add_lt_add_left                         NaN  NaN  NaN  \n",
       "simp [nat.add_comm]         interactive.loc.ns [none]  NaN  NaN  \n",
       "assumption                                        NaN  NaN  NaN  \n",
       "\n",
       "[1617 rows x 8 columns]"
      ],
      "text/html": "<div>\n<style scoped>\n    .dataframe tbody tr th:only-of-type {\n        vertical-align: middle;\n    }\n\n    .dataframe tbody tr th {\n        vertical-align: top;\n    }\n\n    .dataframe thead tr th {\n        text-align: left;\n    }\n\n    .dataframe thead tr:last-of-type th {\n        text-align: right;\n    }\n</style>\n<table border=\"1\" class=\"dataframe\">\n  <thead>\n    <tr>\n      <th></th>\n      <th colspan=\"4\" halign=\"left\">human_tactic_arg</th>\n      <th colspan=\"4\" halign=\"left\">reflected_expr_pp</th>\n    </tr>\n    <tr>\n      <th></th>\n      <th>0</th>\n      <th>1</th>\n      <th>2</th>\n      <th>3</th>\n      <th>0</th>\n      <th>1</th>\n      <th>2</th>\n      <th>3</th>\n    </tr>\n    <tr>\n      <th>human_tactic_code</th>\n      <th></th>\n      <th></th>\n      <th></th>\n      <th></th>\n      <th></th>\n      <th></th>\n      <th></th>\n      <th></th>\n    </tr>\n  </thead>\n  <tbody>\n    <tr>\n      <th>min_tac a a</th>\n      <td>a</td>\n      <td>a</td>\n      <td>NaN</td>\n      <td>NaN</td>\n      <td>``(a)</td>\n      <td>``(a)</td>\n      <td>NaN</td>\n      <td>NaN</td>\n    </tr>\n    <tr>\n      <th>apply eq_max (le_refl _) h</th>\n      <td>eq_max (le_refl _) h</td>\n      <td>NaN</td>\n      <td>NaN</td>\n      <td>NaN</td>\n      <td>``(eq_max (le_refl _) h)</td>\n      <td>NaN</td>\n      <td>NaN</td>\n      <td>NaN</td>\n    </tr>\n    <tr>\n      <th>intros</th>\n      <td></td>\n      <td>NaN</td>\n      <td>NaN</td>\n      <td>NaN</td>\n      <td>list.nil</td>\n      <td>NaN</td>\n      <td>NaN</td>\n      <td>NaN</td>\n    </tr>\n    <tr>\n      <th>assumption</th>\n      <td>NaN</td>\n      <td>NaN</td>\n      <td>NaN</td>\n      <td>NaN</td>\n      <td>NaN</td>\n      <td>NaN</td>\n      <td>NaN</td>\n      <td>NaN</td>\n    </tr>\n    <tr>\n      <th>apply eq.symm</th>\n      <td>eq.symm</td>\n      <td>NaN</td>\n      <td>NaN</td>\n      <td>NaN</td>\n      <td>``(eq.symm)</td>\n      <td>NaN</td>\n      <td>NaN</td>\n      <td>NaN</td>\n    </tr>\n    <tr>\n      <th>...</th>\n      <td>...</td>\n      <td>...</td>\n      <td>...</td>\n      <td>...</td>\n      <td>...</td>\n      <td>...</td>\n      <td>...</td>\n      <td>...</td>\n    </tr>\n    <tr>\n      <th>apply_instance</th>\n      <td>NaN</td>\n      <td>NaN</td>\n      <td>NaN</td>\n      <td>NaN</td>\n      <td>NaN</td>\n      <td>NaN</td>\n      <td>NaN</td>\n      <td>NaN</td>\n    </tr>\n    <tr>\n      <th>assumption</th>\n      <td>NaN</td>\n      <td>NaN</td>\n      <td>NaN</td>\n      <td>NaN</td>\n      <td>NaN</td>\n      <td>NaN</td>\n      <td>NaN</td>\n      <td>NaN</td>\n    </tr>\n    <tr>\n      <th>apply nat.add_lt_add_left</th>\n      <td>nat.add_lt_add_left</td>\n      <td>NaN</td>\n      <td>NaN</td>\n      <td>NaN</td>\n      <td>``(nat.add_lt_add_left)</td>\n      <td>NaN</td>\n      <td>NaN</td>\n      <td>NaN</td>\n    </tr>\n    <tr>\n      <th>simp [nat.add_comm]</th>\n      <td>[nat.add_comm]</td>\n      <td></td>\n      <td>NaN</td>\n      <td>NaN</td>\n      <td>[tactic.simp_arg_type.expr ``(nat.add_comm)]</td>\n      <td>interactive.loc.ns [none]</td>\n      <td>NaN</td>\n      <td>NaN</td>\n    </tr>\n    <tr>\n      <th>assumption</th>\n      <td>NaN</td>\n      <td>NaN</td>\n      <td>NaN</td>\n      <td>NaN</td>\n      <td>NaN</td>\n      <td>NaN</td>\n      <td>NaN</td>\n      <td>NaN</td>\n    </tr>\n  </tbody>\n</table>\n<p>1617 rows × 8 columns</p>\n</div>"
     },
     "metadata": {},
     "execution_count": 12
    }
   ],
   "source": [
    "df = tactic_param_value.copy()\n",
    "df['key'] = df['filename'] + \":\" + df['key']\n",
    "df = df.set_index('key')\n",
    "df = df[['reflected_expr_pp']]\n",
    "\n",
    "display(df)\n",
    "\n",
    "df2 = args.copy()\n",
    "df2 = df2.set_index('key')\n",
    "df2 = df2.rename(columns={'code_string': 'human_tactic_arg'})\n",
    "df2 = df2[['parent_key', 'index', 'human_tactic_arg']]\n",
    "df2\n",
    "\n",
    "display(df2)\n",
    "\n",
    "# TODO: These keys aren't unique if one of the parameters is empty \n",
    "# It seems to join fine, but I'm confused why\n",
    "\n",
    "df3 = df2.join(df).reset_index()[['parent_key', 'index', 'human_tactic_arg', 'reflected_expr_pp']]\n",
    "df3 = df3.set_index('parent_key')\n",
    "df3 = df3.pivot_table(\n",
    "    values=['human_tactic_arg', 'reflected_expr_pp'],\n",
    "    index='parent_key',\n",
    "    columns='index',\n",
    "    aggfunc='first'\n",
    ")\n",
    "\n",
    "df4 = tactics.copy()\n",
    "df4 = df4[df4['class'] == \"named\"]\n",
    "df4 = df4[['key', 'code_string']]\n",
    "df4 = df4.rename(columns={'code_string': 'human_tactic_code'})\n",
    "df4 = df4.set_index('key')\n",
    "\n",
    "parsed_tactics = df4.join(df3)\n",
    "parsed_tactics = parsed_tactics.set_index('human_tactic_code')\n",
    "parsed_tactics.columns = pd.MultiIndex.from_tuples(parsed_tactics.columns)\n",
    "parsed_tactics"
   ]
  },
  {
   "source": [
    "## Training data"
   ],
   "cell_type": "markdown",
   "metadata": {}
  },
  {
   "source": [
    "Below are examples of the extacted and cleaned data used to train Lean GPT-f."
   ],
   "cell_type": "markdown",
   "metadata": {}
  },
  {
   "source": [
    "This is a combined CSV of the training data and metadata.  Note, that the train-valid-test split is deterministic based on a hash of the declaration name.  This makes it simple to combine this data with data from other sources."
   ],
   "cell_type": "markdown",
   "metadata": {}
  },
  {
   "cell_type": "code",
   "execution_count": 49,
   "metadata": {},
   "outputs": [
    {
     "output_type": "execute_result",
     "data": {
      "text/plain": [
       "      Unnamed: 0                                            goal_pp  \\\n",
       "0              0  α : Type u,\\n_inst_1 : linear_order α,\\na : α\\...   \n",
       "1              1  α : Type u,\\n_inst_1 : linear_order α,\\na b : ...   \n",
       "2              2  α : Type u,\\n_inst_1 : linear_order α,\\na b : ...   \n",
       "3              3  α : Type u,\\n_inst_1 : linear_order α,\\na b : ...   \n",
       "4              4  α : Type u,\\n_inst_1 : linear_order α,\\na b : ...   \n",
       "...          ...                                                ...   \n",
       "2222        2222               a b : ℕ,\\nh : 0 < b\\n⊢ a + 0 < a + b   \n",
       "2223        2223               a b : ℕ,\\nh : 0 < b\\n⊢ a + 0 < a + b   \n",
       "2224        2224              a : ℕ,\\nthis : 0 < a + 1\\n⊢ 0 < 1 + a   \n",
       "2225        2225              a : ℕ,\\nthis : 0 < a + 1\\n⊢ 0 < a + 1   \n",
       "2226        2226              a : ℕ,\\nthis : 0 < a + 1\\n⊢ 0 < 1 + a   \n",
       "\n",
       "                       decl_name   open_namespaces  \\\n",
       "0                       max_self  tactic decidable   \n",
       "1                    max_eq_left  tactic decidable   \n",
       "2                    max_eq_left  tactic decidable   \n",
       "3                    max_eq_left  tactic decidable   \n",
       "4                    max_eq_left  tactic decidable   \n",
       "...                          ...               ...   \n",
       "2222  nat.lt_add_of_zero_lt_left               NaN   \n",
       "2223  nat.lt_add_of_zero_lt_left               NaN   \n",
       "2224         nat.zero_lt_one_add               NaN   \n",
       "2225         nat.zero_lt_one_add               NaN   \n",
       "2226         nat.zero_lt_one_add               NaN   \n",
       "\n",
       "                                              filename  line  column  \\\n",
       "0             lean/library/init/algebra/functions.lean   101       4   \n",
       "1             lean/library/init/algebra/functions.lean   104      22   \n",
       "2             lean/library/init/algebra/functions.lean   104      50   \n",
       "3             lean/library/init/algebra/functions.lean   104      58   \n",
       "4             lean/library/init/algebra/functions.lean   104       7   \n",
       "...                                                ...   ...     ...   \n",
       "2222  lean/library/init/meta/well_founded_tactics.lean    13       4   \n",
       "2223  lean/library/init/meta/well_founded_tactics.lean    13       5   \n",
       "2224  lean/library/init/meta/well_founded_tactics.lean    17      25   \n",
       "2225  lean/library/init/meta/well_founded_tactics.lean    17      46   \n",
       "2226  lean/library/init/meta/well_founded_tactics.lean    17      24   \n",
       "\n",
       "                                              proof_key  \\\n",
       "0        lean/library/init/algebra/functions.lean:101:1   \n",
       "1        lean/library/init/algebra/functions.lean:104:1   \n",
       "2        lean/library/init/algebra/functions.lean:104:1   \n",
       "3        lean/library/init/algebra/functions.lean:104:1   \n",
       "4        lean/library/init/algebra/functions.lean:104:1   \n",
       "...                                                 ...   \n",
       "2222  lean/library/init/meta/well_founded_tactics.le...   \n",
       "2223  lean/library/init/meta/well_founded_tactics.le...   \n",
       "2224  lean/library/init/meta/well_founded_tactics.le...   \n",
       "2225  lean/library/init/meta/well_founded_tactics.le...   \n",
       "2226  lean/library/init/meta/well_founded_tactics.le...   \n",
       "\n",
       "                            human_tactic_code tactic_class  \\\n",
       "0                                 min_tac a a        named   \n",
       "1                  apply eq_max (le_refl _) h        named   \n",
       "2                                      intros        named   \n",
       "3                                  assumption        named   \n",
       "4                               apply eq.symm        named   \n",
       "...                                       ...          ...   \n",
       "2222  {apply nat.add_lt_add_left, assumption}       solve1   \n",
       "2223                apply nat.add_lt_add_left        named   \n",
       "2224                      simp [nat.add_comm]        named   \n",
       "2225                               assumption        named   \n",
       "2226        {simp [nat.add_comm], assumption}       solve1   \n",
       "\n",
       "                                           cleaned_goal  split  \n",
       "0     α : Type u,\\t_inst_1 : linear_order α,\\ta : α\\...  train  \n",
       "1     α : Type u,\\t_inst_1 : linear_order α,\\ta b : ...  train  \n",
       "2     α : Type u,\\t_inst_1 : linear_order α,\\ta b : ...  train  \n",
       "3     α : Type u,\\t_inst_1 : linear_order α,\\ta b : ...  train  \n",
       "4     α : Type u,\\t_inst_1 : linear_order α,\\ta b : ...  train  \n",
       "...                                                 ...    ...  \n",
       "2222               a b : ℕ,\\th : 0 < b\\t⊢ a + 0 < a + b  train  \n",
       "2223               a b : ℕ,\\th : 0 < b\\t⊢ a + 0 < a + b  train  \n",
       "2224              a : ℕ,\\tthis : 0 < a + 1\\t⊢ 0 < 1 + a  train  \n",
       "2225              a : ℕ,\\tthis : 0 < a + 1\\t⊢ 0 < a + 1  train  \n",
       "2226              a : ℕ,\\tthis : 0 < a + 1\\t⊢ 0 < 1 + a  train  \n",
       "\n",
       "[2227 rows x 12 columns]"
      ],
      "text/html": "<div>\n<style scoped>\n    .dataframe tbody tr th:only-of-type {\n        vertical-align: middle;\n    }\n\n    .dataframe tbody tr th {\n        vertical-align: top;\n    }\n\n    .dataframe thead th {\n        text-align: right;\n    }\n</style>\n<table border=\"1\" class=\"dataframe\">\n  <thead>\n    <tr style=\"text-align: right;\">\n      <th></th>\n      <th>Unnamed: 0</th>\n      <th>goal_pp</th>\n      <th>decl_name</th>\n      <th>open_namespaces</th>\n      <th>filename</th>\n      <th>line</th>\n      <th>column</th>\n      <th>proof_key</th>\n      <th>human_tactic_code</th>\n      <th>tactic_class</th>\n      <th>cleaned_goal</th>\n      <th>split</th>\n    </tr>\n  </thead>\n  <tbody>\n    <tr>\n      <th>0</th>\n      <td>0</td>\n      <td>α : Type u,\\n_inst_1 : linear_order α,\\na : α\\...</td>\n      <td>max_self</td>\n      <td>tactic decidable</td>\n      <td>lean/library/init/algebra/functions.lean</td>\n      <td>101</td>\n      <td>4</td>\n      <td>lean/library/init/algebra/functions.lean:101:1</td>\n      <td>min_tac a a</td>\n      <td>named</td>\n      <td>α : Type u,\\t_inst_1 : linear_order α,\\ta : α\\...</td>\n      <td>train</td>\n    </tr>\n    <tr>\n      <th>1</th>\n      <td>1</td>\n      <td>α : Type u,\\n_inst_1 : linear_order α,\\na b : ...</td>\n      <td>max_eq_left</td>\n      <td>tactic decidable</td>\n      <td>lean/library/init/algebra/functions.lean</td>\n      <td>104</td>\n      <td>22</td>\n      <td>lean/library/init/algebra/functions.lean:104:1</td>\n      <td>apply eq_max (le_refl _) h</td>\n      <td>named</td>\n      <td>α : Type u,\\t_inst_1 : linear_order α,\\ta b : ...</td>\n      <td>train</td>\n    </tr>\n    <tr>\n      <th>2</th>\n      <td>2</td>\n      <td>α : Type u,\\n_inst_1 : linear_order α,\\na b : ...</td>\n      <td>max_eq_left</td>\n      <td>tactic decidable</td>\n      <td>lean/library/init/algebra/functions.lean</td>\n      <td>104</td>\n      <td>50</td>\n      <td>lean/library/init/algebra/functions.lean:104:1</td>\n      <td>intros</td>\n      <td>named</td>\n      <td>α : Type u,\\t_inst_1 : linear_order α,\\ta b : ...</td>\n      <td>train</td>\n    </tr>\n    <tr>\n      <th>3</th>\n      <td>3</td>\n      <td>α : Type u,\\n_inst_1 : linear_order α,\\na b : ...</td>\n      <td>max_eq_left</td>\n      <td>tactic decidable</td>\n      <td>lean/library/init/algebra/functions.lean</td>\n      <td>104</td>\n      <td>58</td>\n      <td>lean/library/init/algebra/functions.lean:104:1</td>\n      <td>assumption</td>\n      <td>named</td>\n      <td>α : Type u,\\t_inst_1 : linear_order α,\\ta b : ...</td>\n      <td>train</td>\n    </tr>\n    <tr>\n      <th>4</th>\n      <td>4</td>\n      <td>α : Type u,\\n_inst_1 : linear_order α,\\na b : ...</td>\n      <td>max_eq_left</td>\n      <td>tactic decidable</td>\n      <td>lean/library/init/algebra/functions.lean</td>\n      <td>104</td>\n      <td>7</td>\n      <td>lean/library/init/algebra/functions.lean:104:1</td>\n      <td>apply eq.symm</td>\n      <td>named</td>\n      <td>α : Type u,\\t_inst_1 : linear_order α,\\ta b : ...</td>\n      <td>train</td>\n    </tr>\n    <tr>\n      <th>...</th>\n      <td>...</td>\n      <td>...</td>\n      <td>...</td>\n      <td>...</td>\n      <td>...</td>\n      <td>...</td>\n      <td>...</td>\n      <td>...</td>\n      <td>...</td>\n      <td>...</td>\n      <td>...</td>\n      <td>...</td>\n    </tr>\n    <tr>\n      <th>2222</th>\n      <td>2222</td>\n      <td>a b : ℕ,\\nh : 0 &lt; b\\n⊢ a + 0 &lt; a + b</td>\n      <td>nat.lt_add_of_zero_lt_left</td>\n      <td>NaN</td>\n      <td>lean/library/init/meta/well_founded_tactics.lean</td>\n      <td>13</td>\n      <td>4</td>\n      <td>lean/library/init/meta/well_founded_tactics.le...</td>\n      <td>{apply nat.add_lt_add_left, assumption}</td>\n      <td>solve1</td>\n      <td>a b : ℕ,\\th : 0 &lt; b\\t⊢ a + 0 &lt; a + b</td>\n      <td>train</td>\n    </tr>\n    <tr>\n      <th>2223</th>\n      <td>2223</td>\n      <td>a b : ℕ,\\nh : 0 &lt; b\\n⊢ a + 0 &lt; a + b</td>\n      <td>nat.lt_add_of_zero_lt_left</td>\n      <td>NaN</td>\n      <td>lean/library/init/meta/well_founded_tactics.lean</td>\n      <td>13</td>\n      <td>5</td>\n      <td>lean/library/init/meta/well_founded_tactics.le...</td>\n      <td>apply nat.add_lt_add_left</td>\n      <td>named</td>\n      <td>a b : ℕ,\\th : 0 &lt; b\\t⊢ a + 0 &lt; a + b</td>\n      <td>train</td>\n    </tr>\n    <tr>\n      <th>2224</th>\n      <td>2224</td>\n      <td>a : ℕ,\\nthis : 0 &lt; a + 1\\n⊢ 0 &lt; 1 + a</td>\n      <td>nat.zero_lt_one_add</td>\n      <td>NaN</td>\n      <td>lean/library/init/meta/well_founded_tactics.lean</td>\n      <td>17</td>\n      <td>25</td>\n      <td>lean/library/init/meta/well_founded_tactics.le...</td>\n      <td>simp [nat.add_comm]</td>\n      <td>named</td>\n      <td>a : ℕ,\\tthis : 0 &lt; a + 1\\t⊢ 0 &lt; 1 + a</td>\n      <td>train</td>\n    </tr>\n    <tr>\n      <th>2225</th>\n      <td>2225</td>\n      <td>a : ℕ,\\nthis : 0 &lt; a + 1\\n⊢ 0 &lt; a + 1</td>\n      <td>nat.zero_lt_one_add</td>\n      <td>NaN</td>\n      <td>lean/library/init/meta/well_founded_tactics.lean</td>\n      <td>17</td>\n      <td>46</td>\n      <td>lean/library/init/meta/well_founded_tactics.le...</td>\n      <td>assumption</td>\n      <td>named</td>\n      <td>a : ℕ,\\tthis : 0 &lt; a + 1\\t⊢ 0 &lt; a + 1</td>\n      <td>train</td>\n    </tr>\n    <tr>\n      <th>2226</th>\n      <td>2226</td>\n      <td>a : ℕ,\\nthis : 0 &lt; a + 1\\n⊢ 0 &lt; 1 + a</td>\n      <td>nat.zero_lt_one_add</td>\n      <td>NaN</td>\n      <td>lean/library/init/meta/well_founded_tactics.lean</td>\n      <td>17</td>\n      <td>24</td>\n      <td>lean/library/init/meta/well_founded_tactics.le...</td>\n      <td>{simp [nat.add_comm], assumption}</td>\n      <td>solve1</td>\n      <td>a : ℕ,\\tthis : 0 &lt; a + 1\\t⊢ 0 &lt; 1 + a</td>\n      <td>train</td>\n    </tr>\n  </tbody>\n</table>\n<p>2227 rows × 12 columns</p>\n</div>"
     },
     "metadata": {},
     "execution_count": 49
    }
   ],
   "source": [
    "data_and_metadata = pd.read_csv(DATA_DIRECTORY / \"cleaned_training_data\" / \"data_and_metadata.csv\")\n",
    "data_and_metadata"
   ]
  },
  {
   "source": [
    "For each of train, valid, and test there are seperate files:"
   ],
   "cell_type": "markdown",
   "metadata": {}
  },
  {
   "source": [
    "`train.src` is the source (input) data for training (one training example per line)."
   ],
   "cell_type": "markdown",
   "metadata": {}
  },
  {
   "cell_type": "code",
   "execution_count": 63,
   "metadata": {},
   "outputs": [
    {
     "output_type": "execute_result",
     "data": {
      "text/plain": [
       "['α : Type u,\\t_inst_1 : linear_order α,\\ta : α\\t⊢ max a a = a\\n',\n",
       " 'α : Type u,\\t_inst_1 : linear_order α,\\ta b : α,\\th : b ≤ a\\t⊢ a = max a b\\n',\n",
       " 'α : Type u,\\t_inst_1 : linear_order α,\\ta b : α,\\th : b ≤ a\\t⊢ ∀ {d : α}, a ≤ d → b ≤ d → a ≤ d\\n',\n",
       " 'α : Type u,\\t_inst_1 : linear_order α,\\ta b : α,\\th : b ≤ a,\\td : α,\\tᾰ : a ≤ d,\\tᾰ_1 : b ≤ d\\t⊢ a ≤ d\\n',\n",
       " 'α : Type u,\\t_inst_1 : linear_order α,\\ta b : α,\\th : b ≤ a\\t⊢ max a b = a\\n',\n",
       " 'α : Type u,\\t_inst_1 : linear_order α,\\ta b c : α,\\th₁ : a < b,\\th₂ : a < c,\\th : b ≤ c\\t⊢ a < min b c\\n',\n",
       " 'α : Type u,\\t_inst_1 : linear_order α,\\ta b c : α,\\th₁ : a < b,\\th₂ : a < c,\\th : b > c\\t⊢ a < min b c\\n',\n",
       " 'α : Type u,\\t_inst_1 : linear_order α,\\ta b c : α,\\th₁ : a < c,\\th₂ : b < c,\\th : a ≤ b\\t⊢ max a b < c\\n',\n",
       " 'α : Type u,\\t_inst_1 : linear_order α,\\ta b c : α,\\th₁ : a < c,\\th₂ : b < c,\\th : a > b\\t⊢ max a b < c\\n',\n",
       " 'α : Type u,\\t_inst_1 : linear_order α,\\ta b : α\\t⊢ min a b ≤ a\\n']"
      ]
     },
     "metadata": {},
     "execution_count": 63
    }
   ],
   "source": [
    "with (DATA_DIRECTORY / \"cleaned_training_data\" / \"train.src\").open() as f:\n",
    "    train_src = list(f)\n",
    "train_src[:10]"
   ]
  },
  {
   "source": [
    "`train.tgt` is the target (output) data for training (one training example per line)."
   ],
   "cell_type": "markdown",
   "metadata": {}
  },
  {
   "cell_type": "code",
   "execution_count": 64,
   "metadata": {},
   "outputs": [
    {
     "output_type": "execute_result",
     "data": {
      "text/plain": [
       "['min_tac a a\\n',\n",
       " 'apply eq_max (le_refl _) h\\n',\n",
       " 'intros\\n',\n",
       " 'assumption\\n',\n",
       " 'apply eq.symm\\n',\n",
       " 'min_tac b c\\n',\n",
       " 'min_tac b c\\n',\n",
       " 'min_tac b a\\n',\n",
       " 'min_tac b a\\n',\n",
       " 'min_tac a b\\n']"
      ]
     },
     "metadata": {},
     "execution_count": 64
    }
   ],
   "source": [
    "with (DATA_DIRECTORY / \"cleaned_training_data\" / \"train.tgt\").open() as f:\n",
    "    train_tgt = list(f)\n",
    "train_tgt[:10]"
   ]
  },
  {
   "source": [
    "`train.names` includes all declaration (theorem) names used for splitting the data."
   ],
   "cell_type": "markdown",
   "metadata": {}
  },
  {
   "cell_type": "code",
   "execution_count": 69,
   "metadata": {},
   "outputs": [
    {
     "output_type": "execute_result",
     "data": {
      "text/plain": [
       "['psigma.mk.inj_eq interactive expr tactic tactic.interactive.case_tag.match_result native lean lean.parser interactive.types\\n',\n",
       " 'subtype.mk.inj_eq interactive expr tactic tactic.interactive.case_tag.match_result native lean lean.parser interactive.types\\n',\n",
       " 'option.some.inj_eq interactive expr tactic tactic.interactive.case_tag.match_result native lean lean.parser interactive.types\\n',\n",
       " 'list.cons.inj_eq interactive expr tactic tactic.interactive.case_tag.match_result native lean lean.parser interactive.types\\n',\n",
       " 'nat.succ.inj_eq interactive expr tactic tactic.interactive.case_tag.match_result native lean lean.parser interactive.types\\n',\n",
       " 'tactic.binder_info.has_decidable_eq tactic expr list environment\\n',\n",
       " 'smt_tactic.alternative \\n',\n",
       " 'smt_tactic.monad_state \\n',\n",
       " 'nat.lt_add_of_zero_lt_left \\n',\n",
       " 'nat.zero_lt_one_add \\n']"
      ]
     },
     "metadata": {},
     "execution_count": 69
    }
   ],
   "source": [
    "with (DATA_DIRECTORY / \"cleaned_training_data\" / \"train.names\").open() as f:\n",
    "    train_names = list(f)\n",
    "train_names[-10:]"
   ]
  },
  {
   "source": [
    "`train.index` contains identifiers for each datapoint (based on the source and declaration name).  _Warning: These identifiers may not be unique._"
   ],
   "cell_type": "markdown",
   "metadata": {}
  },
  {
   "cell_type": "code",
   "execution_count": 62,
   "metadata": {
    "tags": []
   },
   "outputs": [
    {
     "output_type": "execute_result",
     "data": {
      "text/plain": [
       "['{\"src\": \"\\\\u03b1 : Type u,\\\\t_inst_1 : linear_order \\\\u03b1,\\\\ta : \\\\u03b1\\\\t\\\\u22a2 max a a = a\", \"decl_nm\": \"max_self\"}\\n',\n",
       " '{\"src\": \"\\\\u03b1 : Type u,\\\\t_inst_1 : linear_order \\\\u03b1,\\\\ta b : \\\\u03b1,\\\\th : b \\\\u2264 a\\\\t\\\\u22a2 a = max a b\", \"decl_nm\": \"max_eq_left\"}\\n',\n",
       " '{\"src\": \"\\\\u03b1 : Type u,\\\\t_inst_1 : linear_order \\\\u03b1,\\\\ta b : \\\\u03b1,\\\\th : b \\\\u2264 a\\\\t\\\\u22a2 \\\\u2200 {d : \\\\u03b1}, a \\\\u2264 d \\\\u2192 b \\\\u2264 d \\\\u2192 a \\\\u2264 d\", \"decl_nm\": \"max_eq_left\"}\\n',\n",
       " '{\"src\": \"\\\\u03b1 : Type u,\\\\t_inst_1 : linear_order \\\\u03b1,\\\\ta b : \\\\u03b1,\\\\th : b \\\\u2264 a,\\\\td : \\\\u03b1,\\\\t\\\\u1fb0 : a \\\\u2264 d,\\\\t\\\\u1fb0_1 : b \\\\u2264 d\\\\t\\\\u22a2 a \\\\u2264 d\", \"decl_nm\": \"max_eq_left\"}\\n',\n",
       " '{\"src\": \"\\\\u03b1 : Type u,\\\\t_inst_1 : linear_order \\\\u03b1,\\\\ta b : \\\\u03b1,\\\\th : b \\\\u2264 a\\\\t\\\\u22a2 max a b = a\", \"decl_nm\": \"max_eq_left\"}\\n',\n",
       " '{\"src\": \"\\\\u03b1 : Type u,\\\\t_inst_1 : linear_order \\\\u03b1,\\\\ta b c : \\\\u03b1,\\\\th\\\\u2081 : a < b,\\\\th\\\\u2082 : a < c,\\\\th : b \\\\u2264 c\\\\t\\\\u22a2 a < min b c\", \"decl_nm\": \"lt_min\"}\\n',\n",
       " '{\"src\": \"\\\\u03b1 : Type u,\\\\t_inst_1 : linear_order \\\\u03b1,\\\\ta b c : \\\\u03b1,\\\\th\\\\u2081 : a < b,\\\\th\\\\u2082 : a < c,\\\\th : b > c\\\\t\\\\u22a2 a < min b c\", \"decl_nm\": \"lt_min\"}\\n',\n",
       " '{\"src\": \"\\\\u03b1 : Type u,\\\\t_inst_1 : linear_order \\\\u03b1,\\\\ta b c : \\\\u03b1,\\\\th\\\\u2081 : a < c,\\\\th\\\\u2082 : b < c,\\\\th : a \\\\u2264 b\\\\t\\\\u22a2 max a b < c\", \"decl_nm\": \"max_lt\"}\\n',\n",
       " '{\"src\": \"\\\\u03b1 : Type u,\\\\t_inst_1 : linear_order \\\\u03b1,\\\\ta b c : \\\\u03b1,\\\\th\\\\u2081 : a < c,\\\\th\\\\u2082 : b < c,\\\\th : a > b\\\\t\\\\u22a2 max a b < c\", \"decl_nm\": \"max_lt\"}\\n',\n",
       " '{\"src\": \"\\\\u03b1 : Type u,\\\\t_inst_1 : linear_order \\\\u03b1,\\\\ta b : \\\\u03b1\\\\t\\\\u22a2 min a b \\\\u2264 a\", \"decl_nm\": \"min_le_left\"}\\n']"
      ]
     },
     "metadata": {},
     "execution_count": 62
    }
   ],
   "source": [
    "with (DATA_DIRECTORY / \"cleaned_training_data\" / \"train.index\").open() as f:\n",
    "    train_index = list(f)\n",
    "train_index[:10]"
   ]
  }
 ]
}