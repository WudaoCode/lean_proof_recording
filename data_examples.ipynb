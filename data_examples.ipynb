{
 "metadata": {
  "language_info": {
   "codemirror_mode": {
    "name": "ipython",
    "version": 3
   },
   "file_extension": ".py",
   "mimetype": "text/x-python",
   "name": "python",
   "nbconvert_exporter": "python",
   "pygments_lexer": "ipython3",
   "version": "3.8.5-final"
  },
  "orig_nbformat": 2,
  "kernelspec": {
   "name": "python38364bit1564f0ee64a5480aa8b1d198439e4994",
   "display_name": "Python 3.8.3 64-bit"
  }
 },
 "nbformat": 4,
 "nbformat_minor": 2,
 "cells": [
  {
   "source": [
    "# The datasets"
   ],
   "cell_type": "markdown",
   "metadata": {}
  },
  {
   "source": [
    "This is a quick look a the datasets generated in this project."
   ],
   "cell_type": "markdown",
   "metadata": {}
  },
  {
   "source": [
    "**WARNING: This is still a work in progress and it is likely that the data will change in shape, column names, number of tables, etc.  This is provided to show a snapshot of the current project only.**"
   ],
   "cell_type": "markdown",
   "metadata": {}
  },
  {
   "cell_type": "code",
   "execution_count": 17,
   "metadata": {},
   "outputs": [],
   "source": [
    "import json\n",
    "\n",
    "import pandas as pd\n",
    "import numpy as np"
   ]
  },
  {
   "cell_type": "code",
   "execution_count": 7,
   "metadata": {},
   "outputs": [],
   "source": [
    "DATA_DIRECTORY = './data/'  # change as necessary"
   ]
  },
  {
   "source": [
    "## The traced data"
   ],
   "cell_type": "markdown",
   "metadata": {}
  },
  {
   "source": [
    "This is the data which was traced by the tracing code and gathered into tables."
   ],
   "cell_type": "markdown",
   "metadata": {}
  },
  {
   "source": [
    "`tactic_instances` includes position data and a unique key for every tactic that was executed and traced (which is not every tactic in the code)"
   ],
   "cell_type": "markdown",
   "metadata": {}
  },
  {
   "cell_type": "code",
   "execution_count": 8,
   "metadata": {},
   "outputs": [
    {
     "output_type": "execute_result",
     "data": {
      "text/plain": [
       "                  table          key  executed  \\\n",
       "0      tactic_instances  1950:20:2:1      True   \n",
       "1      tactic_instances   1959:4:1:1      True   \n",
       "2      tactic_instances   1962:4:1:1      True   \n",
       "3      tactic_instances   1965:4:1:1      True   \n",
       "4      tactic_instances   1968:4:1:1      True   \n",
       "...                 ...          ...       ...   \n",
       "55743  tactic_instances   246:63:2:2      True   \n",
       "55744  tactic_instances   246:61:1:1      True   \n",
       "55745  tactic_instances    99:29:1:1      True   \n",
       "55746  tactic_instances    99:48:1:1      True   \n",
       "55747  tactic_instances    99:67:1:1      True   \n",
       "\n",
       "                                                filename  trace_pos_line  \\\n",
       "0                lean/library/init/meta/interactive.lean            1982   \n",
       "1                lean/library/init/meta/interactive.lean            1959   \n",
       "2                lean/library/init/meta/interactive.lean            1962   \n",
       "3                lean/library/init/meta/interactive.lean            1965   \n",
       "4                lean/library/init/meta/interactive.lean            1968   \n",
       "...                                                  ...             ...   \n",
       "55743                mathlib/src/set_theory/ordinal.lean             246   \n",
       "55744                mathlib/src/set_theory/ordinal.lean             246   \n",
       "55745  mathlib/src/category_theory/abelian/pseudoelem...              99   \n",
       "55746  mathlib/src/category_theory/abelian/pseudoelem...              99   \n",
       "55747  mathlib/src/category_theory/abelian/pseudoelem...              99   \n",
       "\n",
       "       trace_pos_column  line  column  depth  index       proof        block  \\\n",
       "0                     1  1950      20      2      2  1983:4:1:1  1950:20:2:1   \n",
       "1                     4  1959       4      1      1  1959:4:1:1   1959:4:1:1   \n",
       "2                     4  1962       4      1      1  1962:4:1:1   1962:4:1:1   \n",
       "3                     4  1965       4      1      1  1965:4:1:1   1965:4:1:1   \n",
       "4                     4  1968       4      1      1  1968:4:1:1   1968:4:1:1   \n",
       "...                 ...   ...     ...    ...    ...         ...          ...   \n",
       "55743                63   246      63      2      2  246:61:1:1    245:5:2:1   \n",
       "55744                61   246      61      1      1  246:61:1:1   246:61:1:1   \n",
       "55745                29    99      29      1      1   99:29:1:1    99:29:1:1   \n",
       "55746                48    99      48      1      1   99:48:1:1    99:48:1:1   \n",
       "55747                67    99      67      1      1   99:67:1:1    99:67:1:1   \n",
       "\n",
       "           parent        prev  succeeded  \n",
       "0      1983:4:1:1  1983:4:1:1        1.0  \n",
       "1         0:0:0:0     0:0:0:0        1.0  \n",
       "2         0:0:0:0     0:0:0:0        1.0  \n",
       "3         0:0:0:0     0:0:0:0        1.0  \n",
       "4         0:0:0:0     0:0:0:0        1.0  \n",
       "...           ...         ...        ...  \n",
       "55743  246:61:1:1   245:5:2:1        1.0  \n",
       "55744     0:0:0:0     0:0:0:0        1.0  \n",
       "55745     0:0:0:0     0:0:0:0        1.0  \n",
       "55746     0:0:0:0     0:0:0:0        1.0  \n",
       "55747     0:0:0:0     0:0:0:0        1.0  \n",
       "\n",
       "[55748 rows x 15 columns]"
      ],
      "text/html": "<div>\n<style scoped>\n    .dataframe tbody tr th:only-of-type {\n        vertical-align: middle;\n    }\n\n    .dataframe tbody tr th {\n        vertical-align: top;\n    }\n\n    .dataframe thead th {\n        text-align: right;\n    }\n</style>\n<table border=\"1\" class=\"dataframe\">\n  <thead>\n    <tr style=\"text-align: right;\">\n      <th></th>\n      <th>table</th>\n      <th>key</th>\n      <th>executed</th>\n      <th>filename</th>\n      <th>trace_pos_line</th>\n      <th>trace_pos_column</th>\n      <th>line</th>\n      <th>column</th>\n      <th>depth</th>\n      <th>index</th>\n      <th>proof</th>\n      <th>block</th>\n      <th>parent</th>\n      <th>prev</th>\n      <th>succeeded</th>\n    </tr>\n  </thead>\n  <tbody>\n    <tr>\n      <th>0</th>\n      <td>tactic_instances</td>\n      <td>1950:20:2:1</td>\n      <td>True</td>\n      <td>lean/library/init/meta/interactive.lean</td>\n      <td>1982</td>\n      <td>1</td>\n      <td>1950</td>\n      <td>20</td>\n      <td>2</td>\n      <td>2</td>\n      <td>1983:4:1:1</td>\n      <td>1950:20:2:1</td>\n      <td>1983:4:1:1</td>\n      <td>1983:4:1:1</td>\n      <td>1.0</td>\n    </tr>\n    <tr>\n      <th>1</th>\n      <td>tactic_instances</td>\n      <td>1959:4:1:1</td>\n      <td>True</td>\n      <td>lean/library/init/meta/interactive.lean</td>\n      <td>1959</td>\n      <td>4</td>\n      <td>1959</td>\n      <td>4</td>\n      <td>1</td>\n      <td>1</td>\n      <td>1959:4:1:1</td>\n      <td>1959:4:1:1</td>\n      <td>0:0:0:0</td>\n      <td>0:0:0:0</td>\n      <td>1.0</td>\n    </tr>\n    <tr>\n      <th>2</th>\n      <td>tactic_instances</td>\n      <td>1962:4:1:1</td>\n      <td>True</td>\n      <td>lean/library/init/meta/interactive.lean</td>\n      <td>1962</td>\n      <td>4</td>\n      <td>1962</td>\n      <td>4</td>\n      <td>1</td>\n      <td>1</td>\n      <td>1962:4:1:1</td>\n      <td>1962:4:1:1</td>\n      <td>0:0:0:0</td>\n      <td>0:0:0:0</td>\n      <td>1.0</td>\n    </tr>\n    <tr>\n      <th>3</th>\n      <td>tactic_instances</td>\n      <td>1965:4:1:1</td>\n      <td>True</td>\n      <td>lean/library/init/meta/interactive.lean</td>\n      <td>1965</td>\n      <td>4</td>\n      <td>1965</td>\n      <td>4</td>\n      <td>1</td>\n      <td>1</td>\n      <td>1965:4:1:1</td>\n      <td>1965:4:1:1</td>\n      <td>0:0:0:0</td>\n      <td>0:0:0:0</td>\n      <td>1.0</td>\n    </tr>\n    <tr>\n      <th>4</th>\n      <td>tactic_instances</td>\n      <td>1968:4:1:1</td>\n      <td>True</td>\n      <td>lean/library/init/meta/interactive.lean</td>\n      <td>1968</td>\n      <td>4</td>\n      <td>1968</td>\n      <td>4</td>\n      <td>1</td>\n      <td>1</td>\n      <td>1968:4:1:1</td>\n      <td>1968:4:1:1</td>\n      <td>0:0:0:0</td>\n      <td>0:0:0:0</td>\n      <td>1.0</td>\n    </tr>\n    <tr>\n      <th>...</th>\n      <td>...</td>\n      <td>...</td>\n      <td>...</td>\n      <td>...</td>\n      <td>...</td>\n      <td>...</td>\n      <td>...</td>\n      <td>...</td>\n      <td>...</td>\n      <td>...</td>\n      <td>...</td>\n      <td>...</td>\n      <td>...</td>\n      <td>...</td>\n      <td>...</td>\n    </tr>\n    <tr>\n      <th>55743</th>\n      <td>tactic_instances</td>\n      <td>246:63:2:2</td>\n      <td>True</td>\n      <td>mathlib/src/set_theory/ordinal.lean</td>\n      <td>246</td>\n      <td>63</td>\n      <td>246</td>\n      <td>63</td>\n      <td>2</td>\n      <td>2</td>\n      <td>246:61:1:1</td>\n      <td>245:5:2:1</td>\n      <td>246:61:1:1</td>\n      <td>245:5:2:1</td>\n      <td>1.0</td>\n    </tr>\n    <tr>\n      <th>55744</th>\n      <td>tactic_instances</td>\n      <td>246:61:1:1</td>\n      <td>True</td>\n      <td>mathlib/src/set_theory/ordinal.lean</td>\n      <td>246</td>\n      <td>61</td>\n      <td>246</td>\n      <td>61</td>\n      <td>1</td>\n      <td>1</td>\n      <td>246:61:1:1</td>\n      <td>246:61:1:1</td>\n      <td>0:0:0:0</td>\n      <td>0:0:0:0</td>\n      <td>1.0</td>\n    </tr>\n    <tr>\n      <th>55745</th>\n      <td>tactic_instances</td>\n      <td>99:29:1:1</td>\n      <td>True</td>\n      <td>mathlib/src/category_theory/abelian/pseudoelem...</td>\n      <td>99</td>\n      <td>29</td>\n      <td>99</td>\n      <td>29</td>\n      <td>1</td>\n      <td>1</td>\n      <td>99:29:1:1</td>\n      <td>99:29:1:1</td>\n      <td>0:0:0:0</td>\n      <td>0:0:0:0</td>\n      <td>1.0</td>\n    </tr>\n    <tr>\n      <th>55746</th>\n      <td>tactic_instances</td>\n      <td>99:48:1:1</td>\n      <td>True</td>\n      <td>mathlib/src/category_theory/abelian/pseudoelem...</td>\n      <td>99</td>\n      <td>48</td>\n      <td>99</td>\n      <td>48</td>\n      <td>1</td>\n      <td>1</td>\n      <td>99:48:1:1</td>\n      <td>99:48:1:1</td>\n      <td>0:0:0:0</td>\n      <td>0:0:0:0</td>\n      <td>1.0</td>\n    </tr>\n    <tr>\n      <th>55747</th>\n      <td>tactic_instances</td>\n      <td>99:67:1:1</td>\n      <td>True</td>\n      <td>mathlib/src/category_theory/abelian/pseudoelem...</td>\n      <td>99</td>\n      <td>67</td>\n      <td>99</td>\n      <td>67</td>\n      <td>1</td>\n      <td>1</td>\n      <td>99:67:1:1</td>\n      <td>99:67:1:1</td>\n      <td>0:0:0:0</td>\n      <td>0:0:0:0</td>\n      <td>1.0</td>\n    </tr>\n  </tbody>\n</table>\n<p>55748 rows × 15 columns</p>\n</div>"
     },
     "metadata": {},
     "execution_count": 8
    }
   ],
   "source": [
    "tactic_instances = pd.read_json(DATA_DIRECTORY + 'raw_traced_data/tactic_instances.json', orient='records')\n",
    "tactic_instances"
   ]
  },
  {
   "source": [
    "`tactic_state.json` includes basic tactic state information both before and after the tactic executes (again, only for recorded tactics which are a subset of all tactics in the code).  This can be added to."
   ],
   "cell_type": "markdown",
   "metadata": {}
  },
  {
   "cell_type": "code",
   "execution_count": 11,
   "metadata": {},
   "outputs": [
    {
     "output_type": "execute_result",
     "data": {
      "text/plain": [
       "               table                 key tactic_instance  \\\n",
       "0       tactic_state  1950:20:2:1:before     1950:20:2:1   \n",
       "1       tactic_state   1950:20:2:1:after     1950:20:2:1   \n",
       "2       tactic_state   1959:4:1:1:before      1959:4:1:1   \n",
       "3       tactic_state    1959:4:1:1:after      1959:4:1:1   \n",
       "4       tactic_state   1962:4:1:1:before      1962:4:1:1   \n",
       "...              ...                 ...             ...   \n",
       "111253  tactic_state     99:29:1:1:after       99:29:1:1   \n",
       "111254  tactic_state    99:48:1:1:before       99:48:1:1   \n",
       "111255  tactic_state     99:48:1:1:after       99:48:1:1   \n",
       "111256  tactic_state    99:67:1:1:before       99:67:1:1   \n",
       "111257  tactic_state     99:67:1:1:after       99:67:1:1   \n",
       "\n",
       "                                                 filename  trace_pos_line  \\\n",
       "0                 lean/library/init/meta/interactive.lean            1982   \n",
       "1                 lean/library/init/meta/interactive.lean            1982   \n",
       "2                 lean/library/init/meta/interactive.lean            1959   \n",
       "3                 lean/library/init/meta/interactive.lean            1959   \n",
       "4                 lean/library/init/meta/interactive.lean            1962   \n",
       "...                                                   ...             ...   \n",
       "111253  mathlib/src/category_theory/abelian/pseudoelem...              99   \n",
       "111254  mathlib/src/category_theory/abelian/pseudoelem...              99   \n",
       "111255  mathlib/src/category_theory/abelian/pseudoelem...              99   \n",
       "111256  mathlib/src/category_theory/abelian/pseudoelem...              99   \n",
       "111257  mathlib/src/category_theory/abelian/pseudoelem...              99   \n",
       "\n",
       "        trace_pos_column before_after  env_fingerprint  goal_count  \n",
       "0                      1       before     3.935797e+18           1  \n",
       "1                      1        after     3.935797e+18           1  \n",
       "2                      4       before     3.935797e+18           1  \n",
       "3                      4        after     3.935797e+18           0  \n",
       "4                      4       before     3.935797e+18           1  \n",
       "...                  ...          ...              ...         ...  \n",
       "111253                29        after     5.675816e+18           0  \n",
       "111254                48       before     5.675816e+18           1  \n",
       "111255                48        after     5.675816e+18           0  \n",
       "111256                67       before     5.675816e+18           1  \n",
       "111257                67        after     5.675816e+18           0  \n",
       "\n",
       "[111258 rows x 9 columns]"
      ],
      "text/html": "<div>\n<style scoped>\n    .dataframe tbody tr th:only-of-type {\n        vertical-align: middle;\n    }\n\n    .dataframe tbody tr th {\n        vertical-align: top;\n    }\n\n    .dataframe thead th {\n        text-align: right;\n    }\n</style>\n<table border=\"1\" class=\"dataframe\">\n  <thead>\n    <tr style=\"text-align: right;\">\n      <th></th>\n      <th>table</th>\n      <th>key</th>\n      <th>tactic_instance</th>\n      <th>filename</th>\n      <th>trace_pos_line</th>\n      <th>trace_pos_column</th>\n      <th>before_after</th>\n      <th>env_fingerprint</th>\n      <th>goal_count</th>\n    </tr>\n  </thead>\n  <tbody>\n    <tr>\n      <th>0</th>\n      <td>tactic_state</td>\n      <td>1950:20:2:1:before</td>\n      <td>1950:20:2:1</td>\n      <td>lean/library/init/meta/interactive.lean</td>\n      <td>1982</td>\n      <td>1</td>\n      <td>before</td>\n      <td>3.935797e+18</td>\n      <td>1</td>\n    </tr>\n    <tr>\n      <th>1</th>\n      <td>tactic_state</td>\n      <td>1950:20:2:1:after</td>\n      <td>1950:20:2:1</td>\n      <td>lean/library/init/meta/interactive.lean</td>\n      <td>1982</td>\n      <td>1</td>\n      <td>after</td>\n      <td>3.935797e+18</td>\n      <td>1</td>\n    </tr>\n    <tr>\n      <th>2</th>\n      <td>tactic_state</td>\n      <td>1959:4:1:1:before</td>\n      <td>1959:4:1:1</td>\n      <td>lean/library/init/meta/interactive.lean</td>\n      <td>1959</td>\n      <td>4</td>\n      <td>before</td>\n      <td>3.935797e+18</td>\n      <td>1</td>\n    </tr>\n    <tr>\n      <th>3</th>\n      <td>tactic_state</td>\n      <td>1959:4:1:1:after</td>\n      <td>1959:4:1:1</td>\n      <td>lean/library/init/meta/interactive.lean</td>\n      <td>1959</td>\n      <td>4</td>\n      <td>after</td>\n      <td>3.935797e+18</td>\n      <td>0</td>\n    </tr>\n    <tr>\n      <th>4</th>\n      <td>tactic_state</td>\n      <td>1962:4:1:1:before</td>\n      <td>1962:4:1:1</td>\n      <td>lean/library/init/meta/interactive.lean</td>\n      <td>1962</td>\n      <td>4</td>\n      <td>before</td>\n      <td>3.935797e+18</td>\n      <td>1</td>\n    </tr>\n    <tr>\n      <th>...</th>\n      <td>...</td>\n      <td>...</td>\n      <td>...</td>\n      <td>...</td>\n      <td>...</td>\n      <td>...</td>\n      <td>...</td>\n      <td>...</td>\n      <td>...</td>\n    </tr>\n    <tr>\n      <th>111253</th>\n      <td>tactic_state</td>\n      <td>99:29:1:1:after</td>\n      <td>99:29:1:1</td>\n      <td>mathlib/src/category_theory/abelian/pseudoelem...</td>\n      <td>99</td>\n      <td>29</td>\n      <td>after</td>\n      <td>5.675816e+18</td>\n      <td>0</td>\n    </tr>\n    <tr>\n      <th>111254</th>\n      <td>tactic_state</td>\n      <td>99:48:1:1:before</td>\n      <td>99:48:1:1</td>\n      <td>mathlib/src/category_theory/abelian/pseudoelem...</td>\n      <td>99</td>\n      <td>48</td>\n      <td>before</td>\n      <td>5.675816e+18</td>\n      <td>1</td>\n    </tr>\n    <tr>\n      <th>111255</th>\n      <td>tactic_state</td>\n      <td>99:48:1:1:after</td>\n      <td>99:48:1:1</td>\n      <td>mathlib/src/category_theory/abelian/pseudoelem...</td>\n      <td>99</td>\n      <td>48</td>\n      <td>after</td>\n      <td>5.675816e+18</td>\n      <td>0</td>\n    </tr>\n    <tr>\n      <th>111256</th>\n      <td>tactic_state</td>\n      <td>99:67:1:1:before</td>\n      <td>99:67:1:1</td>\n      <td>mathlib/src/category_theory/abelian/pseudoelem...</td>\n      <td>99</td>\n      <td>67</td>\n      <td>before</td>\n      <td>5.675816e+18</td>\n      <td>1</td>\n    </tr>\n    <tr>\n      <th>111257</th>\n      <td>tactic_state</td>\n      <td>99:67:1:1:after</td>\n      <td>99:67:1:1</td>\n      <td>mathlib/src/category_theory/abelian/pseudoelem...</td>\n      <td>99</td>\n      <td>67</td>\n      <td>after</td>\n      <td>5.675816e+18</td>\n      <td>0</td>\n    </tr>\n  </tbody>\n</table>\n<p>111258 rows × 9 columns</p>\n</div>"
     },
     "metadata": {},
     "execution_count": 11
    }
   ],
   "source": [
    "tactic_state = pd.read_json(DATA_DIRECTORY + 'raw_traced_data/tactic_state.json', orient='records')\n",
    "tactic_state"
   ]
  },
  {
   "source": [
    "`tactic_state_goal.json` includes basic tactic state goal information both before and after the tactic executes."
   ],
   "cell_type": "markdown",
   "metadata": {}
  },
  {
   "cell_type": "code",
   "execution_count": 12,
   "metadata": {},
   "outputs": [
    {
     "output_type": "execute_result",
     "data": {
      "text/plain": [
       "                    table                   key        tactic_state  \\\n",
       "0       tactic_state_goal  1950:20:2:1:before:0  1950:20:2:1:before   \n",
       "1       tactic_state_goal   1950:20:2:1:after:0   1950:20:2:1:after   \n",
       "2       tactic_state_goal   1959:4:1:1:before:0   1959:4:1:1:before   \n",
       "3       tactic_state_goal   1962:4:1:1:before:0   1962:4:1:1:before   \n",
       "4       tactic_state_goal   1965:4:1:1:before:0   1965:4:1:1:before   \n",
       "...                   ...                   ...                 ...   \n",
       "104875  tactic_state_goal   246:63:2:2:before:0   246:63:2:2:before   \n",
       "104876  tactic_state_goal   246:61:1:1:before:0   246:61:1:1:before   \n",
       "104877  tactic_state_goal    99:29:1:1:before:0    99:29:1:1:before   \n",
       "104878  tactic_state_goal    99:48:1:1:before:0    99:48:1:1:before   \n",
       "104879  tactic_state_goal    99:67:1:1:before:0    99:67:1:1:before   \n",
       "\n",
       "                                                 filename  trace_pos_line  \\\n",
       "0                 lean/library/init/meta/interactive.lean            1982   \n",
       "1                 lean/library/init/meta/interactive.lean            1982   \n",
       "2                 lean/library/init/meta/interactive.lean            1959   \n",
       "3                 lean/library/init/meta/interactive.lean            1962   \n",
       "4                 lean/library/init/meta/interactive.lean            1965   \n",
       "...                                                   ...             ...   \n",
       "104875                mathlib/src/set_theory/ordinal.lean             246   \n",
       "104876                mathlib/src/set_theory/ordinal.lean             246   \n",
       "104877  mathlib/src/category_theory/abelian/pseudoelem...              99   \n",
       "104878  mathlib/src/category_theory/abelian/pseudoelem...              99   \n",
       "104879  mathlib/src/category_theory/abelian/pseudoelem...              99   \n",
       "\n",
       "        trace_pos_column  ix   goal_hash  \\\n",
       "0                      1   0  1457780700   \n",
       "1                      1   0  1454712832   \n",
       "2                      4   0  1255347090   \n",
       "3                      4   0  2114112030   \n",
       "4                      4   0   947635164   \n",
       "...                  ...  ..         ...   \n",
       "104875                63   0   789751616   \n",
       "104876                61   0  1450667120   \n",
       "104877                29   0   584099592   \n",
       "104878                48   0   797882502   \n",
       "104879                67   0   673917384   \n",
       "\n",
       "                                                  goal_pp  \n",
       "0       α : Type u,\\nh₁ : α,\\nt₁ : list α,\\nh₂ : α,\\nt...  \n",
       "1       α : Type u,\\nh₁ : α,\\nt₁ : list α,\\nh₂ : α,\\nt...  \n",
       "2       α : Type u,\\nβ : Type v,\\na₁ a₂ : α\\n⊢ sum.inl...  \n",
       "3       α : Type u,\\nβ : Type v,\\nb₁ b₂ : β\\n⊢ sum.inr...  \n",
       "4       α : Sort u,\\nβ : Sort v,\\na₁ a₂ : α\\n⊢ psum.in...  \n",
       "...                                                   ...  \n",
       "104875  α : Type u_1,\\nβ : Type u_2,\\nγ : Type u_3,\\nr...  \n",
       "104876  α : Type u_1,\\nβ : Type u_2,\\nγ : Type u_3,\\nr...  \n",
       "104877  C : Type u,\\n_inst_1 : category C,\\nP : C,\\nf ...  \n",
       "104878  C : Type u,\\n_inst_1 : category C,\\nP : C,\\nf ...  \n",
       "104879  C : Type u,\\n_inst_1 : category C,\\nP : C,\\nf ...  \n",
       "\n",
       "[104880 rows x 9 columns]"
      ],
      "text/html": "<div>\n<style scoped>\n    .dataframe tbody tr th:only-of-type {\n        vertical-align: middle;\n    }\n\n    .dataframe tbody tr th {\n        vertical-align: top;\n    }\n\n    .dataframe thead th {\n        text-align: right;\n    }\n</style>\n<table border=\"1\" class=\"dataframe\">\n  <thead>\n    <tr style=\"text-align: right;\">\n      <th></th>\n      <th>table</th>\n      <th>key</th>\n      <th>tactic_state</th>\n      <th>filename</th>\n      <th>trace_pos_line</th>\n      <th>trace_pos_column</th>\n      <th>ix</th>\n      <th>goal_hash</th>\n      <th>goal_pp</th>\n    </tr>\n  </thead>\n  <tbody>\n    <tr>\n      <th>0</th>\n      <td>tactic_state_goal</td>\n      <td>1950:20:2:1:before:0</td>\n      <td>1950:20:2:1:before</td>\n      <td>lean/library/init/meta/interactive.lean</td>\n      <td>1982</td>\n      <td>1</td>\n      <td>0</td>\n      <td>1457780700</td>\n      <td>α : Type u,\\nh₁ : α,\\nt₁ : list α,\\nh₂ : α,\\nt...</td>\n    </tr>\n    <tr>\n      <th>1</th>\n      <td>tactic_state_goal</td>\n      <td>1950:20:2:1:after:0</td>\n      <td>1950:20:2:1:after</td>\n      <td>lean/library/init/meta/interactive.lean</td>\n      <td>1982</td>\n      <td>1</td>\n      <td>0</td>\n      <td>1454712832</td>\n      <td>α : Type u,\\nh₁ : α,\\nt₁ : list α,\\nh₂ : α,\\nt...</td>\n    </tr>\n    <tr>\n      <th>2</th>\n      <td>tactic_state_goal</td>\n      <td>1959:4:1:1:before:0</td>\n      <td>1959:4:1:1:before</td>\n      <td>lean/library/init/meta/interactive.lean</td>\n      <td>1959</td>\n      <td>4</td>\n      <td>0</td>\n      <td>1255347090</td>\n      <td>α : Type u,\\nβ : Type v,\\na₁ a₂ : α\\n⊢ sum.inl...</td>\n    </tr>\n    <tr>\n      <th>3</th>\n      <td>tactic_state_goal</td>\n      <td>1962:4:1:1:before:0</td>\n      <td>1962:4:1:1:before</td>\n      <td>lean/library/init/meta/interactive.lean</td>\n      <td>1962</td>\n      <td>4</td>\n      <td>0</td>\n      <td>2114112030</td>\n      <td>α : Type u,\\nβ : Type v,\\nb₁ b₂ : β\\n⊢ sum.inr...</td>\n    </tr>\n    <tr>\n      <th>4</th>\n      <td>tactic_state_goal</td>\n      <td>1965:4:1:1:before:0</td>\n      <td>1965:4:1:1:before</td>\n      <td>lean/library/init/meta/interactive.lean</td>\n      <td>1965</td>\n      <td>4</td>\n      <td>0</td>\n      <td>947635164</td>\n      <td>α : Sort u,\\nβ : Sort v,\\na₁ a₂ : α\\n⊢ psum.in...</td>\n    </tr>\n    <tr>\n      <th>...</th>\n      <td>...</td>\n      <td>...</td>\n      <td>...</td>\n      <td>...</td>\n      <td>...</td>\n      <td>...</td>\n      <td>...</td>\n      <td>...</td>\n      <td>...</td>\n    </tr>\n    <tr>\n      <th>104875</th>\n      <td>tactic_state_goal</td>\n      <td>246:63:2:2:before:0</td>\n      <td>246:63:2:2:before</td>\n      <td>mathlib/src/set_theory/ordinal.lean</td>\n      <td>246</td>\n      <td>63</td>\n      <td>0</td>\n      <td>789751616</td>\n      <td>α : Type u_1,\\nβ : Type u_2,\\nγ : Type u_3,\\nr...</td>\n    </tr>\n    <tr>\n      <th>104876</th>\n      <td>tactic_state_goal</td>\n      <td>246:61:1:1:before:0</td>\n      <td>246:61:1:1:before</td>\n      <td>mathlib/src/set_theory/ordinal.lean</td>\n      <td>246</td>\n      <td>61</td>\n      <td>0</td>\n      <td>1450667120</td>\n      <td>α : Type u_1,\\nβ : Type u_2,\\nγ : Type u_3,\\nr...</td>\n    </tr>\n    <tr>\n      <th>104877</th>\n      <td>tactic_state_goal</td>\n      <td>99:29:1:1:before:0</td>\n      <td>99:29:1:1:before</td>\n      <td>mathlib/src/category_theory/abelian/pseudoelem...</td>\n      <td>99</td>\n      <td>29</td>\n      <td>0</td>\n      <td>584099592</td>\n      <td>C : Type u,\\n_inst_1 : category C,\\nP : C,\\nf ...</td>\n    </tr>\n    <tr>\n      <th>104878</th>\n      <td>tactic_state_goal</td>\n      <td>99:48:1:1:before:0</td>\n      <td>99:48:1:1:before</td>\n      <td>mathlib/src/category_theory/abelian/pseudoelem...</td>\n      <td>99</td>\n      <td>48</td>\n      <td>0</td>\n      <td>797882502</td>\n      <td>C : Type u,\\n_inst_1 : category C,\\nP : C,\\nf ...</td>\n    </tr>\n    <tr>\n      <th>104879</th>\n      <td>tactic_state_goal</td>\n      <td>99:67:1:1:before:0</td>\n      <td>99:67:1:1:before</td>\n      <td>mathlib/src/category_theory/abelian/pseudoelem...</td>\n      <td>99</td>\n      <td>67</td>\n      <td>0</td>\n      <td>673917384</td>\n      <td>C : Type u,\\n_inst_1 : category C,\\nP : C,\\nf ...</td>\n    </tr>\n  </tbody>\n</table>\n<p>104880 rows × 9 columns</p>\n</div>"
     },
     "metadata": {},
     "execution_count": 12
    }
   ],
   "source": [
    "tactic_state_goal = pd.read_json(DATA_DIRECTORY + 'raw_traced_data/tactic_state_goal.json', orient='records')\n",
    "tactic_state_goal"
   ]
  },
  {
   "source": [
    "`tactic_param_pos` includes position data for every *interactive* tactic parameter.  There are some parameters which are not included since they don't go through the parser."
   ],
   "cell_type": "markdown",
   "metadata": {}
  },
  {
   "cell_type": "code",
   "execution_count": 9,
   "metadata": {},
   "outputs": [
    {
     "output_type": "execute_result",
     "data": {
      "text/plain": [
       "                  table      key  line  \\\n",
       "0      tactic_param_pos   1934:9  1934   \n",
       "1      tactic_param_pos   1947:9  1947   \n",
       "2      tactic_param_pos   1948:9  1948   \n",
       "3      tactic_param_pos  1950:11  1950   \n",
       "4      tactic_param_pos  1950:18  1950   \n",
       "...                 ...      ...   ...   \n",
       "58977  tactic_param_pos    239:9   239   \n",
       "58978  tactic_param_pos   245:10   245   \n",
       "58979  tactic_param_pos   245:15   245   \n",
       "58980  tactic_param_pos   246:61   246   \n",
       "58981  tactic_param_pos    99:71    99   \n",
       "\n",
       "                                                filename  trace_pos_line  \\\n",
       "0                lean/library/init/meta/interactive.lean            1932   \n",
       "1                lean/library/init/meta/interactive.lean            1932   \n",
       "2                lean/library/init/meta/interactive.lean            1932   \n",
       "3                lean/library/init/meta/interactive.lean            1932   \n",
       "4                lean/library/init/meta/interactive.lean            1932   \n",
       "...                                                  ...             ...   \n",
       "58977                mathlib/src/set_theory/ordinal.lean             234   \n",
       "58978                mathlib/src/set_theory/ordinal.lean             243   \n",
       "58979                mathlib/src/set_theory/ordinal.lean             243   \n",
       "58980                mathlib/src/set_theory/ordinal.lean             243   \n",
       "58981  mathlib/src/category_theory/abelian/pseudoelem...              98   \n",
       "\n",
       "       trace_pos_column  column  end_line  end_column  \n",
       "0                     6       9      1934           9  \n",
       "1                     6       9      1947          23  \n",
       "2                     6       9      1948          25  \n",
       "3                     6      11      1950          12  \n",
       "4                     6      18      1950          43  \n",
       "...                 ...     ...       ...         ...  \n",
       "58977                 1       9       240           1  \n",
       "58978                 1      10       245          15  \n",
       "58979                 1      15       246          61  \n",
       "58980                 1      61       246          61  \n",
       "58981                 1      71        99          71  \n",
       "\n",
       "[58982 rows x 9 columns]"
      ],
      "text/html": "<div>\n<style scoped>\n    .dataframe tbody tr th:only-of-type {\n        vertical-align: middle;\n    }\n\n    .dataframe tbody tr th {\n        vertical-align: top;\n    }\n\n    .dataframe thead th {\n        text-align: right;\n    }\n</style>\n<table border=\"1\" class=\"dataframe\">\n  <thead>\n    <tr style=\"text-align: right;\">\n      <th></th>\n      <th>table</th>\n      <th>key</th>\n      <th>line</th>\n      <th>filename</th>\n      <th>trace_pos_line</th>\n      <th>trace_pos_column</th>\n      <th>column</th>\n      <th>end_line</th>\n      <th>end_column</th>\n    </tr>\n  </thead>\n  <tbody>\n    <tr>\n      <th>0</th>\n      <td>tactic_param_pos</td>\n      <td>1934:9</td>\n      <td>1934</td>\n      <td>lean/library/init/meta/interactive.lean</td>\n      <td>1932</td>\n      <td>6</td>\n      <td>9</td>\n      <td>1934</td>\n      <td>9</td>\n    </tr>\n    <tr>\n      <th>1</th>\n      <td>tactic_param_pos</td>\n      <td>1947:9</td>\n      <td>1947</td>\n      <td>lean/library/init/meta/interactive.lean</td>\n      <td>1932</td>\n      <td>6</td>\n      <td>9</td>\n      <td>1947</td>\n      <td>23</td>\n    </tr>\n    <tr>\n      <th>2</th>\n      <td>tactic_param_pos</td>\n      <td>1948:9</td>\n      <td>1948</td>\n      <td>lean/library/init/meta/interactive.lean</td>\n      <td>1932</td>\n      <td>6</td>\n      <td>9</td>\n      <td>1948</td>\n      <td>25</td>\n    </tr>\n    <tr>\n      <th>3</th>\n      <td>tactic_param_pos</td>\n      <td>1950:11</td>\n      <td>1950</td>\n      <td>lean/library/init/meta/interactive.lean</td>\n      <td>1932</td>\n      <td>6</td>\n      <td>11</td>\n      <td>1950</td>\n      <td>12</td>\n    </tr>\n    <tr>\n      <th>4</th>\n      <td>tactic_param_pos</td>\n      <td>1950:18</td>\n      <td>1950</td>\n      <td>lean/library/init/meta/interactive.lean</td>\n      <td>1932</td>\n      <td>6</td>\n      <td>18</td>\n      <td>1950</td>\n      <td>43</td>\n    </tr>\n    <tr>\n      <th>...</th>\n      <td>...</td>\n      <td>...</td>\n      <td>...</td>\n      <td>...</td>\n      <td>...</td>\n      <td>...</td>\n      <td>...</td>\n      <td>...</td>\n      <td>...</td>\n    </tr>\n    <tr>\n      <th>58977</th>\n      <td>tactic_param_pos</td>\n      <td>239:9</td>\n      <td>239</td>\n      <td>mathlib/src/set_theory/ordinal.lean</td>\n      <td>234</td>\n      <td>1</td>\n      <td>9</td>\n      <td>240</td>\n      <td>1</td>\n    </tr>\n    <tr>\n      <th>58978</th>\n      <td>tactic_param_pos</td>\n      <td>245:10</td>\n      <td>245</td>\n      <td>mathlib/src/set_theory/ordinal.lean</td>\n      <td>243</td>\n      <td>1</td>\n      <td>10</td>\n      <td>245</td>\n      <td>15</td>\n    </tr>\n    <tr>\n      <th>58979</th>\n      <td>tactic_param_pos</td>\n      <td>245:15</td>\n      <td>245</td>\n      <td>mathlib/src/set_theory/ordinal.lean</td>\n      <td>243</td>\n      <td>1</td>\n      <td>15</td>\n      <td>246</td>\n      <td>61</td>\n    </tr>\n    <tr>\n      <th>58980</th>\n      <td>tactic_param_pos</td>\n      <td>246:61</td>\n      <td>246</td>\n      <td>mathlib/src/set_theory/ordinal.lean</td>\n      <td>243</td>\n      <td>1</td>\n      <td>61</td>\n      <td>246</td>\n      <td>61</td>\n    </tr>\n    <tr>\n      <th>58981</th>\n      <td>tactic_param_pos</td>\n      <td>99:71</td>\n      <td>99</td>\n      <td>mathlib/src/category_theory/abelian/pseudoelem...</td>\n      <td>98</td>\n      <td>1</td>\n      <td>71</td>\n      <td>99</td>\n      <td>71</td>\n    </tr>\n  </tbody>\n</table>\n<p>58982 rows × 9 columns</p>\n</div>"
     },
     "metadata": {},
     "execution_count": 9
    }
   ],
   "source": [
    "tactic_param_pos = pd.read_json(DATA_DIRECTORY + 'raw_traced_data/tactic_param_pos.json', orient='records')\n",
    "tactic_param_pos"
   ]
  },
  {
   "source": [
    "`tactic_param_value` includes a pretty printed version of the value passed to the tactic argument.  This is not necessarily how it appears in the lean code, but it is how Lean internally receives the data.  A user code add more tracing code to present this in more ways."
   ],
   "cell_type": "markdown",
   "metadata": {}
  },
  {
   "cell_type": "code",
   "execution_count": 10,
   "metadata": {},
   "outputs": [
    {
     "output_type": "execute_result",
     "data": {
      "text/plain": [
       "                    table      key  \\\n",
       "0      tactic_param_value   1934:9   \n",
       "1      tactic_param_value   1947:9   \n",
       "2      tactic_param_value   1948:9   \n",
       "3      tactic_param_value  1950:11   \n",
       "4      tactic_param_value  1950:34   \n",
       "...                   ...      ...   \n",
       "58977  tactic_param_value    239:9   \n",
       "58978  tactic_param_value   245:10   \n",
       "58979  tactic_param_value   245:15   \n",
       "58980  tactic_param_value   246:61   \n",
       "58981  tactic_param_value    99:71   \n",
       "\n",
       "                                       reflected_expr_pp  \\\n",
       "0                                               list.nil   \n",
       "1                                     ``(_root_.propext)   \n",
       "2                                   ``(_root_.iff.intro)   \n",
       "3               some (name.mk_string \"_\" name.anonymous)   \n",
       "4                                                some ()   \n",
       "...                                                  ...   \n",
       "58977                                  ``(irrefl _ this)   \n",
       "58978                                                 tt   \n",
       "58979  [tactic.simp_arg_type.expr ``(g.init_iff), tac...   \n",
       "58980                          interactive.loc.ns [none]   \n",
       "58981                          interactive.loc.ns [none]   \n",
       "\n",
       "                                                filename  trace_pos_line  \\\n",
       "0                lean/library/init/meta/interactive.lean            1932   \n",
       "1                lean/library/init/meta/interactive.lean            1932   \n",
       "2                lean/library/init/meta/interactive.lean            1932   \n",
       "3                lean/library/init/meta/interactive.lean            1932   \n",
       "4                lean/library/init/meta/interactive.lean            1932   \n",
       "...                                                  ...             ...   \n",
       "58977                mathlib/src/set_theory/ordinal.lean             234   \n",
       "58978                mathlib/src/set_theory/ordinal.lean             243   \n",
       "58979                mathlib/src/set_theory/ordinal.lean             243   \n",
       "58980                mathlib/src/set_theory/ordinal.lean             243   \n",
       "58981  mathlib/src/category_theory/abelian/pseudoelem...              98   \n",
       "\n",
       "       trace_pos_column  \n",
       "0                     6  \n",
       "1                     6  \n",
       "2                     6  \n",
       "3                     6  \n",
       "4                     6  \n",
       "...                 ...  \n",
       "58977                 1  \n",
       "58978                 1  \n",
       "58979                 1  \n",
       "58980                 1  \n",
       "58981                 1  \n",
       "\n",
       "[58982 rows x 6 columns]"
      ],
      "text/html": "<div>\n<style scoped>\n    .dataframe tbody tr th:only-of-type {\n        vertical-align: middle;\n    }\n\n    .dataframe tbody tr th {\n        vertical-align: top;\n    }\n\n    .dataframe thead th {\n        text-align: right;\n    }\n</style>\n<table border=\"1\" class=\"dataframe\">\n  <thead>\n    <tr style=\"text-align: right;\">\n      <th></th>\n      <th>table</th>\n      <th>key</th>\n      <th>reflected_expr_pp</th>\n      <th>filename</th>\n      <th>trace_pos_line</th>\n      <th>trace_pos_column</th>\n    </tr>\n  </thead>\n  <tbody>\n    <tr>\n      <th>0</th>\n      <td>tactic_param_value</td>\n      <td>1934:9</td>\n      <td>list.nil</td>\n      <td>lean/library/init/meta/interactive.lean</td>\n      <td>1932</td>\n      <td>6</td>\n    </tr>\n    <tr>\n      <th>1</th>\n      <td>tactic_param_value</td>\n      <td>1947:9</td>\n      <td>``(_root_.propext)</td>\n      <td>lean/library/init/meta/interactive.lean</td>\n      <td>1932</td>\n      <td>6</td>\n    </tr>\n    <tr>\n      <th>2</th>\n      <td>tactic_param_value</td>\n      <td>1948:9</td>\n      <td>``(_root_.iff.intro)</td>\n      <td>lean/library/init/meta/interactive.lean</td>\n      <td>1932</td>\n      <td>6</td>\n    </tr>\n    <tr>\n      <th>3</th>\n      <td>tactic_param_value</td>\n      <td>1950:11</td>\n      <td>some (name.mk_string \"_\" name.anonymous)</td>\n      <td>lean/library/init/meta/interactive.lean</td>\n      <td>1932</td>\n      <td>6</td>\n    </tr>\n    <tr>\n      <th>4</th>\n      <td>tactic_param_value</td>\n      <td>1950:34</td>\n      <td>some ()</td>\n      <td>lean/library/init/meta/interactive.lean</td>\n      <td>1932</td>\n      <td>6</td>\n    </tr>\n    <tr>\n      <th>...</th>\n      <td>...</td>\n      <td>...</td>\n      <td>...</td>\n      <td>...</td>\n      <td>...</td>\n      <td>...</td>\n    </tr>\n    <tr>\n      <th>58977</th>\n      <td>tactic_param_value</td>\n      <td>239:9</td>\n      <td>``(irrefl _ this)</td>\n      <td>mathlib/src/set_theory/ordinal.lean</td>\n      <td>234</td>\n      <td>1</td>\n    </tr>\n    <tr>\n      <th>58978</th>\n      <td>tactic_param_value</td>\n      <td>245:10</td>\n      <td>tt</td>\n      <td>mathlib/src/set_theory/ordinal.lean</td>\n      <td>243</td>\n      <td>1</td>\n    </tr>\n    <tr>\n      <th>58979</th>\n      <td>tactic_param_value</td>\n      <td>245:15</td>\n      <td>[tactic.simp_arg_type.expr ``(g.init_iff), tac...</td>\n      <td>mathlib/src/set_theory/ordinal.lean</td>\n      <td>243</td>\n      <td>1</td>\n    </tr>\n    <tr>\n      <th>58980</th>\n      <td>tactic_param_value</td>\n      <td>246:61</td>\n      <td>interactive.loc.ns [none]</td>\n      <td>mathlib/src/set_theory/ordinal.lean</td>\n      <td>243</td>\n      <td>1</td>\n    </tr>\n    <tr>\n      <th>58981</th>\n      <td>tactic_param_value</td>\n      <td>99:71</td>\n      <td>interactive.loc.ns [none]</td>\n      <td>mathlib/src/category_theory/abelian/pseudoelem...</td>\n      <td>98</td>\n      <td>1</td>\n    </tr>\n  </tbody>\n</table>\n<p>58982 rows × 6 columns</p>\n</div>"
     },
     "metadata": {},
     "execution_count": 10
    }
   ],
   "source": [
    "tactic_param_value = pd.read_json(DATA_DIRECTORY + 'raw_traced_data/tactic_param_value.json', orient='records')\n",
    "tactic_param_value"
   ]
  },
  {
   "source": [
    "## Extracted Proof Data"
   ],
   "cell_type": "markdown",
   "metadata": {}
  },
  {
   "source": [
    "The data extraction is still a work in progress, but so far we have the following data extracting the proofs from the code."
   ],
   "cell_type": "markdown",
   "metadata": {}
  },
  {
   "source": [
    "`proof_trees.json` is a list of abstract syntax trees for each proof.  It doesn't contain much data itself, but has keys to rows in the following tables.  (Unlike the other datasets, this is not a 2D table.)"
   ],
   "cell_type": "markdown",
   "metadata": {}
  },
  {
   "cell_type": "code",
   "execution_count": 22,
   "metadata": {},
   "outputs": [
    {
     "output_type": "execute_result",
     "data": {
      "text/plain": [
       "{'key': 'lean/library/data/buffer.lean:48:1',\n",
       " 'node_type': 'proof',\n",
       " 'node_subtype': 'by',\n",
       " 'tactic': {'key': 'lean/library/data/buffer.lean:48:30',\n",
       "  'node_type': 'tactic',\n",
       "  'node_subtype': 'semicolon',\n",
       "  'tactic1': {'key': 'lean/library/data/buffer.lean:48:11',\n",
       "   'node_type': 'tactic',\n",
       "   'node_subtype': 'semicolon',\n",
       "   'tactic1': {'key': 'lean/library/data/buffer.lean:48:4',\n",
       "    'node_type': 'tactic',\n",
       "    'node_subtype': 'named',\n",
       "    'args': [{'key': 'lean/library/data/buffer.lean:48:10',\n",
       "      'node_type': 'tactic_arg',\n",
       "      'node_subtype': 'expression'},\n",
       "     {'key': 'lean/library/data/buffer.lean:48:11',\n",
       "      'node_type': 'tactic_arg',\n",
       "      'node_subtype': 'expression'}]},\n",
       "   'tactic2': {'key': 'lean/library/data/buffer.lean:48:13',\n",
       "    'node_type': 'tactic',\n",
       "    'node_subtype': 'named',\n",
       "    'args': [{'key': 'lean/library/data/buffer.lean:48:20',\n",
       "      'node_type': 'tactic_arg',\n",
       "      'node_subtype': 'expression'},\n",
       "     {'key': 'lean/library/data/buffer.lean:48:30',\n",
       "      'node_type': 'tactic_arg',\n",
       "      'node_subtype': 'expression'}]}},\n",
       "  'tactic2': {'key': 'lean/library/data/buffer.lean:48:32',\n",
       "   'node_type': 'tactic',\n",
       "   'node_subtype': 'named',\n",
       "   'args': [{'key': 'lean/library/data/buffer.lean:48:37',\n",
       "     'node_type': 'tactic_arg',\n",
       "     'node_subtype': 'expression'},\n",
       "    {'key': 'lean/library/data/buffer.lean:50:1',\n",
       "     'node_type': 'tactic_arg',\n",
       "     'node_subtype': 'expression'}]}}}"
      ]
     },
     "metadata": {},
     "execution_count": 22
    }
   ],
   "source": [
    "with open(DATA_DIRECTORY + 'extracted_proof_data/proof_trees.json') as f:\n",
    "    proof_trees = json.load(f)\n",
    "proof_trees[0]"
   ]
  },
  {
   "source": [
    "`proofs.json` contains the Lean human-written text for all tactic proofs along with some other extracted information."
   ],
   "cell_type": "markdown",
   "metadata": {}
  },
  {
   "cell_type": "code",
   "execution_count": 23,
   "metadata": {},
   "outputs": [
    {
     "output_type": "execute_result",
     "data": {
      "text/plain": [
       "                                                     key  \\\n",
       "0                     lean/library/data/buffer.lean:48:1   \n",
       "1                     lean/library/data/buffer.lean:51:1   \n",
       "2              lean/library/data/buffer/parser.lean:29:1   \n",
       "3              lean/library/data/buffer/parser.lean:38:1   \n",
       "4                     lean/library/data/dlist.lean:50:26   \n",
       "...                                                  ...   \n",
       "13360  mathlib/src/testing/slim_check/testable.lean:4...   \n",
       "13361  mathlib/src/testing/slim_check/testable.lean:4...   \n",
       "13362  mathlib/src/testing/slim_check/testable.lean:4...   \n",
       "13363  mathlib/src/testing/slim_check/testable.lean:4...   \n",
       "13364  mathlib/src/testing/slim_check/testable.lean:4...   \n",
       "\n",
       "                                           filename  start_line  start_column  \\\n",
       "0                     lean/library/data/buffer.lean          48             1   \n",
       "1                     lean/library/data/buffer.lean          51             1   \n",
       "2              lean/library/data/buffer/parser.lean          29             1   \n",
       "3              lean/library/data/buffer/parser.lean          38             1   \n",
       "4                      lean/library/data/dlist.lean          50            26   \n",
       "...                                             ...         ...           ...   \n",
       "13360  mathlib/src/testing/slim_check/testable.lean         419            35   \n",
       "13361  mathlib/src/testing/slim_check/testable.lean         423            35   \n",
       "13362  mathlib/src/testing/slim_check/testable.lean         428            37   \n",
       "13363  mathlib/src/testing/slim_check/testable.lean         435            24   \n",
       "13364  mathlib/src/testing/slim_check/testable.lean         446             5   \n",
       "\n",
       "       end_line  end_column  \\\n",
       "0            50           1   \n",
       "1            53           1   \n",
       "2            36           1   \n",
       "3            47           1   \n",
       "4            50          63   \n",
       "...         ...         ...   \n",
       "13360       419          70   \n",
       "13361       425          57   \n",
       "13362       429          64   \n",
       "13363       436          64   \n",
       "13364       446          36   \n",
       "\n",
       "                                             code_string  class  line  column  \\\n",
       "0      by cases b; unfold read read'; simp [array.rea...     by    48       1   \n",
       "1      by cases b; unfold write write'; simp [array.w...     by    51       1   \n",
       "2      begin apply funext, intro input, apply funext,...  begin    29       1   \n",
       "3      begin apply funext, intro input, apply funext,...  begin    38       1   \n",
       "4                  by abstract { intros, simp, rw [←h] }     by    50      26   \n",
       "...                                                  ...    ...   ...     ...   \n",
       "13360                by { intro h, apply h, left, refl }     by   419      35   \n",
       "13361     by { intros h i h', apply h, right, apply h' }     by   423      35   \n",
       "13362  by { intros j h, simp only [ball_cons,named_bi...     by   428      37   \n",
       "13363  by { simp only [ball_cons,named_binder], apply...     by   435      24   \n",
       "13364                    by { rw [length_map], apply h }     by   446       5   \n",
       "\n",
       "                                        first_tactic_key  \n",
       "0                    lean/library/data/buffer.lean:48:30  \n",
       "1                    lean/library/data/buffer.lean:51:32  \n",
       "2              lean/library/data/buffer/parser.lean:30:1  \n",
       "3              lean/library/data/buffer/parser.lean:39:1  \n",
       "4                     lean/library/data/dlist.lean:50:29  \n",
       "...                                                  ...  \n",
       "13360  mathlib/src/testing/slim_check/testable.lean:4...  \n",
       "13361  mathlib/src/testing/slim_check/testable.lean:4...  \n",
       "13362  mathlib/src/testing/slim_check/testable.lean:4...  \n",
       "13363  mathlib/src/testing/slim_check/testable.lean:4...  \n",
       "13364  mathlib/src/testing/slim_check/testable.lean:4...  \n",
       "\n",
       "[13365 rows x 11 columns]"
      ],
      "text/html": "<div>\n<style scoped>\n    .dataframe tbody tr th:only-of-type {\n        vertical-align: middle;\n    }\n\n    .dataframe tbody tr th {\n        vertical-align: top;\n    }\n\n    .dataframe thead th {\n        text-align: right;\n    }\n</style>\n<table border=\"1\" class=\"dataframe\">\n  <thead>\n    <tr style=\"text-align: right;\">\n      <th></th>\n      <th>key</th>\n      <th>filename</th>\n      <th>start_line</th>\n      <th>start_column</th>\n      <th>end_line</th>\n      <th>end_column</th>\n      <th>code_string</th>\n      <th>class</th>\n      <th>line</th>\n      <th>column</th>\n      <th>first_tactic_key</th>\n    </tr>\n  </thead>\n  <tbody>\n    <tr>\n      <th>0</th>\n      <td>lean/library/data/buffer.lean:48:1</td>\n      <td>lean/library/data/buffer.lean</td>\n      <td>48</td>\n      <td>1</td>\n      <td>50</td>\n      <td>1</td>\n      <td>by cases b; unfold read read'; simp [array.rea...</td>\n      <td>by</td>\n      <td>48</td>\n      <td>1</td>\n      <td>lean/library/data/buffer.lean:48:30</td>\n    </tr>\n    <tr>\n      <th>1</th>\n      <td>lean/library/data/buffer.lean:51:1</td>\n      <td>lean/library/data/buffer.lean</td>\n      <td>51</td>\n      <td>1</td>\n      <td>53</td>\n      <td>1</td>\n      <td>by cases b; unfold write write'; simp [array.w...</td>\n      <td>by</td>\n      <td>51</td>\n      <td>1</td>\n      <td>lean/library/data/buffer.lean:51:32</td>\n    </tr>\n    <tr>\n      <th>2</th>\n      <td>lean/library/data/buffer/parser.lean:29:1</td>\n      <td>lean/library/data/buffer/parser.lean</td>\n      <td>29</td>\n      <td>1</td>\n      <td>36</td>\n      <td>1</td>\n      <td>begin apply funext, intro input, apply funext,...</td>\n      <td>begin</td>\n      <td>29</td>\n      <td>1</td>\n      <td>lean/library/data/buffer/parser.lean:30:1</td>\n    </tr>\n    <tr>\n      <th>3</th>\n      <td>lean/library/data/buffer/parser.lean:38:1</td>\n      <td>lean/library/data/buffer/parser.lean</td>\n      <td>38</td>\n      <td>1</td>\n      <td>47</td>\n      <td>1</td>\n      <td>begin apply funext, intro input, apply funext,...</td>\n      <td>begin</td>\n      <td>38</td>\n      <td>1</td>\n      <td>lean/library/data/buffer/parser.lean:39:1</td>\n    </tr>\n    <tr>\n      <th>4</th>\n      <td>lean/library/data/dlist.lean:50:26</td>\n      <td>lean/library/data/dlist.lean</td>\n      <td>50</td>\n      <td>26</td>\n      <td>50</td>\n      <td>63</td>\n      <td>by abstract { intros, simp, rw [←h] }</td>\n      <td>by</td>\n      <td>50</td>\n      <td>26</td>\n      <td>lean/library/data/dlist.lean:50:29</td>\n    </tr>\n    <tr>\n      <th>...</th>\n      <td>...</td>\n      <td>...</td>\n      <td>...</td>\n      <td>...</td>\n      <td>...</td>\n      <td>...</td>\n      <td>...</td>\n      <td>...</td>\n      <td>...</td>\n      <td>...</td>\n      <td>...</td>\n    </tr>\n    <tr>\n      <th>13360</th>\n      <td>mathlib/src/testing/slim_check/testable.lean:4...</td>\n      <td>mathlib/src/testing/slim_check/testable.lean</td>\n      <td>419</td>\n      <td>35</td>\n      <td>419</td>\n      <td>70</td>\n      <td>by { intro h, apply h, left, refl }</td>\n      <td>by</td>\n      <td>419</td>\n      <td>35</td>\n      <td>mathlib/src/testing/slim_check/testable.lean:4...</td>\n    </tr>\n    <tr>\n      <th>13361</th>\n      <td>mathlib/src/testing/slim_check/testable.lean:4...</td>\n      <td>mathlib/src/testing/slim_check/testable.lean</td>\n      <td>423</td>\n      <td>35</td>\n      <td>425</td>\n      <td>57</td>\n      <td>by { intros h i h', apply h, right, apply h' }</td>\n      <td>by</td>\n      <td>423</td>\n      <td>35</td>\n      <td>mathlib/src/testing/slim_check/testable.lean:4...</td>\n    </tr>\n    <tr>\n      <th>13362</th>\n      <td>mathlib/src/testing/slim_check/testable.lean:4...</td>\n      <td>mathlib/src/testing/slim_check/testable.lean</td>\n      <td>428</td>\n      <td>37</td>\n      <td>429</td>\n      <td>64</td>\n      <td>by { intros j h, simp only [ball_cons,named_bi...</td>\n      <td>by</td>\n      <td>428</td>\n      <td>37</td>\n      <td>mathlib/src/testing/slim_check/testable.lean:4...</td>\n    </tr>\n    <tr>\n      <th>13363</th>\n      <td>mathlib/src/testing/slim_check/testable.lean:4...</td>\n      <td>mathlib/src/testing/slim_check/testable.lean</td>\n      <td>435</td>\n      <td>24</td>\n      <td>436</td>\n      <td>64</td>\n      <td>by { simp only [ball_cons,named_binder], apply...</td>\n      <td>by</td>\n      <td>435</td>\n      <td>24</td>\n      <td>mathlib/src/testing/slim_check/testable.lean:4...</td>\n    </tr>\n    <tr>\n      <th>13364</th>\n      <td>mathlib/src/testing/slim_check/testable.lean:4...</td>\n      <td>mathlib/src/testing/slim_check/testable.lean</td>\n      <td>446</td>\n      <td>5</td>\n      <td>446</td>\n      <td>36</td>\n      <td>by { rw [length_map], apply h }</td>\n      <td>by</td>\n      <td>446</td>\n      <td>5</td>\n      <td>mathlib/src/testing/slim_check/testable.lean:4...</td>\n    </tr>\n  </tbody>\n</table>\n<p>13365 rows × 11 columns</p>\n</div>"
     },
     "metadata": {},
     "execution_count": 23
    }
   ],
   "source": [
    "proofs = pd.read_json(DATA_DIRECTORY + 'extracted_proof_data/proofs.json', orient='records')\n",
    "proofs"
   ]
  },
  {
   "source": [
    "`tactics.json` contains the Lean human-written text for all tactic commands along with some other extracted information."
   ],
   "cell_type": "markdown",
   "metadata": {}
  },
  {
   "cell_type": "code",
   "execution_count": 24,
   "metadata": {},
   "outputs": [
    {
     "output_type": "execute_result",
     "data": {
      "text/plain": [
       "                                                     key  \\\n",
       "0                     lean/library/data/buffer.lean:48:4   \n",
       "1                    lean/library/data/buffer.lean:48:13   \n",
       "2                    lean/library/data/buffer.lean:48:11   \n",
       "3                    lean/library/data/buffer.lean:48:32   \n",
       "4                    lean/library/data/buffer.lean:48:30   \n",
       "...                                                  ...   \n",
       "52714  mathlib/src/testing/slim_check/testable.lean:4...   \n",
       "52715  mathlib/src/testing/slim_check/testable.lean:4...   \n",
       "52716  mathlib/src/testing/slim_check/testable.lean:4...   \n",
       "52717  mathlib/src/testing/slim_check/testable.lean:4...   \n",
       "52718  mathlib/src/testing/slim_check/testable.lean:4...   \n",
       "\n",
       "                                           filename  start_line  start_column  \\\n",
       "0                     lean/library/data/buffer.lean          48             4   \n",
       "1                     lean/library/data/buffer.lean          48            13   \n",
       "2                     lean/library/data/buffer.lean          48             4   \n",
       "3                     lean/library/data/buffer.lean          48            32   \n",
       "4                     lean/library/data/buffer.lean          48             4   \n",
       "...                                             ...         ...           ...   \n",
       "52714  mathlib/src/testing/slim_check/testable.lean         436            29   \n",
       "52715  mathlib/src/testing/slim_check/testable.lean         435            27   \n",
       "52716  mathlib/src/testing/slim_check/testable.lean         446            10   \n",
       "52717  mathlib/src/testing/slim_check/testable.lean         446            27   \n",
       "52718  mathlib/src/testing/slim_check/testable.lean         446             8   \n",
       "\n",
       "       end_line  end_column  \\\n",
       "0            48          11   \n",
       "1            48          30   \n",
       "2            48          30   \n",
       "3            50           1   \n",
       "4            50           1   \n",
       "...         ...         ...   \n",
       "52714       436          61   \n",
       "52715       436          64   \n",
       "52716       446          25   \n",
       "52717       446          35   \n",
       "52718       446          36   \n",
       "\n",
       "                                             code_string      class  line  \\\n",
       "0                                                cases b      named    48   \n",
       "1                                      unfold read read'      named    48   \n",
       "2                             cases b; unfold read read'  semicolon    48   \n",
       "3                             simp [array.read_eq_read']      named    48   \n",
       "4      cases b; unfold read read'; simp [array.read_e...  semicolon    48   \n",
       "...                                                  ...        ...   ...   \n",
       "52714                   apply not_and_of_not_right _ Hce      named   436   \n",
       "52715  { simp only [ball_cons,named_binder], apply no...     solve1   435   \n",
       "52716                                    rw [length_map]      named   446   \n",
       "52717                                            apply h      named   446   \n",
       "52718                       { rw [length_map], apply h }     solve1   446   \n",
       "\n",
       "       column  ...  tracing_parent tracing_depth tracing_type tracing_line  \\\n",
       "0           4  ...         48:11:2           3.0        named         48.0   \n",
       "1          13  ...         48:11:2           3.0        named         48.0   \n",
       "2          11  ...         48:11:1           2.0    semicolon         48.0   \n",
       "3          32  ...         48:11:1           2.0        named         48.0   \n",
       "4          30  ...           0:0:0           1.0    semicolon         48.0   \n",
       "...       ...  ...             ...           ...          ...          ...   \n",
       "52714      29  ...        436:63:1           2.0        named        436.0   \n",
       "52715      27  ...           0:0:0           1.0    begin_end        435.0   \n",
       "52716      10  ...        446:35:1           2.0        named        446.0   \n",
       "52717      27  ...        446:35:1           2.0        named        446.0   \n",
       "52718       8  ...           0:0:0           1.0    begin_end        446.0   \n",
       "\n",
       "      tracing_column  tracing_preceeding_symbol tracing_preceeding_line  \\\n",
       "0                4.0                         by                    48.0   \n",
       "1               13.0                          ;                    48.0   \n",
       "2                4.0                         by                    48.0   \n",
       "3               32.0                          ;                    48.0   \n",
       "4                4.0                         by                    48.0   \n",
       "...              ...                        ...                     ...   \n",
       "52714           29.0                          ,                   435.0   \n",
       "52715           27.0                         by                   435.0   \n",
       "52716           10.0                          {                   446.0   \n",
       "52717           27.0                          ,                   446.0   \n",
       "52718            8.0                         by                   446.0   \n",
       "\n",
       "       tracing_preceeding_column  tracing_semicolon_reverse_depth  \\\n",
       "0                            1.0                              0.0   \n",
       "1                           11.0                              0.0   \n",
       "2                            1.0                              1.0   \n",
       "3                           30.0                              0.0   \n",
       "4                            1.0                              2.0   \n",
       "...                          ...                              ...   \n",
       "52714                       63.0                              0.0   \n",
       "52715                       24.0                              0.0   \n",
       "52716                        8.0                              0.0   \n",
       "52717                       25.0                              0.0   \n",
       "52718                        5.0                              0.0   \n",
       "\n",
       "                        tactic_tracing_key  \n",
       "0                                      NaN  \n",
       "1                                      NaN  \n",
       "2      lean/library/data/buffer.lean:48:11  \n",
       "3                                      NaN  \n",
       "4      lean/library/data/buffer.lean:48:30  \n",
       "...                                    ...  \n",
       "52714                                  NaN  \n",
       "52715                                  NaN  \n",
       "52716                                  NaN  \n",
       "52717                                  NaN  \n",
       "52718                                  NaN  \n",
       "\n",
       "[52719 rows x 24 columns]"
      ],
      "text/html": "<div>\n<style scoped>\n    .dataframe tbody tr th:only-of-type {\n        vertical-align: middle;\n    }\n\n    .dataframe tbody tr th {\n        vertical-align: top;\n    }\n\n    .dataframe thead th {\n        text-align: right;\n    }\n</style>\n<table border=\"1\" class=\"dataframe\">\n  <thead>\n    <tr style=\"text-align: right;\">\n      <th></th>\n      <th>key</th>\n      <th>filename</th>\n      <th>start_line</th>\n      <th>start_column</th>\n      <th>end_line</th>\n      <th>end_column</th>\n      <th>code_string</th>\n      <th>class</th>\n      <th>line</th>\n      <th>column</th>\n      <th>...</th>\n      <th>tracing_parent</th>\n      <th>tracing_depth</th>\n      <th>tracing_type</th>\n      <th>tracing_line</th>\n      <th>tracing_column</th>\n      <th>tracing_preceeding_symbol</th>\n      <th>tracing_preceeding_line</th>\n      <th>tracing_preceeding_column</th>\n      <th>tracing_semicolon_reverse_depth</th>\n      <th>tactic_tracing_key</th>\n    </tr>\n  </thead>\n  <tbody>\n    <tr>\n      <th>0</th>\n      <td>lean/library/data/buffer.lean:48:4</td>\n      <td>lean/library/data/buffer.lean</td>\n      <td>48</td>\n      <td>4</td>\n      <td>48</td>\n      <td>11</td>\n      <td>cases b</td>\n      <td>named</td>\n      <td>48</td>\n      <td>4</td>\n      <td>...</td>\n      <td>48:11:2</td>\n      <td>3.0</td>\n      <td>named</td>\n      <td>48.0</td>\n      <td>4.0</td>\n      <td>by</td>\n      <td>48.0</td>\n      <td>1.0</td>\n      <td>0.0</td>\n      <td>NaN</td>\n    </tr>\n    <tr>\n      <th>1</th>\n      <td>lean/library/data/buffer.lean:48:13</td>\n      <td>lean/library/data/buffer.lean</td>\n      <td>48</td>\n      <td>13</td>\n      <td>48</td>\n      <td>30</td>\n      <td>unfold read read'</td>\n      <td>named</td>\n      <td>48</td>\n      <td>13</td>\n      <td>...</td>\n      <td>48:11:2</td>\n      <td>3.0</td>\n      <td>named</td>\n      <td>48.0</td>\n      <td>13.0</td>\n      <td>;</td>\n      <td>48.0</td>\n      <td>11.0</td>\n      <td>0.0</td>\n      <td>NaN</td>\n    </tr>\n    <tr>\n      <th>2</th>\n      <td>lean/library/data/buffer.lean:48:11</td>\n      <td>lean/library/data/buffer.lean</td>\n      <td>48</td>\n      <td>4</td>\n      <td>48</td>\n      <td>30</td>\n      <td>cases b; unfold read read'</td>\n      <td>semicolon</td>\n      <td>48</td>\n      <td>11</td>\n      <td>...</td>\n      <td>48:11:1</td>\n      <td>2.0</td>\n      <td>semicolon</td>\n      <td>48.0</td>\n      <td>4.0</td>\n      <td>by</td>\n      <td>48.0</td>\n      <td>1.0</td>\n      <td>1.0</td>\n      <td>lean/library/data/buffer.lean:48:11</td>\n    </tr>\n    <tr>\n      <th>3</th>\n      <td>lean/library/data/buffer.lean:48:32</td>\n      <td>lean/library/data/buffer.lean</td>\n      <td>48</td>\n      <td>32</td>\n      <td>50</td>\n      <td>1</td>\n      <td>simp [array.read_eq_read']</td>\n      <td>named</td>\n      <td>48</td>\n      <td>32</td>\n      <td>...</td>\n      <td>48:11:1</td>\n      <td>2.0</td>\n      <td>named</td>\n      <td>48.0</td>\n      <td>32.0</td>\n      <td>;</td>\n      <td>48.0</td>\n      <td>30.0</td>\n      <td>0.0</td>\n      <td>NaN</td>\n    </tr>\n    <tr>\n      <th>4</th>\n      <td>lean/library/data/buffer.lean:48:30</td>\n      <td>lean/library/data/buffer.lean</td>\n      <td>48</td>\n      <td>4</td>\n      <td>50</td>\n      <td>1</td>\n      <td>cases b; unfold read read'; simp [array.read_e...</td>\n      <td>semicolon</td>\n      <td>48</td>\n      <td>30</td>\n      <td>...</td>\n      <td>0:0:0</td>\n      <td>1.0</td>\n      <td>semicolon</td>\n      <td>48.0</td>\n      <td>4.0</td>\n      <td>by</td>\n      <td>48.0</td>\n      <td>1.0</td>\n      <td>2.0</td>\n      <td>lean/library/data/buffer.lean:48:30</td>\n    </tr>\n    <tr>\n      <th>...</th>\n      <td>...</td>\n      <td>...</td>\n      <td>...</td>\n      <td>...</td>\n      <td>...</td>\n      <td>...</td>\n      <td>...</td>\n      <td>...</td>\n      <td>...</td>\n      <td>...</td>\n      <td>...</td>\n      <td>...</td>\n      <td>...</td>\n      <td>...</td>\n      <td>...</td>\n      <td>...</td>\n      <td>...</td>\n      <td>...</td>\n      <td>...</td>\n      <td>...</td>\n      <td>...</td>\n    </tr>\n    <tr>\n      <th>52714</th>\n      <td>mathlib/src/testing/slim_check/testable.lean:4...</td>\n      <td>mathlib/src/testing/slim_check/testable.lean</td>\n      <td>436</td>\n      <td>29</td>\n      <td>436</td>\n      <td>61</td>\n      <td>apply not_and_of_not_right _ Hce</td>\n      <td>named</td>\n      <td>436</td>\n      <td>29</td>\n      <td>...</td>\n      <td>436:63:1</td>\n      <td>2.0</td>\n      <td>named</td>\n      <td>436.0</td>\n      <td>29.0</td>\n      <td>,</td>\n      <td>435.0</td>\n      <td>63.0</td>\n      <td>0.0</td>\n      <td>NaN</td>\n    </tr>\n    <tr>\n      <th>52715</th>\n      <td>mathlib/src/testing/slim_check/testable.lean:4...</td>\n      <td>mathlib/src/testing/slim_check/testable.lean</td>\n      <td>435</td>\n      <td>27</td>\n      <td>436</td>\n      <td>64</td>\n      <td>{ simp only [ball_cons,named_binder], apply no...</td>\n      <td>solve1</td>\n      <td>435</td>\n      <td>27</td>\n      <td>...</td>\n      <td>0:0:0</td>\n      <td>1.0</td>\n      <td>begin_end</td>\n      <td>435.0</td>\n      <td>27.0</td>\n      <td>by</td>\n      <td>435.0</td>\n      <td>24.0</td>\n      <td>0.0</td>\n      <td>NaN</td>\n    </tr>\n    <tr>\n      <th>52716</th>\n      <td>mathlib/src/testing/slim_check/testable.lean:4...</td>\n      <td>mathlib/src/testing/slim_check/testable.lean</td>\n      <td>446</td>\n      <td>10</td>\n      <td>446</td>\n      <td>25</td>\n      <td>rw [length_map]</td>\n      <td>named</td>\n      <td>446</td>\n      <td>10</td>\n      <td>...</td>\n      <td>446:35:1</td>\n      <td>2.0</td>\n      <td>named</td>\n      <td>446.0</td>\n      <td>10.0</td>\n      <td>{</td>\n      <td>446.0</td>\n      <td>8.0</td>\n      <td>0.0</td>\n      <td>NaN</td>\n    </tr>\n    <tr>\n      <th>52717</th>\n      <td>mathlib/src/testing/slim_check/testable.lean:4...</td>\n      <td>mathlib/src/testing/slim_check/testable.lean</td>\n      <td>446</td>\n      <td>27</td>\n      <td>446</td>\n      <td>35</td>\n      <td>apply h</td>\n      <td>named</td>\n      <td>446</td>\n      <td>27</td>\n      <td>...</td>\n      <td>446:35:1</td>\n      <td>2.0</td>\n      <td>named</td>\n      <td>446.0</td>\n      <td>27.0</td>\n      <td>,</td>\n      <td>446.0</td>\n      <td>25.0</td>\n      <td>0.0</td>\n      <td>NaN</td>\n    </tr>\n    <tr>\n      <th>52718</th>\n      <td>mathlib/src/testing/slim_check/testable.lean:4...</td>\n      <td>mathlib/src/testing/slim_check/testable.lean</td>\n      <td>446</td>\n      <td>8</td>\n      <td>446</td>\n      <td>36</td>\n      <td>{ rw [length_map], apply h }</td>\n      <td>solve1</td>\n      <td>446</td>\n      <td>8</td>\n      <td>...</td>\n      <td>0:0:0</td>\n      <td>1.0</td>\n      <td>begin_end</td>\n      <td>446.0</td>\n      <td>8.0</td>\n      <td>by</td>\n      <td>446.0</td>\n      <td>5.0</td>\n      <td>0.0</td>\n      <td>NaN</td>\n    </tr>\n  </tbody>\n</table>\n<p>52719 rows × 24 columns</p>\n</div>"
     },
     "metadata": {},
     "execution_count": 24
    }
   ],
   "source": [
    "tactics = pd.read_json(DATA_DIRECTORY + 'extracted_proof_data/tactics.json', orient='records')\n",
    "tactics"
   ]
  },
  {
   "source": [
    "`args.json` contains the Lean human-written text for all tactic arguements along with some other extracted information."
   ],
   "cell_type": "markdown",
   "metadata": {}
  },
  {
   "cell_type": "code",
   "execution_count": 25,
   "metadata": {},
   "outputs": [
    {
     "output_type": "execute_result",
     "data": {
      "text/plain": [
       "                                                     key  \\\n",
       "0                    lean/library/data/buffer.lean:48:10   \n",
       "1                    lean/library/data/buffer.lean:48:11   \n",
       "2                    lean/library/data/buffer.lean:48:20   \n",
       "3                    lean/library/data/buffer.lean:48:30   \n",
       "4                    lean/library/data/buffer.lean:48:37   \n",
       "...                                                  ...   \n",
       "59256  mathlib/src/testing/slim_check/testable.lean:4...   \n",
       "59257  mathlib/src/testing/slim_check/testable.lean:4...   \n",
       "59258  mathlib/src/testing/slim_check/testable.lean:4...   \n",
       "59259  mathlib/src/testing/slim_check/testable.lean:4...   \n",
       "59260  mathlib/src/testing/slim_check/testable.lean:4...   \n",
       "\n",
       "                                           filename  start_line  start_column  \\\n",
       "0                     lean/library/data/buffer.lean          48            10   \n",
       "1                     lean/library/data/buffer.lean          48            11   \n",
       "2                     lean/library/data/buffer.lean          48            20   \n",
       "3                     lean/library/data/buffer.lean          48            30   \n",
       "4                     lean/library/data/buffer.lean          48            37   \n",
       "...                                             ...         ...           ...   \n",
       "59256  mathlib/src/testing/slim_check/testable.lean         435            63   \n",
       "59257  mathlib/src/testing/slim_check/testable.lean         436            35   \n",
       "59258  mathlib/src/testing/slim_check/testable.lean         446            13   \n",
       "59259  mathlib/src/testing/slim_check/testable.lean         446            25   \n",
       "59260  mathlib/src/testing/slim_check/testable.lean         446            33   \n",
       "\n",
       "       end_line  end_column                 code_string       class  line  \\\n",
       "0            48          11                           b  expression    48   \n",
       "1            48          11                              expression    48   \n",
       "2            48          30                  read read'  expression    48   \n",
       "3            48          30                              expression    48   \n",
       "4            50           1       [array.read_eq_read']  expression    48   \n",
       "...         ...         ...                         ...         ...   ...   \n",
       "59256       435          63                              expression   435   \n",
       "59257       436          61  not_and_of_not_right _ Hce  expression   436   \n",
       "59258       446          25                [length_map]  expression   446   \n",
       "59259       446          25                              expression   446   \n",
       "59260       446          35                           h  expression   446   \n",
       "\n",
       "       column  \n",
       "0          10  \n",
       "1          11  \n",
       "2          20  \n",
       "3          30  \n",
       "4          37  \n",
       "...       ...  \n",
       "59256      63  \n",
       "59257      35  \n",
       "59258      13  \n",
       "59259      25  \n",
       "59260      33  \n",
       "\n",
       "[59261 rows x 10 columns]"
      ],
      "text/html": "<div>\n<style scoped>\n    .dataframe tbody tr th:only-of-type {\n        vertical-align: middle;\n    }\n\n    .dataframe tbody tr th {\n        vertical-align: top;\n    }\n\n    .dataframe thead th {\n        text-align: right;\n    }\n</style>\n<table border=\"1\" class=\"dataframe\">\n  <thead>\n    <tr style=\"text-align: right;\">\n      <th></th>\n      <th>key</th>\n      <th>filename</th>\n      <th>start_line</th>\n      <th>start_column</th>\n      <th>end_line</th>\n      <th>end_column</th>\n      <th>code_string</th>\n      <th>class</th>\n      <th>line</th>\n      <th>column</th>\n    </tr>\n  </thead>\n  <tbody>\n    <tr>\n      <th>0</th>\n      <td>lean/library/data/buffer.lean:48:10</td>\n      <td>lean/library/data/buffer.lean</td>\n      <td>48</td>\n      <td>10</td>\n      <td>48</td>\n      <td>11</td>\n      <td>b</td>\n      <td>expression</td>\n      <td>48</td>\n      <td>10</td>\n    </tr>\n    <tr>\n      <th>1</th>\n      <td>lean/library/data/buffer.lean:48:11</td>\n      <td>lean/library/data/buffer.lean</td>\n      <td>48</td>\n      <td>11</td>\n      <td>48</td>\n      <td>11</td>\n      <td></td>\n      <td>expression</td>\n      <td>48</td>\n      <td>11</td>\n    </tr>\n    <tr>\n      <th>2</th>\n      <td>lean/library/data/buffer.lean:48:20</td>\n      <td>lean/library/data/buffer.lean</td>\n      <td>48</td>\n      <td>20</td>\n      <td>48</td>\n      <td>30</td>\n      <td>read read'</td>\n      <td>expression</td>\n      <td>48</td>\n      <td>20</td>\n    </tr>\n    <tr>\n      <th>3</th>\n      <td>lean/library/data/buffer.lean:48:30</td>\n      <td>lean/library/data/buffer.lean</td>\n      <td>48</td>\n      <td>30</td>\n      <td>48</td>\n      <td>30</td>\n      <td></td>\n      <td>expression</td>\n      <td>48</td>\n      <td>30</td>\n    </tr>\n    <tr>\n      <th>4</th>\n      <td>lean/library/data/buffer.lean:48:37</td>\n      <td>lean/library/data/buffer.lean</td>\n      <td>48</td>\n      <td>37</td>\n      <td>50</td>\n      <td>1</td>\n      <td>[array.read_eq_read']</td>\n      <td>expression</td>\n      <td>48</td>\n      <td>37</td>\n    </tr>\n    <tr>\n      <th>...</th>\n      <td>...</td>\n      <td>...</td>\n      <td>...</td>\n      <td>...</td>\n      <td>...</td>\n      <td>...</td>\n      <td>...</td>\n      <td>...</td>\n      <td>...</td>\n      <td>...</td>\n    </tr>\n    <tr>\n      <th>59256</th>\n      <td>mathlib/src/testing/slim_check/testable.lean:4...</td>\n      <td>mathlib/src/testing/slim_check/testable.lean</td>\n      <td>435</td>\n      <td>63</td>\n      <td>435</td>\n      <td>63</td>\n      <td></td>\n      <td>expression</td>\n      <td>435</td>\n      <td>63</td>\n    </tr>\n    <tr>\n      <th>59257</th>\n      <td>mathlib/src/testing/slim_check/testable.lean:4...</td>\n      <td>mathlib/src/testing/slim_check/testable.lean</td>\n      <td>436</td>\n      <td>35</td>\n      <td>436</td>\n      <td>61</td>\n      <td>not_and_of_not_right _ Hce</td>\n      <td>expression</td>\n      <td>436</td>\n      <td>35</td>\n    </tr>\n    <tr>\n      <th>59258</th>\n      <td>mathlib/src/testing/slim_check/testable.lean:4...</td>\n      <td>mathlib/src/testing/slim_check/testable.lean</td>\n      <td>446</td>\n      <td>13</td>\n      <td>446</td>\n      <td>25</td>\n      <td>[length_map]</td>\n      <td>expression</td>\n      <td>446</td>\n      <td>13</td>\n    </tr>\n    <tr>\n      <th>59259</th>\n      <td>mathlib/src/testing/slim_check/testable.lean:4...</td>\n      <td>mathlib/src/testing/slim_check/testable.lean</td>\n      <td>446</td>\n      <td>25</td>\n      <td>446</td>\n      <td>25</td>\n      <td></td>\n      <td>expression</td>\n      <td>446</td>\n      <td>25</td>\n    </tr>\n    <tr>\n      <th>59260</th>\n      <td>mathlib/src/testing/slim_check/testable.lean:4...</td>\n      <td>mathlib/src/testing/slim_check/testable.lean</td>\n      <td>446</td>\n      <td>33</td>\n      <td>446</td>\n      <td>35</td>\n      <td>h</td>\n      <td>expression</td>\n      <td>446</td>\n      <td>33</td>\n    </tr>\n  </tbody>\n</table>\n<p>59261 rows × 10 columns</p>\n</div>"
     },
     "metadata": {},
     "execution_count": 25
    }
   ],
   "source": [
    "args = pd.read_json(DATA_DIRECTORY + 'extracted_proof_data/args.json', orient='records')\n",
    "args"
   ]
  },
  {
   "source": [
    "## Examples of combining data"
   ],
   "cell_type": "markdown",
   "metadata": {}
  },
  {
   "source": [
    "Here we combine the above data sources to make a table containing:\n",
    "* First goals in the goal stack before the tactic is executed\n",
    "* The human written tactic command\n",
    "* A little metadata about the type of tactic.  If a \"named\" tactic, then the tactic name is the first word in the tactic command."
   ],
   "cell_type": "markdown",
   "metadata": {}
  },
  {
   "cell_type": "code",
   "execution_count": 31,
   "metadata": {},
   "outputs": [
    {
     "output_type": "execute_result",
     "data": {
      "text/plain": [
       "                                                 goal_pp  \\\n",
       "0      α : Type u,\\n_inst_1 : inhabited α,\\nb : buffe...   \n",
       "1      α : Type u,\\n_inst_1 : inhabited α,\\nb : buffe...   \n",
       "2      α : Type u,\\n_inst_1 : inhabited α,\\ni b_fst :...   \n",
       "3      α : Type u,\\n_inst_1 : inhabited α,\\ni b_fst :...   \n",
       "4      α : Type u,\\n_inst_1 : inhabited α,\\nb : buffe...   \n",
       "...                                                  ...   \n",
       "56086  var var' : string,\\nα : Type u,\\nβ : α → Prop,...   \n",
       "56087  var var' : string,\\nα : Type u,\\nβ : α → Prop,...   \n",
       "56088  p : Prop,\\nt : list (testable p),\\nh : 0 < t.l...   \n",
       "56089  p : Prop,\\nt : list (testable p),\\nh : 0 < t.l...   \n",
       "56090  p : Prop,\\nt : list (testable p),\\nh : 0 < t.l...   \n",
       "\n",
       "                                       human_tactic_code tactic_class  \n",
       "0      cases b; unfold read read'; simp [array.read_e...    semicolon  \n",
       "1                             cases b; unfold read read'    semicolon  \n",
       "2                                      unfold read read'        named  \n",
       "3                             simp [array.read_eq_read']        named  \n",
       "4                                                cases b        named  \n",
       "...                                                  ...          ...  \n",
       "56086                   apply not_and_of_not_right _ Hce        named  \n",
       "56087  { simp only [ball_cons,named_binder], apply no...       solve1  \n",
       "56088                                    rw [length_map]        named  \n",
       "56089                                            apply h        named  \n",
       "56090                       { rw [length_map], apply h }       solve1  \n",
       "\n",
       "[55703 rows x 3 columns]"
      ],
      "text/html": "<div>\n<style scoped>\n    .dataframe tbody tr th:only-of-type {\n        vertical-align: middle;\n    }\n\n    .dataframe tbody tr th {\n        vertical-align: top;\n    }\n\n    .dataframe thead th {\n        text-align: right;\n    }\n</style>\n<table border=\"1\" class=\"dataframe\">\n  <thead>\n    <tr style=\"text-align: right;\">\n      <th></th>\n      <th>goal_pp</th>\n      <th>human_tactic_code</th>\n      <th>tactic_class</th>\n    </tr>\n  </thead>\n  <tbody>\n    <tr>\n      <th>0</th>\n      <td>α : Type u,\\n_inst_1 : inhabited α,\\nb : buffe...</td>\n      <td>cases b; unfold read read'; simp [array.read_e...</td>\n      <td>semicolon</td>\n    </tr>\n    <tr>\n      <th>1</th>\n      <td>α : Type u,\\n_inst_1 : inhabited α,\\nb : buffe...</td>\n      <td>cases b; unfold read read'</td>\n      <td>semicolon</td>\n    </tr>\n    <tr>\n      <th>2</th>\n      <td>α : Type u,\\n_inst_1 : inhabited α,\\ni b_fst :...</td>\n      <td>unfold read read'</td>\n      <td>named</td>\n    </tr>\n    <tr>\n      <th>3</th>\n      <td>α : Type u,\\n_inst_1 : inhabited α,\\ni b_fst :...</td>\n      <td>simp [array.read_eq_read']</td>\n      <td>named</td>\n    </tr>\n    <tr>\n      <th>4</th>\n      <td>α : Type u,\\n_inst_1 : inhabited α,\\nb : buffe...</td>\n      <td>cases b</td>\n      <td>named</td>\n    </tr>\n    <tr>\n      <th>...</th>\n      <td>...</td>\n      <td>...</td>\n      <td>...</td>\n    </tr>\n    <tr>\n      <th>56086</th>\n      <td>var var' : string,\\nα : Type u,\\nβ : α → Prop,...</td>\n      <td>apply not_and_of_not_right _ Hce</td>\n      <td>named</td>\n    </tr>\n    <tr>\n      <th>56087</th>\n      <td>var var' : string,\\nα : Type u,\\nβ : α → Prop,...</td>\n      <td>{ simp only [ball_cons,named_binder], apply no...</td>\n      <td>solve1</td>\n    </tr>\n    <tr>\n      <th>56088</th>\n      <td>p : Prop,\\nt : list (testable p),\\nh : 0 &lt; t.l...</td>\n      <td>rw [length_map]</td>\n      <td>named</td>\n    </tr>\n    <tr>\n      <th>56089</th>\n      <td>p : Prop,\\nt : list (testable p),\\nh : 0 &lt; t.l...</td>\n      <td>apply h</td>\n      <td>named</td>\n    </tr>\n    <tr>\n      <th>56090</th>\n      <td>p : Prop,\\nt : list (testable p),\\nh : 0 &lt; t.l...</td>\n      <td>{ rw [length_map], apply h }</td>\n      <td>solve1</td>\n    </tr>\n  </tbody>\n</table>\n<p>55703 rows × 3 columns</p>\n</div>"
     },
     "metadata": {},
     "execution_count": 31
    }
   ],
   "source": [
    "df = tactic_state_goal.copy()\n",
    "df = df[df['ix'] == 0]\n",
    "#df['key'] = df['filename'] + \":\" + df['key']\n",
    "df['tactic_state_key'] = df['filename'] + \":\" + df['tactic_state']\n",
    "df = df[['tactic_state_key', 'goal_pp']]\n",
    "df = df.set_index('tactic_state_key')\n",
    "\n",
    "df2 = tactic_state.copy()\n",
    "df2 = df2[df2['before_after'] == 'before']\n",
    "df2['tactic_state_key'] = df2['filename'] + \":\" + df2['key']\n",
    "df2['tactic_instance_key'] = df2['filename'] + \":\" + df2['tactic_instance']\n",
    "df2['tactic_key'] = df2['tactic_instance_key'].apply(lambda k: \":\".join(k.split(\":\")[:-1]))\n",
    "df2 = df2[['tactic_state_key', 'tactic_instance_key', 'tactic_key']]\n",
    "df2 = df2.set_index('tactic_state_key')\n",
    "\n",
    "df = df.join(df2)\n",
    "df = df.set_index('tactic_key')\n",
    "df.head()\n",
    "\n",
    "df3 = tactics.copy()\n",
    "df3['tactic_key'] = df3['filename'] + \":\" + df3['trace_key']\n",
    "df3 = df3[['tactic_key', 'code_string', 'class']]\n",
    "df3 = df3.set_index('tactic_key')\n",
    "df = df.join(df3)\n",
    "df = df.reset_index()\n",
    "df = df[['goal_pp', 'code_string', 'class']]\n",
    "df = df.rename(columns={'class': 'tactic_class', 'code_string': 'human_tactic_code'})\n",
    "# some tactics are recorded by the tracing code, but correspond to tactics \n",
    "# instances in a `[...] block in, possibly, another file.  They are dropped here.\n",
    "df = df.dropna()  \n",
    "\n",
    "goals_and_tactics = df\n",
    "goals_and_tactics"
   ]
  },
  {
   "source": [
    "Here we connect tactic arguments as recorded with their code.  (After a few modifications to the proof extraction code, we will be able to combine this with the above dataset.  Also, there is still some more work to do to get this dataset to align properly.)"
   ],
   "cell_type": "markdown",
   "metadata": {}
  },
  {
   "cell_type": "code",
   "execution_count": 55,
   "metadata": {},
   "outputs": [
    {
     "output_type": "execute_result",
     "data": {
      "text/plain": [
       "                      code_string  \\\n",
       "0                               b   \n",
       "1                                   \n",
       "2                      read read'   \n",
       "3                                   \n",
       "4           [array.read_eq_read']   \n",
       "...                           ...   \n",
       "59685                               \n",
       "59686  not_and_of_not_right _ Hce   \n",
       "59687                [length_map]   \n",
       "59688                               \n",
       "59689                           h   \n",
       "\n",
       "                                       reflected_expr_pp  \n",
       "0                                     (none name, ``(b))  \n",
       "1                                               list.nil  \n",
       "2      [name.mk_string \"read\" name.anonymous, name.mk...  \n",
       "3                              interactive.loc.ns [none]  \n",
       "4      [tactic.simp_arg_type.expr ``(array.read_eq_re...  \n",
       "...                                                  ...  \n",
       "59685                          interactive.loc.ns [none]  \n",
       "59686                     ``(not_and_of_not_right _ Hce)  \n",
       "59687  {rules := [{pos := {line := 446, column := 13}...  \n",
       "59688                          interactive.loc.ns [none]  \n",
       "59689                                              ``(h)  \n",
       "\n",
       "[59690 rows x 2 columns]"
      ],
      "text/html": "<div>\n<style scoped>\n    .dataframe tbody tr th:only-of-type {\n        vertical-align: middle;\n    }\n\n    .dataframe tbody tr th {\n        vertical-align: top;\n    }\n\n    .dataframe thead th {\n        text-align: right;\n    }\n</style>\n<table border=\"1\" class=\"dataframe\">\n  <thead>\n    <tr style=\"text-align: right;\">\n      <th></th>\n      <th>code_string</th>\n      <th>reflected_expr_pp</th>\n    </tr>\n  </thead>\n  <tbody>\n    <tr>\n      <th>0</th>\n      <td>b</td>\n      <td>(none name, ``(b))</td>\n    </tr>\n    <tr>\n      <th>1</th>\n      <td></td>\n      <td>list.nil</td>\n    </tr>\n    <tr>\n      <th>2</th>\n      <td>read read'</td>\n      <td>[name.mk_string \"read\" name.anonymous, name.mk...</td>\n    </tr>\n    <tr>\n      <th>3</th>\n      <td></td>\n      <td>interactive.loc.ns [none]</td>\n    </tr>\n    <tr>\n      <th>4</th>\n      <td>[array.read_eq_read']</td>\n      <td>[tactic.simp_arg_type.expr ``(array.read_eq_re...</td>\n    </tr>\n    <tr>\n      <th>...</th>\n      <td>...</td>\n      <td>...</td>\n    </tr>\n    <tr>\n      <th>59685</th>\n      <td></td>\n      <td>interactive.loc.ns [none]</td>\n    </tr>\n    <tr>\n      <th>59686</th>\n      <td>not_and_of_not_right _ Hce</td>\n      <td>``(not_and_of_not_right _ Hce)</td>\n    </tr>\n    <tr>\n      <th>59687</th>\n      <td>[length_map]</td>\n      <td>{rules := [{pos := {line := 446, column := 13}...</td>\n    </tr>\n    <tr>\n      <th>59688</th>\n      <td></td>\n      <td>interactive.loc.ns [none]</td>\n    </tr>\n    <tr>\n      <th>59689</th>\n      <td>h</td>\n      <td>``(h)</td>\n    </tr>\n  </tbody>\n</table>\n<p>59690 rows × 2 columns</p>\n</div>"
     },
     "metadata": {},
     "execution_count": 55
    }
   ],
   "source": [
    "df = tactic_param_value.copy()\n",
    "df['key'] = df['filename'] + \":\" + df['key']\n",
    "df = df.set_index('key')\n",
    "df = df[['reflected_expr_pp']]\n",
    "\n",
    "df2 = args.copy()\n",
    "df2 = df2.set_index('key')\n",
    "df2 = df2[['code_string']]\n",
    "df2\n",
    "\n",
    "tactic_arguments = df.join(df2).reset_index()[['code_string', 'reflected_expr_pp']]\n",
    "tactic_arguments"
   ]
  },
  {
   "source": [
    "## More coming"
   ],
   "cell_type": "markdown",
   "metadata": {}
  },
  {
   "source": [
    "The above datasets will be improved and more are coming."
   ],
   "cell_type": "markdown",
   "metadata": {}
  },
  {
   "cell_type": "code",
   "execution_count": null,
   "metadata": {},
   "outputs": [],
   "source": []
  }
 ]
}